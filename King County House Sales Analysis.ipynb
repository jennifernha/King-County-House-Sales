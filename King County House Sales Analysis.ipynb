{
 "cells": [
  {
   "cell_type": "markdown",
   "metadata": {},
   "source": [
    "<img src=\"images/seattlewaterfront.jpg\">"
   ]
  },
  {
   "cell_type": "markdown",
   "metadata": {},
   "source": [
    "# King County House Sales Analysis\n",
    "Author: Jennifer Ha\n",
    "***"
   ]
  },
  {
   "cell_type": "markdown",
   "metadata": {},
   "source": [
    "## Overview placeholder\n",
    "This analysis project explores trends in film business to provide Microsoft with actionable recommendations as they want to enter this business as well. we will review data sets from TheNumbers.com and IMDb to determine when Microsoft should release a movie, which types of genres to consider, and whom to recruit. The methodology includes filtering, and joining and visualizing data sets to show different trends in ROI. The result shows higher ROI when Mystery, Horror, and Animation movies are released in May-July, and November-December. I recommend Microsoft to partner with lists of top 10 actors and directors in those genres, and release movies during the summer (May-July) or holiday season (Nov-Dec)."
   ]
  },
  {
   "cell_type": "markdown",
   "metadata": {},
   "source": [
    "## Business Problem placeholder\n",
    "Microsoft sees all the big companies creating original video content and they want to get in on the fun. They have decided to create a new movie studio, but they don’t know anything about creating movies.\n",
    "\n",
    "In order to assist the stakeholders at Microsoft to make data-driven decisions for their new business, we will be reviewing and analyzing datasets to provide a viable and profitable business option. The findings and recommendations will help the stakeholders with better understanding of the movie industry, to decide when to release their movies and who to work with to drive a successful outcome."
   ]
  },
  {
   "cell_type": "markdown",
   "metadata": {},
   "source": [
    "## Data"
   ]
  },
  {
   "cell_type": "markdown",
   "metadata": {},
   "source": [
    "### Data Preparation & Clean Up"
   ]
  },
  {
   "cell_type": "code",
   "execution_count": 1,
   "metadata": {},
   "outputs": [
    {
     "data": {
      "text/html": [
       "<div>\n",
       "<style scoped>\n",
       "    .dataframe tbody tr th:only-of-type {\n",
       "        vertical-align: middle;\n",
       "    }\n",
       "\n",
       "    .dataframe tbody tr th {\n",
       "        vertical-align: top;\n",
       "    }\n",
       "\n",
       "    .dataframe thead th {\n",
       "        text-align: right;\n",
       "    }\n",
       "</style>\n",
       "<table border=\"1\" class=\"dataframe\">\n",
       "  <thead>\n",
       "    <tr style=\"text-align: right;\">\n",
       "      <th></th>\n",
       "      <th>id</th>\n",
       "      <th>date</th>\n",
       "      <th>price</th>\n",
       "      <th>bedrooms</th>\n",
       "      <th>bathrooms</th>\n",
       "      <th>sqft_living</th>\n",
       "      <th>sqft_lot</th>\n",
       "      <th>floors</th>\n",
       "      <th>waterfront</th>\n",
       "      <th>view</th>\n",
       "      <th>condition</th>\n",
       "      <th>grade</th>\n",
       "      <th>sqft_above</th>\n",
       "      <th>sqft_basement</th>\n",
       "      <th>yr_built</th>\n",
       "      <th>yr_renovated</th>\n",
       "      <th>zipcode</th>\n",
       "      <th>lat</th>\n",
       "      <th>long</th>\n",
       "      <th>sqft_living15</th>\n",
       "      <th>sqft_lot15</th>\n",
       "    </tr>\n",
       "  </thead>\n",
       "  <tbody>\n",
       "    <tr>\n",
       "      <th>0</th>\n",
       "      <td>7129300520</td>\n",
       "      <td>10/13/2014</td>\n",
       "      <td>221,900.00000</td>\n",
       "      <td>3</td>\n",
       "      <td>1.00000</td>\n",
       "      <td>1180</td>\n",
       "      <td>5650</td>\n",
       "      <td>1.00000</td>\n",
       "      <td>nan</td>\n",
       "      <td>0.00000</td>\n",
       "      <td>3</td>\n",
       "      <td>7</td>\n",
       "      <td>1180</td>\n",
       "      <td>0.0</td>\n",
       "      <td>1955</td>\n",
       "      <td>0.00000</td>\n",
       "      <td>98178</td>\n",
       "      <td>47.51120</td>\n",
       "      <td>-122.25700</td>\n",
       "      <td>1340</td>\n",
       "      <td>5650</td>\n",
       "    </tr>\n",
       "    <tr>\n",
       "      <th>1</th>\n",
       "      <td>6414100192</td>\n",
       "      <td>12/9/2014</td>\n",
       "      <td>538,000.00000</td>\n",
       "      <td>3</td>\n",
       "      <td>2.25000</td>\n",
       "      <td>2570</td>\n",
       "      <td>7242</td>\n",
       "      <td>2.00000</td>\n",
       "      <td>0.00000</td>\n",
       "      <td>0.00000</td>\n",
       "      <td>3</td>\n",
       "      <td>7</td>\n",
       "      <td>2170</td>\n",
       "      <td>400.0</td>\n",
       "      <td>1951</td>\n",
       "      <td>1,991.00000</td>\n",
       "      <td>98125</td>\n",
       "      <td>47.72100</td>\n",
       "      <td>-122.31900</td>\n",
       "      <td>1690</td>\n",
       "      <td>7639</td>\n",
       "    </tr>\n",
       "    <tr>\n",
       "      <th>2</th>\n",
       "      <td>5631500400</td>\n",
       "      <td>2/25/2015</td>\n",
       "      <td>180,000.00000</td>\n",
       "      <td>2</td>\n",
       "      <td>1.00000</td>\n",
       "      <td>770</td>\n",
       "      <td>10000</td>\n",
       "      <td>1.00000</td>\n",
       "      <td>0.00000</td>\n",
       "      <td>0.00000</td>\n",
       "      <td>3</td>\n",
       "      <td>6</td>\n",
       "      <td>770</td>\n",
       "      <td>0.0</td>\n",
       "      <td>1933</td>\n",
       "      <td>nan</td>\n",
       "      <td>98028</td>\n",
       "      <td>47.73790</td>\n",
       "      <td>-122.23300</td>\n",
       "      <td>2720</td>\n",
       "      <td>8062</td>\n",
       "    </tr>\n",
       "    <tr>\n",
       "      <th>3</th>\n",
       "      <td>2487200875</td>\n",
       "      <td>12/9/2014</td>\n",
       "      <td>604,000.00000</td>\n",
       "      <td>4</td>\n",
       "      <td>3.00000</td>\n",
       "      <td>1960</td>\n",
       "      <td>5000</td>\n",
       "      <td>1.00000</td>\n",
       "      <td>0.00000</td>\n",
       "      <td>0.00000</td>\n",
       "      <td>5</td>\n",
       "      <td>7</td>\n",
       "      <td>1050</td>\n",
       "      <td>910.0</td>\n",
       "      <td>1965</td>\n",
       "      <td>0.00000</td>\n",
       "      <td>98136</td>\n",
       "      <td>47.52080</td>\n",
       "      <td>-122.39300</td>\n",
       "      <td>1360</td>\n",
       "      <td>5000</td>\n",
       "    </tr>\n",
       "    <tr>\n",
       "      <th>4</th>\n",
       "      <td>1954400510</td>\n",
       "      <td>2/18/2015</td>\n",
       "      <td>510,000.00000</td>\n",
       "      <td>3</td>\n",
       "      <td>2.00000</td>\n",
       "      <td>1680</td>\n",
       "      <td>8080</td>\n",
       "      <td>1.00000</td>\n",
       "      <td>0.00000</td>\n",
       "      <td>0.00000</td>\n",
       "      <td>3</td>\n",
       "      <td>8</td>\n",
       "      <td>1680</td>\n",
       "      <td>0.0</td>\n",
       "      <td>1987</td>\n",
       "      <td>0.00000</td>\n",
       "      <td>98074</td>\n",
       "      <td>47.61680</td>\n",
       "      <td>-122.04500</td>\n",
       "      <td>1800</td>\n",
       "      <td>7503</td>\n",
       "    </tr>\n",
       "  </tbody>\n",
       "</table>\n",
       "</div>"
      ],
      "text/plain": [
       "           id        date         price  bedrooms  bathrooms  sqft_living  \\\n",
       "0  7129300520  10/13/2014 221,900.00000         3    1.00000         1180   \n",
       "1  6414100192   12/9/2014 538,000.00000         3    2.25000         2570   \n",
       "2  5631500400   2/25/2015 180,000.00000         2    1.00000          770   \n",
       "3  2487200875   12/9/2014 604,000.00000         4    3.00000         1960   \n",
       "4  1954400510   2/18/2015 510,000.00000         3    2.00000         1680   \n",
       "\n",
       "   sqft_lot  floors  waterfront    view  condition  grade  sqft_above  \\\n",
       "0      5650 1.00000         nan 0.00000          3      7        1180   \n",
       "1      7242 2.00000     0.00000 0.00000          3      7        2170   \n",
       "2     10000 1.00000     0.00000 0.00000          3      6         770   \n",
       "3      5000 1.00000     0.00000 0.00000          5      7        1050   \n",
       "4      8080 1.00000     0.00000 0.00000          3      8        1680   \n",
       "\n",
       "  sqft_basement  yr_built  yr_renovated  zipcode      lat       long  \\\n",
       "0           0.0      1955       0.00000    98178 47.51120 -122.25700   \n",
       "1         400.0      1951   1,991.00000    98125 47.72100 -122.31900   \n",
       "2           0.0      1933           nan    98028 47.73790 -122.23300   \n",
       "3         910.0      1965       0.00000    98136 47.52080 -122.39300   \n",
       "4           0.0      1987       0.00000    98074 47.61680 -122.04500   \n",
       "\n",
       "   sqft_living15  sqft_lot15  \n",
       "0           1340        5650  \n",
       "1           1690        7639  \n",
       "2           2720        8062  \n",
       "3           1360        5000  \n",
       "4           1800        7503  "
      ]
     },
     "execution_count": 1,
     "metadata": {},
     "output_type": "execute_result"
    }
   ],
   "source": [
    "# Import all libraries & packages\n",
    "import numpy as np\n",
    "import pandas as pd\n",
    "from pandas.plotting import table\n",
    "import matplotlib.pyplot as plt\n",
    "import matplotlib.colors as pltcol\n",
    "import seaborn as sns\n",
    "import math\n",
    "\n",
    "import statsmodels.api as sm\n",
    "import statsmodels.formula.api as smf\n",
    "import statsmodels.tools.eval_measures as ev\n",
    "from sklearn.linear_model import LinearRegression\n",
    "from sklearn.model_selection import train_test_split\n",
    "from sklearn.metrics import r2_score,mean_absolute_error, make_scorer\n",
    "from sklearn.model_selection import cross_val_score\n",
    "from scipy.special import boxcox, inv_boxcox\n",
    "from matplotlib.gridspec import GridSpec\n",
    "\n",
    "import scipy.stats as stats\n",
    "from statsmodels.formula.api import ols\n",
    "\n",
    "import warnings\n",
    "warnings.simplefilter(action=\"ignore\", category=FutureWarning)\n",
    "\n",
    "%matplotlib inline\n",
    "\n",
    "# Import my personal functions \n",
    "from functions import metrics, result_plot\n",
    "\n",
    "# Remove scientific notation\n",
    "pd.options.display.float_format = '{:,.5f}'.format\n",
    "\n",
    "# Display all the columns without truncation\n",
    "pd.set_option('display.max_columns', None)\n",
    "\n",
    "# Import data into a dataframe and preview \n",
    "df = pd.read_csv('data/kc_house_data.csv')\n",
    "df.head()"
   ]
  },
  {
   "cell_type": "code",
   "execution_count": 2,
   "metadata": {},
   "outputs": [
    {
     "name": "stdout",
     "output_type": "stream",
     "text": [
      "<class 'pandas.core.frame.DataFrame'>\n",
      "RangeIndex: 21597 entries, 0 to 21596\n",
      "Data columns (total 21 columns):\n",
      " #   Column         Non-Null Count  Dtype  \n",
      "---  ------         --------------  -----  \n",
      " 0   id             21597 non-null  int64  \n",
      " 1   date           21597 non-null  object \n",
      " 2   price          21597 non-null  float64\n",
      " 3   bedrooms       21597 non-null  int64  \n",
      " 4   bathrooms      21597 non-null  float64\n",
      " 5   sqft_living    21597 non-null  int64  \n",
      " 6   sqft_lot       21597 non-null  int64  \n",
      " 7   floors         21597 non-null  float64\n",
      " 8   waterfront     19221 non-null  float64\n",
      " 9   view           21534 non-null  float64\n",
      " 10  condition      21597 non-null  int64  \n",
      " 11  grade          21597 non-null  int64  \n",
      " 12  sqft_above     21597 non-null  int64  \n",
      " 13  sqft_basement  21597 non-null  object \n",
      " 14  yr_built       21597 non-null  int64  \n",
      " 15  yr_renovated   17755 non-null  float64\n",
      " 16  zipcode        21597 non-null  int64  \n",
      " 17  lat            21597 non-null  float64\n",
      " 18  long           21597 non-null  float64\n",
      " 19  sqft_living15  21597 non-null  int64  \n",
      " 20  sqft_lot15     21597 non-null  int64  \n",
      "dtypes: float64(8), int64(11), object(2)\n",
      "memory usage: 3.5+ MB\n"
     ]
    }
   ],
   "source": [
    "# Get summary of the DataFrame\n",
    "df.info()"
   ]
  },
  {
   "cell_type": "markdown",
   "metadata": {},
   "source": [
    "### Check for Duplicates"
   ]
  },
  {
   "cell_type": "code",
   "execution_count": 3,
   "metadata": {},
   "outputs": [
    {
     "data": {
      "text/plain": [
       "177"
      ]
     },
     "execution_count": 3,
     "metadata": {},
     "output_type": "execute_result"
    }
   ],
   "source": [
    "# Check for duplicates in 'id' which should work as index\n",
    "df.id.duplicated().sum()"
   ]
  },
  {
   "cell_type": "code",
   "execution_count": 4,
   "metadata": {},
   "outputs": [
    {
     "data": {
      "text/html": [
       "<div>\n",
       "<style scoped>\n",
       "    .dataframe tbody tr th:only-of-type {\n",
       "        vertical-align: middle;\n",
       "    }\n",
       "\n",
       "    .dataframe tbody tr th {\n",
       "        vertical-align: top;\n",
       "    }\n",
       "\n",
       "    .dataframe thead th {\n",
       "        text-align: right;\n",
       "    }\n",
       "</style>\n",
       "<table border=\"1\" class=\"dataframe\">\n",
       "  <thead>\n",
       "    <tr style=\"text-align: right;\">\n",
       "      <th></th>\n",
       "      <th>id</th>\n",
       "      <th>date</th>\n",
       "      <th>price</th>\n",
       "      <th>bedrooms</th>\n",
       "      <th>bathrooms</th>\n",
       "      <th>sqft_living</th>\n",
       "      <th>sqft_lot</th>\n",
       "      <th>floors</th>\n",
       "      <th>waterfront</th>\n",
       "      <th>view</th>\n",
       "      <th>condition</th>\n",
       "      <th>grade</th>\n",
       "      <th>sqft_above</th>\n",
       "      <th>sqft_basement</th>\n",
       "      <th>yr_built</th>\n",
       "      <th>yr_renovated</th>\n",
       "      <th>zipcode</th>\n",
       "      <th>lat</th>\n",
       "      <th>long</th>\n",
       "      <th>sqft_living15</th>\n",
       "      <th>sqft_lot15</th>\n",
       "    </tr>\n",
       "  </thead>\n",
       "  <tbody>\n",
       "    <tr>\n",
       "      <th>94</th>\n",
       "      <td>6021501535</td>\n",
       "      <td>12/23/2014</td>\n",
       "      <td>700,000.00000</td>\n",
       "      <td>3</td>\n",
       "      <td>1.50000</td>\n",
       "      <td>1580</td>\n",
       "      <td>5000</td>\n",
       "      <td>1.00000</td>\n",
       "      <td>0.00000</td>\n",
       "      <td>0.00000</td>\n",
       "      <td>3</td>\n",
       "      <td>8</td>\n",
       "      <td>1290</td>\n",
       "      <td>290.0</td>\n",
       "      <td>1939</td>\n",
       "      <td>0.00000</td>\n",
       "      <td>98117</td>\n",
       "      <td>47.68700</td>\n",
       "      <td>-122.38600</td>\n",
       "      <td>1570</td>\n",
       "      <td>4500</td>\n",
       "    </tr>\n",
       "    <tr>\n",
       "      <th>314</th>\n",
       "      <td>4139480200</td>\n",
       "      <td>12/9/2014</td>\n",
       "      <td>1,400,000.00000</td>\n",
       "      <td>4</td>\n",
       "      <td>3.25000</td>\n",
       "      <td>4290</td>\n",
       "      <td>12103</td>\n",
       "      <td>1.00000</td>\n",
       "      <td>0.00000</td>\n",
       "      <td>3.00000</td>\n",
       "      <td>3</td>\n",
       "      <td>11</td>\n",
       "      <td>2690</td>\n",
       "      <td>1600.0</td>\n",
       "      <td>1997</td>\n",
       "      <td>0.00000</td>\n",
       "      <td>98006</td>\n",
       "      <td>47.55030</td>\n",
       "      <td>-122.10200</td>\n",
       "      <td>3860</td>\n",
       "      <td>11244</td>\n",
       "    </tr>\n",
       "    <tr>\n",
       "      <th>325</th>\n",
       "      <td>7520000520</td>\n",
       "      <td>3/11/2015</td>\n",
       "      <td>240,500.00000</td>\n",
       "      <td>2</td>\n",
       "      <td>1.00000</td>\n",
       "      <td>1240</td>\n",
       "      <td>12092</td>\n",
       "      <td>1.00000</td>\n",
       "      <td>0.00000</td>\n",
       "      <td>0.00000</td>\n",
       "      <td>3</td>\n",
       "      <td>6</td>\n",
       "      <td>960</td>\n",
       "      <td>280.0</td>\n",
       "      <td>1922</td>\n",
       "      <td>1,984.00000</td>\n",
       "      <td>98146</td>\n",
       "      <td>47.49570</td>\n",
       "      <td>-122.35200</td>\n",
       "      <td>1820</td>\n",
       "      <td>7460</td>\n",
       "    </tr>\n",
       "    <tr>\n",
       "      <th>346</th>\n",
       "      <td>3969300030</td>\n",
       "      <td>12/29/2014</td>\n",
       "      <td>239,900.00000</td>\n",
       "      <td>4</td>\n",
       "      <td>1.00000</td>\n",
       "      <td>1000</td>\n",
       "      <td>7134</td>\n",
       "      <td>1.00000</td>\n",
       "      <td>0.00000</td>\n",
       "      <td>0.00000</td>\n",
       "      <td>3</td>\n",
       "      <td>6</td>\n",
       "      <td>1000</td>\n",
       "      <td>0.0</td>\n",
       "      <td>1943</td>\n",
       "      <td>nan</td>\n",
       "      <td>98178</td>\n",
       "      <td>47.48970</td>\n",
       "      <td>-122.24000</td>\n",
       "      <td>1020</td>\n",
       "      <td>7138</td>\n",
       "    </tr>\n",
       "    <tr>\n",
       "      <th>372</th>\n",
       "      <td>2231500030</td>\n",
       "      <td>3/24/2015</td>\n",
       "      <td>530,000.00000</td>\n",
       "      <td>4</td>\n",
       "      <td>2.25000</td>\n",
       "      <td>2180</td>\n",
       "      <td>10754</td>\n",
       "      <td>1.00000</td>\n",
       "      <td>0.00000</td>\n",
       "      <td>0.00000</td>\n",
       "      <td>5</td>\n",
       "      <td>7</td>\n",
       "      <td>1100</td>\n",
       "      <td>1080.0</td>\n",
       "      <td>1954</td>\n",
       "      <td>0.00000</td>\n",
       "      <td>98133</td>\n",
       "      <td>47.77110</td>\n",
       "      <td>-122.34100</td>\n",
       "      <td>1810</td>\n",
       "      <td>6929</td>\n",
       "    </tr>\n",
       "    <tr>\n",
       "      <th>...</th>\n",
       "      <td>...</td>\n",
       "      <td>...</td>\n",
       "      <td>...</td>\n",
       "      <td>...</td>\n",
       "      <td>...</td>\n",
       "      <td>...</td>\n",
       "      <td>...</td>\n",
       "      <td>...</td>\n",
       "      <td>...</td>\n",
       "      <td>...</td>\n",
       "      <td>...</td>\n",
       "      <td>...</td>\n",
       "      <td>...</td>\n",
       "      <td>...</td>\n",
       "      <td>...</td>\n",
       "      <td>...</td>\n",
       "      <td>...</td>\n",
       "      <td>...</td>\n",
       "      <td>...</td>\n",
       "      <td>...</td>\n",
       "      <td>...</td>\n",
       "    </tr>\n",
       "    <tr>\n",
       "      <th>20165</th>\n",
       "      <td>7853400250</td>\n",
       "      <td>2/19/2015</td>\n",
       "      <td>645,000.00000</td>\n",
       "      <td>4</td>\n",
       "      <td>3.50000</td>\n",
       "      <td>2910</td>\n",
       "      <td>5260</td>\n",
       "      <td>2.00000</td>\n",
       "      <td>0.00000</td>\n",
       "      <td>0.00000</td>\n",
       "      <td>3</td>\n",
       "      <td>9</td>\n",
       "      <td>2910</td>\n",
       "      <td>0.0</td>\n",
       "      <td>2012</td>\n",
       "      <td>0.00000</td>\n",
       "      <td>98065</td>\n",
       "      <td>47.51680</td>\n",
       "      <td>-121.88300</td>\n",
       "      <td>2910</td>\n",
       "      <td>5260</td>\n",
       "    </tr>\n",
       "    <tr>\n",
       "      <th>20597</th>\n",
       "      <td>2724049222</td>\n",
       "      <td>12/1/2014</td>\n",
       "      <td>220,000.00000</td>\n",
       "      <td>2</td>\n",
       "      <td>2.50000</td>\n",
       "      <td>1000</td>\n",
       "      <td>1092</td>\n",
       "      <td>2.00000</td>\n",
       "      <td>0.00000</td>\n",
       "      <td>0.00000</td>\n",
       "      <td>3</td>\n",
       "      <td>7</td>\n",
       "      <td>990</td>\n",
       "      <td>10.0</td>\n",
       "      <td>2004</td>\n",
       "      <td>0.00000</td>\n",
       "      <td>98118</td>\n",
       "      <td>47.54190</td>\n",
       "      <td>-122.27100</td>\n",
       "      <td>1330</td>\n",
       "      <td>1466</td>\n",
       "    </tr>\n",
       "    <tr>\n",
       "      <th>20654</th>\n",
       "      <td>8564860270</td>\n",
       "      <td>3/30/2015</td>\n",
       "      <td>502,000.00000</td>\n",
       "      <td>4</td>\n",
       "      <td>2.50000</td>\n",
       "      <td>2680</td>\n",
       "      <td>5539</td>\n",
       "      <td>2.00000</td>\n",
       "      <td>nan</td>\n",
       "      <td>0.00000</td>\n",
       "      <td>3</td>\n",
       "      <td>8</td>\n",
       "      <td>2680</td>\n",
       "      <td>0.0</td>\n",
       "      <td>2013</td>\n",
       "      <td>0.00000</td>\n",
       "      <td>98045</td>\n",
       "      <td>47.47590</td>\n",
       "      <td>-121.73400</td>\n",
       "      <td>2680</td>\n",
       "      <td>5992</td>\n",
       "    </tr>\n",
       "    <tr>\n",
       "      <th>20764</th>\n",
       "      <td>6300000226</td>\n",
       "      <td>5/4/2015</td>\n",
       "      <td>380,000.00000</td>\n",
       "      <td>4</td>\n",
       "      <td>1.00000</td>\n",
       "      <td>1200</td>\n",
       "      <td>2171</td>\n",
       "      <td>1.50000</td>\n",
       "      <td>0.00000</td>\n",
       "      <td>0.00000</td>\n",
       "      <td>3</td>\n",
       "      <td>7</td>\n",
       "      <td>1200</td>\n",
       "      <td>0.0</td>\n",
       "      <td>1933</td>\n",
       "      <td>0.00000</td>\n",
       "      <td>98133</td>\n",
       "      <td>47.70760</td>\n",
       "      <td>-122.34200</td>\n",
       "      <td>1130</td>\n",
       "      <td>1598</td>\n",
       "    </tr>\n",
       "    <tr>\n",
       "      <th>21565</th>\n",
       "      <td>7853420110</td>\n",
       "      <td>5/4/2015</td>\n",
       "      <td>625,000.00000</td>\n",
       "      <td>3</td>\n",
       "      <td>3.00000</td>\n",
       "      <td>2780</td>\n",
       "      <td>6000</td>\n",
       "      <td>2.00000</td>\n",
       "      <td>0.00000</td>\n",
       "      <td>0.00000</td>\n",
       "      <td>3</td>\n",
       "      <td>9</td>\n",
       "      <td>2780</td>\n",
       "      <td>0.0</td>\n",
       "      <td>2013</td>\n",
       "      <td>nan</td>\n",
       "      <td>98065</td>\n",
       "      <td>47.51840</td>\n",
       "      <td>-121.88600</td>\n",
       "      <td>2850</td>\n",
       "      <td>6000</td>\n",
       "    </tr>\n",
       "  </tbody>\n",
       "</table>\n",
       "<p>177 rows × 21 columns</p>\n",
       "</div>"
      ],
      "text/plain": [
       "               id        date           price  bedrooms  bathrooms  \\\n",
       "94     6021501535  12/23/2014   700,000.00000         3    1.50000   \n",
       "314    4139480200   12/9/2014 1,400,000.00000         4    3.25000   \n",
       "325    7520000520   3/11/2015   240,500.00000         2    1.00000   \n",
       "346    3969300030  12/29/2014   239,900.00000         4    1.00000   \n",
       "372    2231500030   3/24/2015   530,000.00000         4    2.25000   \n",
       "...           ...         ...             ...       ...        ...   \n",
       "20165  7853400250   2/19/2015   645,000.00000         4    3.50000   \n",
       "20597  2724049222   12/1/2014   220,000.00000         2    2.50000   \n",
       "20654  8564860270   3/30/2015   502,000.00000         4    2.50000   \n",
       "20764  6300000226    5/4/2015   380,000.00000         4    1.00000   \n",
       "21565  7853420110    5/4/2015   625,000.00000         3    3.00000   \n",
       "\n",
       "       sqft_living  sqft_lot  floors  waterfront    view  condition  grade  \\\n",
       "94            1580      5000 1.00000     0.00000 0.00000          3      8   \n",
       "314           4290     12103 1.00000     0.00000 3.00000          3     11   \n",
       "325           1240     12092 1.00000     0.00000 0.00000          3      6   \n",
       "346           1000      7134 1.00000     0.00000 0.00000          3      6   \n",
       "372           2180     10754 1.00000     0.00000 0.00000          5      7   \n",
       "...            ...       ...     ...         ...     ...        ...    ...   \n",
       "20165         2910      5260 2.00000     0.00000 0.00000          3      9   \n",
       "20597         1000      1092 2.00000     0.00000 0.00000          3      7   \n",
       "20654         2680      5539 2.00000         nan 0.00000          3      8   \n",
       "20764         1200      2171 1.50000     0.00000 0.00000          3      7   \n",
       "21565         2780      6000 2.00000     0.00000 0.00000          3      9   \n",
       "\n",
       "       sqft_above sqft_basement  yr_built  yr_renovated  zipcode      lat  \\\n",
       "94           1290         290.0      1939       0.00000    98117 47.68700   \n",
       "314          2690        1600.0      1997       0.00000    98006 47.55030   \n",
       "325           960         280.0      1922   1,984.00000    98146 47.49570   \n",
       "346          1000           0.0      1943           nan    98178 47.48970   \n",
       "372          1100        1080.0      1954       0.00000    98133 47.77110   \n",
       "...           ...           ...       ...           ...      ...      ...   \n",
       "20165        2910           0.0      2012       0.00000    98065 47.51680   \n",
       "20597         990          10.0      2004       0.00000    98118 47.54190   \n",
       "20654        2680           0.0      2013       0.00000    98045 47.47590   \n",
       "20764        1200           0.0      1933       0.00000    98133 47.70760   \n",
       "21565        2780           0.0      2013           nan    98065 47.51840   \n",
       "\n",
       "            long  sqft_living15  sqft_lot15  \n",
       "94    -122.38600           1570        4500  \n",
       "314   -122.10200           3860       11244  \n",
       "325   -122.35200           1820        7460  \n",
       "346   -122.24000           1020        7138  \n",
       "372   -122.34100           1810        6929  \n",
       "...          ...            ...         ...  \n",
       "20165 -121.88300           2910        5260  \n",
       "20597 -122.27100           1330        1466  \n",
       "20654 -121.73400           2680        5992  \n",
       "20764 -122.34200           1130        1598  \n",
       "21565 -121.88600           2850        6000  \n",
       "\n",
       "[177 rows x 21 columns]"
      ]
     },
     "execution_count": 4,
     "metadata": {},
     "output_type": "execute_result"
    }
   ],
   "source": [
    "# Create a separate table to examine the duplicates\n",
    "df_id_duplicates = df[df.duplicated('id')]\n",
    "\n",
    "df_id_duplicates"
   ]
  },
  {
   "cell_type": "code",
   "execution_count": 5,
   "metadata": {},
   "outputs": [
    {
     "data": {
      "text/html": [
       "<div>\n",
       "<style scoped>\n",
       "    .dataframe tbody tr th:only-of-type {\n",
       "        vertical-align: middle;\n",
       "    }\n",
       "\n",
       "    .dataframe tbody tr th {\n",
       "        vertical-align: top;\n",
       "    }\n",
       "\n",
       "    .dataframe thead th {\n",
       "        text-align: right;\n",
       "    }\n",
       "</style>\n",
       "<table border=\"1\" class=\"dataframe\">\n",
       "  <thead>\n",
       "    <tr style=\"text-align: right;\">\n",
       "      <th></th>\n",
       "      <th>id</th>\n",
       "      <th>date</th>\n",
       "      <th>price</th>\n",
       "      <th>bedrooms</th>\n",
       "      <th>bathrooms</th>\n",
       "      <th>sqft_living</th>\n",
       "      <th>sqft_lot</th>\n",
       "      <th>floors</th>\n",
       "      <th>waterfront</th>\n",
       "      <th>view</th>\n",
       "      <th>condition</th>\n",
       "      <th>grade</th>\n",
       "      <th>sqft_above</th>\n",
       "      <th>sqft_basement</th>\n",
       "      <th>yr_built</th>\n",
       "      <th>yr_renovated</th>\n",
       "      <th>zipcode</th>\n",
       "      <th>lat</th>\n",
       "      <th>long</th>\n",
       "      <th>sqft_living15</th>\n",
       "      <th>sqft_lot15</th>\n",
       "    </tr>\n",
       "  </thead>\n",
       "  <tbody>\n",
       "    <tr>\n",
       "      <th>93</th>\n",
       "      <td>6021501535</td>\n",
       "      <td>7/25/2014</td>\n",
       "      <td>430,000.00000</td>\n",
       "      <td>3</td>\n",
       "      <td>1.50000</td>\n",
       "      <td>1580</td>\n",
       "      <td>5000</td>\n",
       "      <td>1.00000</td>\n",
       "      <td>0.00000</td>\n",
       "      <td>0.00000</td>\n",
       "      <td>3</td>\n",
       "      <td>8</td>\n",
       "      <td>1290</td>\n",
       "      <td>290.0</td>\n",
       "      <td>1939</td>\n",
       "      <td>0.00000</td>\n",
       "      <td>98117</td>\n",
       "      <td>47.68700</td>\n",
       "      <td>-122.38600</td>\n",
       "      <td>1570</td>\n",
       "      <td>4500</td>\n",
       "    </tr>\n",
       "    <tr>\n",
       "      <th>94</th>\n",
       "      <td>6021501535</td>\n",
       "      <td>12/23/2014</td>\n",
       "      <td>700,000.00000</td>\n",
       "      <td>3</td>\n",
       "      <td>1.50000</td>\n",
       "      <td>1580</td>\n",
       "      <td>5000</td>\n",
       "      <td>1.00000</td>\n",
       "      <td>0.00000</td>\n",
       "      <td>0.00000</td>\n",
       "      <td>3</td>\n",
       "      <td>8</td>\n",
       "      <td>1290</td>\n",
       "      <td>290.0</td>\n",
       "      <td>1939</td>\n",
       "      <td>0.00000</td>\n",
       "      <td>98117</td>\n",
       "      <td>47.68700</td>\n",
       "      <td>-122.38600</td>\n",
       "      <td>1570</td>\n",
       "      <td>4500</td>\n",
       "    </tr>\n",
       "  </tbody>\n",
       "</table>\n",
       "</div>"
      ],
      "text/plain": [
       "            id        date         price  bedrooms  bathrooms  sqft_living  \\\n",
       "93  6021501535   7/25/2014 430,000.00000         3    1.50000         1580   \n",
       "94  6021501535  12/23/2014 700,000.00000         3    1.50000         1580   \n",
       "\n",
       "    sqft_lot  floors  waterfront    view  condition  grade  sqft_above  \\\n",
       "93      5000 1.00000     0.00000 0.00000          3      8        1290   \n",
       "94      5000 1.00000     0.00000 0.00000          3      8        1290   \n",
       "\n",
       "   sqft_basement  yr_built  yr_renovated  zipcode      lat       long  \\\n",
       "93         290.0      1939       0.00000    98117 47.68700 -122.38600   \n",
       "94         290.0      1939       0.00000    98117 47.68700 -122.38600   \n",
       "\n",
       "    sqft_living15  sqft_lot15  \n",
       "93           1570        4500  \n",
       "94           1570        4500  "
      ]
     },
     "execution_count": 5,
     "metadata": {},
     "output_type": "execute_result"
    }
   ],
   "source": [
    "# Spot check data\n",
    "df.loc[df['id'] == 6021501535]"
   ]
  },
  {
   "cell_type": "code",
   "execution_count": 6,
   "metadata": {},
   "outputs": [
    {
     "data": {
      "text/html": [
       "<div>\n",
       "<style scoped>\n",
       "    .dataframe tbody tr th:only-of-type {\n",
       "        vertical-align: middle;\n",
       "    }\n",
       "\n",
       "    .dataframe tbody tr th {\n",
       "        vertical-align: top;\n",
       "    }\n",
       "\n",
       "    .dataframe thead th {\n",
       "        text-align: right;\n",
       "    }\n",
       "</style>\n",
       "<table border=\"1\" class=\"dataframe\">\n",
       "  <thead>\n",
       "    <tr style=\"text-align: right;\">\n",
       "      <th></th>\n",
       "      <th>id</th>\n",
       "      <th>date</th>\n",
       "      <th>price</th>\n",
       "      <th>bedrooms</th>\n",
       "      <th>bathrooms</th>\n",
       "      <th>sqft_living</th>\n",
       "      <th>sqft_lot</th>\n",
       "      <th>floors</th>\n",
       "      <th>waterfront</th>\n",
       "      <th>view</th>\n",
       "      <th>condition</th>\n",
       "      <th>grade</th>\n",
       "      <th>sqft_above</th>\n",
       "      <th>sqft_basement</th>\n",
       "      <th>yr_built</th>\n",
       "      <th>yr_renovated</th>\n",
       "      <th>zipcode</th>\n",
       "      <th>lat</th>\n",
       "      <th>long</th>\n",
       "      <th>sqft_living15</th>\n",
       "      <th>sqft_lot15</th>\n",
       "    </tr>\n",
       "  </thead>\n",
       "  <tbody>\n",
       "    <tr>\n",
       "      <th>345</th>\n",
       "      <td>3969300030</td>\n",
       "      <td>7/23/2014</td>\n",
       "      <td>165,000.00000</td>\n",
       "      <td>4</td>\n",
       "      <td>1.00000</td>\n",
       "      <td>1000</td>\n",
       "      <td>7134</td>\n",
       "      <td>1.00000</td>\n",
       "      <td>0.00000</td>\n",
       "      <td>0.00000</td>\n",
       "      <td>3</td>\n",
       "      <td>6</td>\n",
       "      <td>1000</td>\n",
       "      <td>0.0</td>\n",
       "      <td>1943</td>\n",
       "      <td>0.00000</td>\n",
       "      <td>98178</td>\n",
       "      <td>47.48970</td>\n",
       "      <td>-122.24000</td>\n",
       "      <td>1020</td>\n",
       "      <td>7138</td>\n",
       "    </tr>\n",
       "    <tr>\n",
       "      <th>346</th>\n",
       "      <td>3969300030</td>\n",
       "      <td>12/29/2014</td>\n",
       "      <td>239,900.00000</td>\n",
       "      <td>4</td>\n",
       "      <td>1.00000</td>\n",
       "      <td>1000</td>\n",
       "      <td>7134</td>\n",
       "      <td>1.00000</td>\n",
       "      <td>0.00000</td>\n",
       "      <td>0.00000</td>\n",
       "      <td>3</td>\n",
       "      <td>6</td>\n",
       "      <td>1000</td>\n",
       "      <td>0.0</td>\n",
       "      <td>1943</td>\n",
       "      <td>nan</td>\n",
       "      <td>98178</td>\n",
       "      <td>47.48970</td>\n",
       "      <td>-122.24000</td>\n",
       "      <td>1020</td>\n",
       "      <td>7138</td>\n",
       "    </tr>\n",
       "  </tbody>\n",
       "</table>\n",
       "</div>"
      ],
      "text/plain": [
       "             id        date         price  bedrooms  bathrooms  sqft_living  \\\n",
       "345  3969300030   7/23/2014 165,000.00000         4    1.00000         1000   \n",
       "346  3969300030  12/29/2014 239,900.00000         4    1.00000         1000   \n",
       "\n",
       "     sqft_lot  floors  waterfront    view  condition  grade  sqft_above  \\\n",
       "345      7134 1.00000     0.00000 0.00000          3      6        1000   \n",
       "346      7134 1.00000     0.00000 0.00000          3      6        1000   \n",
       "\n",
       "    sqft_basement  yr_built  yr_renovated  zipcode      lat       long  \\\n",
       "345           0.0      1943       0.00000    98178 47.48970 -122.24000   \n",
       "346           0.0      1943           nan    98178 47.48970 -122.24000   \n",
       "\n",
       "     sqft_living15  sqft_lot15  \n",
       "345           1020        7138  \n",
       "346           1020        7138  "
      ]
     },
     "execution_count": 6,
     "metadata": {},
     "output_type": "execute_result"
    }
   ],
   "source": [
    "# Spot check data\n",
    "df.loc[df['id'] == 3969300030]"
   ]
  },
  {
   "cell_type": "code",
   "execution_count": 7,
   "metadata": {},
   "outputs": [
    {
     "data": {
      "text/html": [
       "<div>\n",
       "<style scoped>\n",
       "    .dataframe tbody tr th:only-of-type {\n",
       "        vertical-align: middle;\n",
       "    }\n",
       "\n",
       "    .dataframe tbody tr th {\n",
       "        vertical-align: top;\n",
       "    }\n",
       "\n",
       "    .dataframe thead th {\n",
       "        text-align: right;\n",
       "    }\n",
       "</style>\n",
       "<table border=\"1\" class=\"dataframe\">\n",
       "  <thead>\n",
       "    <tr style=\"text-align: right;\">\n",
       "      <th></th>\n",
       "      <th>id</th>\n",
       "      <th>date</th>\n",
       "      <th>price</th>\n",
       "      <th>bedrooms</th>\n",
       "      <th>bathrooms</th>\n",
       "      <th>sqft_living</th>\n",
       "      <th>sqft_lot</th>\n",
       "      <th>floors</th>\n",
       "      <th>waterfront</th>\n",
       "      <th>view</th>\n",
       "      <th>condition</th>\n",
       "      <th>grade</th>\n",
       "      <th>sqft_above</th>\n",
       "      <th>sqft_basement</th>\n",
       "      <th>yr_built</th>\n",
       "      <th>yr_renovated</th>\n",
       "      <th>zipcode</th>\n",
       "      <th>lat</th>\n",
       "      <th>long</th>\n",
       "      <th>sqft_living15</th>\n",
       "      <th>sqft_lot15</th>\n",
       "    </tr>\n",
       "  </thead>\n",
       "  <tbody>\n",
       "    <tr>\n",
       "      <th>20763</th>\n",
       "      <td>6300000226</td>\n",
       "      <td>6/26/2014</td>\n",
       "      <td>240,000.00000</td>\n",
       "      <td>4</td>\n",
       "      <td>1.00000</td>\n",
       "      <td>1200</td>\n",
       "      <td>2171</td>\n",
       "      <td>1.50000</td>\n",
       "      <td>0.00000</td>\n",
       "      <td>0.00000</td>\n",
       "      <td>3</td>\n",
       "      <td>7</td>\n",
       "      <td>1200</td>\n",
       "      <td>0.0</td>\n",
       "      <td>1933</td>\n",
       "      <td>0.00000</td>\n",
       "      <td>98133</td>\n",
       "      <td>47.70760</td>\n",
       "      <td>-122.34200</td>\n",
       "      <td>1130</td>\n",
       "      <td>1598</td>\n",
       "    </tr>\n",
       "    <tr>\n",
       "      <th>20764</th>\n",
       "      <td>6300000226</td>\n",
       "      <td>5/4/2015</td>\n",
       "      <td>380,000.00000</td>\n",
       "      <td>4</td>\n",
       "      <td>1.00000</td>\n",
       "      <td>1200</td>\n",
       "      <td>2171</td>\n",
       "      <td>1.50000</td>\n",
       "      <td>0.00000</td>\n",
       "      <td>0.00000</td>\n",
       "      <td>3</td>\n",
       "      <td>7</td>\n",
       "      <td>1200</td>\n",
       "      <td>0.0</td>\n",
       "      <td>1933</td>\n",
       "      <td>0.00000</td>\n",
       "      <td>98133</td>\n",
       "      <td>47.70760</td>\n",
       "      <td>-122.34200</td>\n",
       "      <td>1130</td>\n",
       "      <td>1598</td>\n",
       "    </tr>\n",
       "  </tbody>\n",
       "</table>\n",
       "</div>"
      ],
      "text/plain": [
       "               id       date         price  bedrooms  bathrooms  sqft_living  \\\n",
       "20763  6300000226  6/26/2014 240,000.00000         4    1.00000         1200   \n",
       "20764  6300000226   5/4/2015 380,000.00000         4    1.00000         1200   \n",
       "\n",
       "       sqft_lot  floors  waterfront    view  condition  grade  sqft_above  \\\n",
       "20763      2171 1.50000     0.00000 0.00000          3      7        1200   \n",
       "20764      2171 1.50000     0.00000 0.00000          3      7        1200   \n",
       "\n",
       "      sqft_basement  yr_built  yr_renovated  zipcode      lat       long  \\\n",
       "20763           0.0      1933       0.00000    98133 47.70760 -122.34200   \n",
       "20764           0.0      1933       0.00000    98133 47.70760 -122.34200   \n",
       "\n",
       "       sqft_living15  sqft_lot15  \n",
       "20763           1130        1598  \n",
       "20764           1130        1598  "
      ]
     },
     "execution_count": 7,
     "metadata": {},
     "output_type": "execute_result"
    }
   ],
   "source": [
    "# Spot check data\n",
    "df.loc[df['id'] == 6300000226]"
   ]
  },
  {
   "cell_type": "markdown",
   "metadata": {},
   "source": [
    "It appears that the IDs are being used to for each property rather than each transactions. I'm only going to keep the latest transaction only."
   ]
  },
  {
   "cell_type": "code",
   "execution_count": 8,
   "metadata": {},
   "outputs": [],
   "source": [
    "# Drop the older data\n",
    "df.drop_duplicates(subset= 'id', keep= 'last', inplace= True)"
   ]
  },
  {
   "cell_type": "code",
   "execution_count": 9,
   "metadata": {},
   "outputs": [
    {
     "data": {
      "text/plain": [
       "0"
      ]
     },
     "execution_count": 9,
     "metadata": {},
     "output_type": "execute_result"
    }
   ],
   "source": [
    "# Check if the duplicates are removed\n",
    "df.id.duplicated().sum()"
   ]
  },
  {
   "cell_type": "markdown",
   "metadata": {},
   "source": [
    "### Price 고치기\n",
    "Since the budget is $1,000,000 we will keep the data for properties "
   ]
  },
  {
   "cell_type": "code",
   "execution_count": 10,
   "metadata": {},
   "outputs": [],
   "source": [
    "df = df[df['price'] <= 1000000]"
   ]
  },
  {
   "cell_type": "markdown",
   "metadata": {},
   "source": [
    "### Datetime - date"
   ]
  },
  {
   "cell_type": "code",
   "execution_count": 11,
   "metadata": {},
   "outputs": [],
   "source": [
    "# Convert date\n",
    "df['date'] = pd.to_datetime(df['date'])"
   ]
  },
  {
   "cell_type": "code",
   "execution_count": 12,
   "metadata": {},
   "outputs": [],
   "source": [
    "df['month_sold'] = df.date.dt.month\n",
    "df['year_sold'] = df.date.dt.year\n",
    "df.drop(['date'], axis= 1, inplace= True)"
   ]
  },
  {
   "cell_type": "code",
   "execution_count": 13,
   "metadata": {},
   "outputs": [
    {
     "name": "stdout",
     "output_type": "stream",
     "text": [
      "<class 'pandas.core.frame.DataFrame'>\n",
      "Int64Index: 19968 entries, 0 to 21596\n",
      "Data columns (total 22 columns):\n",
      " #   Column         Non-Null Count  Dtype  \n",
      "---  ------         --------------  -----  \n",
      " 0   id             19968 non-null  int64  \n",
      " 1   price          19968 non-null  float64\n",
      " 2   bedrooms       19968 non-null  int64  \n",
      " 3   bathrooms      19968 non-null  float64\n",
      " 4   sqft_living    19968 non-null  int64  \n",
      " 5   sqft_lot       19968 non-null  int64  \n",
      " 6   floors         19968 non-null  float64\n",
      " 7   waterfront     17764 non-null  float64\n",
      " 8   view           19911 non-null  float64\n",
      " 9   condition      19968 non-null  int64  \n",
      " 10  grade          19968 non-null  int64  \n",
      " 11  sqft_above     19968 non-null  int64  \n",
      " 12  sqft_basement  19968 non-null  object \n",
      " 13  yr_built       19968 non-null  int64  \n",
      " 14  yr_renovated   16419 non-null  float64\n",
      " 15  zipcode        19968 non-null  int64  \n",
      " 16  lat            19968 non-null  float64\n",
      " 17  long           19968 non-null  float64\n",
      " 18  sqft_living15  19968 non-null  int64  \n",
      " 19  sqft_lot15     19968 non-null  int64  \n",
      " 20  month_sold     19968 non-null  int64  \n",
      " 21  year_sold      19968 non-null  int64  \n",
      "dtypes: float64(8), int64(13), object(1)\n",
      "memory usage: 3.5+ MB\n"
     ]
    }
   ],
   "source": [
    "df.info()"
   ]
  },
  {
   "cell_type": "markdown",
   "metadata": {},
   "source": [
    "### Integer - sqft_basement"
   ]
  },
  {
   "cell_type": "code",
   "execution_count": 14,
   "metadata": {},
   "outputs": [
    {
     "data": {
      "text/plain": [
       "0.0       12173\n",
       "?           422\n",
       "600.0       210\n",
       "500.0       203\n",
       "700.0       191\n",
       "          ...  \n",
       "862.0         1\n",
       "1135.0        1\n",
       "906.0         1\n",
       "207.0         1\n",
       "1740.0        1\n",
       "Name: sqft_basement, Length: 266, dtype: int64"
      ]
     },
     "execution_count": 14,
     "metadata": {},
     "output_type": "execute_result"
    }
   ],
   "source": [
    "# Check why sqft_basement is an object and not an integer\n",
    "df.sqft_basement.value_counts()"
   ]
  },
  {
   "cell_type": "code",
   "execution_count": 15,
   "metadata": {},
   "outputs": [
    {
     "data": {
      "text/plain": [
       "0.0       12595\n",
       "600.0       210\n",
       "500.0       203\n",
       "700.0       191\n",
       "800.0       180\n",
       "          ...  \n",
       "862.0         1\n",
       "1135.0        1\n",
       "906.0         1\n",
       "207.0         1\n",
       "1740.0        1\n",
       "Name: sqft_basement, Length: 265, dtype: int64"
      ]
     },
     "execution_count": 15,
     "metadata": {},
     "output_type": "execute_result"
    }
   ],
   "source": [
    "# Replace '?' in sqft_basement to 0 since they are unidentifiable\n",
    "df['sqft_basement'] = df['sqft_basement'].replace('?', '0.0')\n",
    "\n",
    "df.sqft_basement.value_counts()"
   ]
  },
  {
   "cell_type": "code",
   "execution_count": 16,
   "metadata": {},
   "outputs": [],
   "source": [
    "# Change data type of basement to float instead of object\n",
    "df['sqft_basement'] = df.sqft_basement.astype('float')"
   ]
  },
  {
   "cell_type": "markdown",
   "metadata": {},
   "source": [
    "### Null Values\n",
    "We have identified that 'waterfront', 'view', and 'yr_renovated' columns have missing values. Let's examine each of them and determine how we will proceed."
   ]
  },
  {
   "cell_type": "code",
   "execution_count": 17,
   "metadata": {},
   "outputs": [
    {
     "data": {
      "text/plain": [
       "0.00000   0.99719\n",
       "1.00000   0.00281\n",
       "Name: waterfront, dtype: float64"
      ]
     },
     "execution_count": 17,
     "metadata": {},
     "output_type": "execute_result"
    }
   ],
   "source": [
    "# Check 'waterfront'\n",
    "df.waterfront.value_counts(normalize = True)"
   ]
  },
  {
   "cell_type": "code",
   "execution_count": 18,
   "metadata": {},
   "outputs": [
    {
     "data": {
      "text/plain": [
       "0.00000   0.92632\n",
       "2.00000   0.03827\n",
       "3.00000   0.01597\n",
       "1.00000   0.01301\n",
       "4.00000   0.00643\n",
       "Name: view, dtype: float64"
      ]
     },
     "execution_count": 18,
     "metadata": {},
     "output_type": "execute_result"
    }
   ],
   "source": [
    "# Check 'view'\n",
    "df.view.value_counts(normalize = True)"
   ]
  },
  {
   "cell_type": "code",
   "execution_count": 19,
   "metadata": {},
   "outputs": [
    {
     "data": {
      "text/plain": [
       "0.00000       0.96370\n",
       "2,014.00000   0.00384\n",
       "2,013.00000   0.00164\n",
       "2,000.00000   0.00152\n",
       "2,007.00000   0.00140\n",
       "                ...  \n",
       "1,956.00000   0.00006\n",
       "1,948.00000   0.00006\n",
       "1,971.00000   0.00006\n",
       "1,953.00000   0.00006\n",
       "1,934.00000   0.00006\n",
       "Name: yr_renovated, Length: 70, dtype: float64"
      ]
     },
     "execution_count": 19,
     "metadata": {},
     "output_type": "execute_result"
    }
   ],
   "source": [
    "# Check 'yr_renovated'\n",
    "df.yr_renovated.value_counts(normalize = True)"
   ]
  },
  {
   "cell_type": "markdown",
   "metadata": {},
   "source": [
    "Above analysis shows that:\n",
    "1. 99.2% of houses in the dataseet are not near the Seattle waterfront.\n",
    "2. 90.1% of houses do not have a view. \n",
    "3. 95.8% of houses have not been renovated since it was built.\n",
    "\n",
    "While having such large amount of null values can be problematic, it makes sense in this scenario.Therefore, we will simply replace those null values with zeros. "
   ]
  },
  {
   "cell_type": "code",
   "execution_count": 20,
   "metadata": {},
   "outputs": [],
   "source": [
    "# Replace null values with zeros\n",
    "df.fillna(0, inplace= True)"
   ]
  },
  {
   "cell_type": "markdown",
   "metadata": {},
   "source": [
    "Lastly, let's re-set the index."
   ]
  },
  {
   "cell_type": "code",
   "execution_count": 21,
   "metadata": {},
   "outputs": [
    {
     "name": "stdout",
     "output_type": "stream",
     "text": [
      "<class 'pandas.core.frame.DataFrame'>\n",
      "Int64Index: 19968 entries, 0 to 21596\n",
      "Data columns (total 22 columns):\n",
      " #   Column         Non-Null Count  Dtype  \n",
      "---  ------         --------------  -----  \n",
      " 0   id             19968 non-null  int64  \n",
      " 1   price          19968 non-null  float64\n",
      " 2   bedrooms       19968 non-null  int64  \n",
      " 3   bathrooms      19968 non-null  float64\n",
      " 4   sqft_living    19968 non-null  int64  \n",
      " 5   sqft_lot       19968 non-null  int64  \n",
      " 6   floors         19968 non-null  float64\n",
      " 7   waterfront     19968 non-null  float64\n",
      " 8   view           19968 non-null  float64\n",
      " 9   condition      19968 non-null  int64  \n",
      " 10  grade          19968 non-null  int64  \n",
      " 11  sqft_above     19968 non-null  int64  \n",
      " 12  sqft_basement  19968 non-null  float64\n",
      " 13  yr_built       19968 non-null  int64  \n",
      " 14  yr_renovated   19968 non-null  float64\n",
      " 15  zipcode        19968 non-null  int64  \n",
      " 16  lat            19968 non-null  float64\n",
      " 17  long           19968 non-null  float64\n",
      " 18  sqft_living15  19968 non-null  int64  \n",
      " 19  sqft_lot15     19968 non-null  int64  \n",
      " 20  month_sold     19968 non-null  int64  \n",
      " 21  year_sold      19968 non-null  int64  \n",
      "dtypes: float64(9), int64(13)\n",
      "memory usage: 3.5 MB\n"
     ]
    }
   ],
   "source": [
    "df.info()"
   ]
  },
  {
   "cell_type": "markdown",
   "metadata": {},
   "source": [
    "For this exercise, we will focus on whether the property has been renovated rather than when it was renovated. Therefore, Let's replace the values with 1 if renovated, and keep 0 if not renovated."
   ]
  },
  {
   "cell_type": "code",
   "execution_count": 22,
   "metadata": {},
   "outputs": [],
   "source": [
    "df.loc[df['yr_renovated'] > 0, 'yr_renovated'] = 1"
   ]
  },
  {
   "cell_type": "code",
   "execution_count": 23,
   "metadata": {},
   "outputs": [],
   "source": [
    "# Drop 'id' as we no longer need this column\n",
    "\n",
    "df.drop(['id'], axis= 1, inplace= True)"
   ]
  },
  {
   "cell_type": "markdown",
   "metadata": {},
   "source": [
    "### Baseline Model\n",
    "Now that we cleaned up the data, let's take a look at a baseline model."
   ]
  },
  {
   "cell_type": "code",
   "execution_count": 24,
   "metadata": {},
   "outputs": [
    {
     "data": {
      "text/html": [
       "<table class=\"simpletable\">\n",
       "<caption>OLS Regression Results</caption>\n",
       "<tr>\n",
       "  <th>Dep. Variable:</th>          <td>price</td>      <th>  R-squared:         </th>  <td>   0.693</td>  \n",
       "</tr>\n",
       "<tr>\n",
       "  <th>Model:</th>                   <td>OLS</td>       <th>  Adj. R-squared:    </th>  <td>   0.692</td>  \n",
       "</tr>\n",
       "<tr>\n",
       "  <th>Method:</th>             <td>Least Squares</td>  <th>  F-statistic:       </th>  <td>   2249.</td>  \n",
       "</tr>\n",
       "<tr>\n",
       "  <th>Date:</th>             <td>Sun, 27 Jun 2021</td> <th>  Prob (F-statistic):</th>   <td>  0.00</td>   \n",
       "</tr>\n",
       "<tr>\n",
       "  <th>Time:</th>                 <td>21:38:09</td>     <th>  Log-Likelihood:    </th> <td>-2.5989e+05</td>\n",
       "</tr>\n",
       "<tr>\n",
       "  <th>No. Observations:</th>      <td> 19968</td>      <th>  AIC:               </th>  <td>5.198e+05</td> \n",
       "</tr>\n",
       "<tr>\n",
       "  <th>Df Residuals:</th>          <td> 19947</td>      <th>  BIC:               </th>  <td>5.200e+05</td> \n",
       "</tr>\n",
       "<tr>\n",
       "  <th>Df Model:</th>              <td>    20</td>      <th>                     </th>      <td> </td>     \n",
       "</tr>\n",
       "<tr>\n",
       "  <th>Covariance Type:</th>      <td>nonrobust</td>    <th>                     </th>      <td> </td>     \n",
       "</tr>\n",
       "</table>\n",
       "<table class=\"simpletable\">\n",
       "<tr>\n",
       "        <td></td>           <th>coef</th>     <th>std err</th>      <th>t</th>      <th>P>|t|</th>  <th>[0.025</th>    <th>0.975]</th>  \n",
       "</tr>\n",
       "<tr>\n",
       "  <th>Intercept</th>     <td>-4.959e+07</td> <td> 5.61e+06</td> <td>   -8.839</td> <td> 0.000</td> <td>-6.06e+07</td> <td>-3.86e+07</td>\n",
       "</tr>\n",
       "<tr>\n",
       "  <th>bedrooms</th>      <td>-8154.0969</td> <td> 1096.398</td> <td>   -7.437</td> <td> 0.000</td> <td>-1.03e+04</td> <td>-6005.067</td>\n",
       "</tr>\n",
       "<tr>\n",
       "  <th>bathrooms</th>     <td> 2.317e+04</td> <td> 1898.854</td> <td>   12.200</td> <td> 0.000</td> <td> 1.94e+04</td> <td> 2.69e+04</td>\n",
       "</tr>\n",
       "<tr>\n",
       "  <th>sqft_living</th>   <td>   60.2597</td> <td>   10.912</td> <td>    5.522</td> <td> 0.000</td> <td>   38.871</td> <td>   81.649</td>\n",
       "</tr>\n",
       "<tr>\n",
       "  <th>sqft_lot</th>      <td>    0.2365</td> <td>    0.027</td> <td>    8.676</td> <td> 0.000</td> <td>    0.183</td> <td>    0.290</td>\n",
       "</tr>\n",
       "<tr>\n",
       "  <th>floors</th>        <td> 3.255e+04</td> <td> 2069.906</td> <td>   15.725</td> <td> 0.000</td> <td> 2.85e+04</td> <td> 3.66e+04</td>\n",
       "</tr>\n",
       "<tr>\n",
       "  <th>waterfront</th>    <td> 1.461e+05</td> <td> 1.61e+04</td> <td>    9.069</td> <td> 0.000</td> <td> 1.15e+05</td> <td> 1.78e+05</td>\n",
       "</tr>\n",
       "<tr>\n",
       "  <th>view</th>          <td> 2.709e+04</td> <td> 1365.149</td> <td>   19.844</td> <td> 0.000</td> <td> 2.44e+04</td> <td> 2.98e+04</td>\n",
       "</tr>\n",
       "<tr>\n",
       "  <th>condition</th>     <td> 2.589e+04</td> <td> 1328.074</td> <td>   19.492</td> <td> 0.000</td> <td> 2.33e+04</td> <td> 2.85e+04</td>\n",
       "</tr>\n",
       "<tr>\n",
       "  <th>grade</th>         <td> 7.002e+04</td> <td> 1262.123</td> <td>   55.480</td> <td> 0.000</td> <td> 6.75e+04</td> <td> 7.25e+04</td>\n",
       "</tr>\n",
       "<tr>\n",
       "  <th>sqft_above</th>    <td>    7.3018</td> <td>   10.887</td> <td>    0.671</td> <td> 0.502</td> <td>  -14.038</td> <td>   28.642</td>\n",
       "</tr>\n",
       "<tr>\n",
       "  <th>sqft_basement</th> <td>    5.9764</td> <td>   10.806</td> <td>    0.553</td> <td> 0.580</td> <td>  -15.204</td> <td>   27.157</td>\n",
       "</tr>\n",
       "<tr>\n",
       "  <th>yr_built</th>      <td>-1768.2770</td> <td>   41.661</td> <td>  -42.444</td> <td> 0.000</td> <td>-1849.936</td> <td>-1686.618</td>\n",
       "</tr>\n",
       "<tr>\n",
       "  <th>yr_renovated</th>  <td> 2.649e+04</td> <td> 4751.298</td> <td>    5.576</td> <td> 0.000</td> <td> 1.72e+04</td> <td> 3.58e+04</td>\n",
       "</tr>\n",
       "<tr>\n",
       "  <th>zipcode</th>       <td> -205.9184</td> <td>   18.618</td> <td>  -11.060</td> <td> 0.000</td> <td> -242.412</td> <td> -169.425</td>\n",
       "</tr>\n",
       "<tr>\n",
       "  <th>lat</th>           <td> 5.402e+05</td> <td> 5921.726</td> <td>   91.218</td> <td> 0.000</td> <td> 5.29e+05</td> <td> 5.52e+05</td>\n",
       "</tr>\n",
       "<tr>\n",
       "  <th>long</th>          <td>-3.675e+04</td> <td> 7322.781</td> <td>   -5.019</td> <td> 0.000</td> <td>-5.11e+04</td> <td>-2.24e+04</td>\n",
       "</tr>\n",
       "<tr>\n",
       "  <th>sqft_living15</th> <td>   47.6011</td> <td>    2.125</td> <td>   22.404</td> <td> 0.000</td> <td>   43.437</td> <td>   51.766</td>\n",
       "</tr>\n",
       "<tr>\n",
       "  <th>sqft_lot15</th>    <td>   -0.1303</td> <td>    0.042</td> <td>   -3.128</td> <td> 0.002</td> <td>   -0.212</td> <td>   -0.049</td>\n",
       "</tr>\n",
       "<tr>\n",
       "  <th>month_sold</th>    <td>  350.3231</td> <td>  397.612</td> <td>    0.881</td> <td> 0.378</td> <td> -429.030</td> <td> 1129.676</td>\n",
       "</tr>\n",
       "<tr>\n",
       "  <th>year_sold</th>     <td> 2.117e+04</td> <td> 2655.589</td> <td>    7.973</td> <td> 0.000</td> <td>  1.6e+04</td> <td> 2.64e+04</td>\n",
       "</tr>\n",
       "</table>\n",
       "<table class=\"simpletable\">\n",
       "<tr>\n",
       "  <th>Omnibus:</th>       <td>1082.676</td> <th>  Durbin-Watson:     </th> <td>   1.978</td>\n",
       "</tr>\n",
       "<tr>\n",
       "  <th>Prob(Omnibus):</th>  <td> 0.000</td>  <th>  Jarque-Bera (JB):  </th> <td>1713.700</td>\n",
       "</tr>\n",
       "<tr>\n",
       "  <th>Skew:</th>           <td> 0.460</td>  <th>  Prob(JB):          </th> <td>    0.00</td>\n",
       "</tr>\n",
       "<tr>\n",
       "  <th>Kurtosis:</th>       <td> 4.102</td>  <th>  Cond. No.          </th> <td>7.32e+08</td>\n",
       "</tr>\n",
       "</table><br/><br/>Notes:<br/>[1] Standard Errors assume that the covariance matrix of the errors is correctly specified.<br/>[2] The condition number is large, 7.32e+08. This might indicate that there are<br/>strong multicollinearity or other numerical problems."
      ],
      "text/plain": [
       "<class 'statsmodels.iolib.summary.Summary'>\n",
       "\"\"\"\n",
       "                            OLS Regression Results                            \n",
       "==============================================================================\n",
       "Dep. Variable:                  price   R-squared:                       0.693\n",
       "Model:                            OLS   Adj. R-squared:                  0.692\n",
       "Method:                 Least Squares   F-statistic:                     2249.\n",
       "Date:                Sun, 27 Jun 2021   Prob (F-statistic):               0.00\n",
       "Time:                        21:38:09   Log-Likelihood:            -2.5989e+05\n",
       "No. Observations:               19968   AIC:                         5.198e+05\n",
       "Df Residuals:                   19947   BIC:                         5.200e+05\n",
       "Df Model:                          20                                         \n",
       "Covariance Type:            nonrobust                                         \n",
       "=================================================================================\n",
       "                    coef    std err          t      P>|t|      [0.025      0.975]\n",
       "---------------------------------------------------------------------------------\n",
       "Intercept     -4.959e+07   5.61e+06     -8.839      0.000   -6.06e+07   -3.86e+07\n",
       "bedrooms      -8154.0969   1096.398     -7.437      0.000   -1.03e+04   -6005.067\n",
       "bathrooms      2.317e+04   1898.854     12.200      0.000    1.94e+04    2.69e+04\n",
       "sqft_living      60.2597     10.912      5.522      0.000      38.871      81.649\n",
       "sqft_lot          0.2365      0.027      8.676      0.000       0.183       0.290\n",
       "floors         3.255e+04   2069.906     15.725      0.000    2.85e+04    3.66e+04\n",
       "waterfront     1.461e+05   1.61e+04      9.069      0.000    1.15e+05    1.78e+05\n",
       "view           2.709e+04   1365.149     19.844      0.000    2.44e+04    2.98e+04\n",
       "condition      2.589e+04   1328.074     19.492      0.000    2.33e+04    2.85e+04\n",
       "grade          7.002e+04   1262.123     55.480      0.000    6.75e+04    7.25e+04\n",
       "sqft_above        7.3018     10.887      0.671      0.502     -14.038      28.642\n",
       "sqft_basement     5.9764     10.806      0.553      0.580     -15.204      27.157\n",
       "yr_built      -1768.2770     41.661    -42.444      0.000   -1849.936   -1686.618\n",
       "yr_renovated   2.649e+04   4751.298      5.576      0.000    1.72e+04    3.58e+04\n",
       "zipcode        -205.9184     18.618    -11.060      0.000    -242.412    -169.425\n",
       "lat            5.402e+05   5921.726     91.218      0.000    5.29e+05    5.52e+05\n",
       "long          -3.675e+04   7322.781     -5.019      0.000   -5.11e+04   -2.24e+04\n",
       "sqft_living15    47.6011      2.125     22.404      0.000      43.437      51.766\n",
       "sqft_lot15       -0.1303      0.042     -3.128      0.002      -0.212      -0.049\n",
       "month_sold      350.3231    397.612      0.881      0.378    -429.030    1129.676\n",
       "year_sold      2.117e+04   2655.589      7.973      0.000     1.6e+04    2.64e+04\n",
       "==============================================================================\n",
       "Omnibus:                     1082.676   Durbin-Watson:                   1.978\n",
       "Prob(Omnibus):                  0.000   Jarque-Bera (JB):             1713.700\n",
       "Skew:                           0.460   Prob(JB):                         0.00\n",
       "Kurtosis:                       4.102   Cond. No.                     7.32e+08\n",
       "==============================================================================\n",
       "\n",
       "Notes:\n",
       "[1] Standard Errors assume that the covariance matrix of the errors is correctly specified.\n",
       "[2] The condition number is large, 7.32e+08. This might indicate that there are\n",
       "strong multicollinearity or other numerical problems.\n",
       "\"\"\""
      ]
     },
     "metadata": {},
     "output_type": "display_data"
    },
    {
     "data": {
      "text/plain": [
       "(<statsmodels.regression.linear_model.RegressionResultsWrapper at 0x7f80880635b0>,\n",
       " <Figure size 1008x432 with 2 Axes>,\n",
       " array([<AxesSubplot:title={'center':'Q-Q Plot'}, xlabel='Theoretical Quantiles', ylabel='Sample Quantiles'>,\n",
       "        <AxesSubplot:title={'center':'Homoscedasticity of Residuals'}, xlabel='Predicted Price', ylabel='Residuals'>],\n",
       "       dtype=object))"
      ]
     },
     "execution_count": 24,
     "metadata": {},
     "output_type": "execute_result"
    },
    {
     "data": {
      "image/png": "[encoded data removed]",
      "text/plain": [
       "<Figure size 1008x432 with 2 Axes>"
      ]
     },
     "metadata": {
      "needs_background": "light"
     },
     "output_type": "display_data"
    }
   ],
   "source": [
    "result_plot(df)"
   ]
  },
  {
   "cell_type": "markdown",
   "metadata": {},
   "source": [
    "### Outliers\n",
    "\n",
    "let's visualize and check the distributions in each column\n"
   ]
  },
  {
   "cell_type": "code",
   "execution_count": 25,
   "metadata": {},
   "outputs": [
    {
     "data": {
      "text/html": [
       "<div>\n",
       "<style scoped>\n",
       "    .dataframe tbody tr th:only-of-type {\n",
       "        vertical-align: middle;\n",
       "    }\n",
       "\n",
       "    .dataframe tbody tr th {\n",
       "        vertical-align: top;\n",
       "    }\n",
       "\n",
       "    .dataframe thead th {\n",
       "        text-align: right;\n",
       "    }\n",
       "</style>\n",
       "<table border=\"1\" class=\"dataframe\">\n",
       "  <thead>\n",
       "    <tr style=\"text-align: right;\">\n",
       "      <th></th>\n",
       "      <th>price</th>\n",
       "      <th>bedrooms</th>\n",
       "      <th>bathrooms</th>\n",
       "      <th>sqft_living</th>\n",
       "      <th>sqft_lot</th>\n",
       "      <th>floors</th>\n",
       "      <th>waterfront</th>\n",
       "      <th>view</th>\n",
       "      <th>condition</th>\n",
       "      <th>grade</th>\n",
       "      <th>sqft_above</th>\n",
       "      <th>sqft_basement</th>\n",
       "      <th>yr_built</th>\n",
       "      <th>yr_renovated</th>\n",
       "      <th>zipcode</th>\n",
       "      <th>lat</th>\n",
       "      <th>long</th>\n",
       "      <th>sqft_living15</th>\n",
       "      <th>sqft_lot15</th>\n",
       "      <th>month_sold</th>\n",
       "      <th>year_sold</th>\n",
       "    </tr>\n",
       "  </thead>\n",
       "  <tbody>\n",
       "    <tr>\n",
       "      <th>count</th>\n",
       "      <td>19,968.00000</td>\n",
       "      <td>19,968.00000</td>\n",
       "      <td>19,968.00000</td>\n",
       "      <td>19,968.00000</td>\n",
       "      <td>19,968.00000</td>\n",
       "      <td>19,968.00000</td>\n",
       "      <td>19,968.00000</td>\n",
       "      <td>19,968.00000</td>\n",
       "      <td>19,968.00000</td>\n",
       "      <td>19,968.00000</td>\n",
       "      <td>19,968.00000</td>\n",
       "      <td>19,968.00000</td>\n",
       "      <td>19,968.00000</td>\n",
       "      <td>19,968.00000</td>\n",
       "      <td>19,968.00000</td>\n",
       "      <td>19,968.00000</td>\n",
       "      <td>19,968.00000</td>\n",
       "      <td>19,968.00000</td>\n",
       "      <td>19,968.00000</td>\n",
       "      <td>19,968.00000</td>\n",
       "      <td>19,968.00000</td>\n",
       "    </tr>\n",
       "    <tr>\n",
       "      <th>mean</th>\n",
       "      <td>469,329.01598</td>\n",
       "      <td>3.32307</td>\n",
       "      <td>2.04169</td>\n",
       "      <td>1,958.12285</td>\n",
       "      <td>14,537.10196</td>\n",
       "      <td>1.47316</td>\n",
       "      <td>0.00250</td>\n",
       "      <td>0.16271</td>\n",
       "      <td>3.40650</td>\n",
       "      <td>7.51022</td>\n",
       "      <td>1,695.02794</td>\n",
       "      <td>257.45618</td>\n",
       "      <td>1,970.83218</td>\n",
       "      <td>0.02985</td>\n",
       "      <td>98,078.49249</td>\n",
       "      <td>47.55604</td>\n",
       "      <td>-122.21307</td>\n",
       "      <td>1,910.34014</td>\n",
       "      <td>12,390.72601</td>\n",
       "      <td>6.56816</td>\n",
       "      <td>2,014.32502</td>\n",
       "    </tr>\n",
       "    <tr>\n",
       "      <th>std</th>\n",
       "      <td>196,082.43581</td>\n",
       "      <td>0.90615</td>\n",
       "      <td>0.70186</td>\n",
       "      <td>756.06477</td>\n",
       "      <td>40,098.19625</td>\n",
       "      <td>0.53671</td>\n",
       "      <td>0.04998</td>\n",
       "      <td>0.62053</td>\n",
       "      <td>0.64534</td>\n",
       "      <td>1.01162</td>\n",
       "      <td>712.15705</td>\n",
       "      <td>401.48630</td>\n",
       "      <td>29.12310</td>\n",
       "      <td>0.17017</td>\n",
       "      <td>53.27732</td>\n",
       "      <td>0.14172</td>\n",
       "      <td>0.14250</td>\n",
       "      <td>601.41960</td>\n",
       "      <td>26,475.27016</td>\n",
       "      <td>3.12130</td>\n",
       "      <td>0.46839</td>\n",
       "    </tr>\n",
       "    <tr>\n",
       "      <th>min</th>\n",
       "      <td>78,000.00000</td>\n",
       "      <td>1.00000</td>\n",
       "      <td>0.50000</td>\n",
       "      <td>370.00000</td>\n",
       "      <td>520.00000</td>\n",
       "      <td>1.00000</td>\n",
       "      <td>0.00000</td>\n",
       "      <td>0.00000</td>\n",
       "      <td>1.00000</td>\n",
       "      <td>3.00000</td>\n",
       "      <td>370.00000</td>\n",
       "      <td>0.00000</td>\n",
       "      <td>1,900.00000</td>\n",
       "      <td>0.00000</td>\n",
       "      <td>98,001.00000</td>\n",
       "      <td>47.15590</td>\n",
       "      <td>-122.51900</td>\n",
       "      <td>399.00000</td>\n",
       "      <td>651.00000</td>\n",
       "      <td>1.00000</td>\n",
       "      <td>2,014.00000</td>\n",
       "    </tr>\n",
       "    <tr>\n",
       "      <th>25%</th>\n",
       "      <td>315,000.00000</td>\n",
       "      <td>3.00000</td>\n",
       "      <td>1.50000</td>\n",
       "      <td>1,400.00000</td>\n",
       "      <td>5,000.00000</td>\n",
       "      <td>1.00000</td>\n",
       "      <td>0.00000</td>\n",
       "      <td>0.00000</td>\n",
       "      <td>3.00000</td>\n",
       "      <td>7.00000</td>\n",
       "      <td>1,170.00000</td>\n",
       "      <td>0.00000</td>\n",
       "      <td>1,952.00000</td>\n",
       "      <td>0.00000</td>\n",
       "      <td>98,033.00000</td>\n",
       "      <td>47.45760</td>\n",
       "      <td>-122.33000</td>\n",
       "      <td>1,470.00000</td>\n",
       "      <td>5,040.00000</td>\n",
       "      <td>4.00000</td>\n",
       "      <td>2,014.00000</td>\n",
       "    </tr>\n",
       "    <tr>\n",
       "      <th>50%</th>\n",
       "      <td>435,000.00000</td>\n",
       "      <td>3.00000</td>\n",
       "      <td>2.00000</td>\n",
       "      <td>1,840.00000</td>\n",
       "      <td>7,500.00000</td>\n",
       "      <td>1.00000</td>\n",
       "      <td>0.00000</td>\n",
       "      <td>0.00000</td>\n",
       "      <td>3.00000</td>\n",
       "      <td>7.00000</td>\n",
       "      <td>1,510.00000</td>\n",
       "      <td>0.00000</td>\n",
       "      <td>1,974.00000</td>\n",
       "      <td>0.00000</td>\n",
       "      <td>98,065.00000</td>\n",
       "      <td>47.56595</td>\n",
       "      <td>-122.23200</td>\n",
       "      <td>1,800.00000</td>\n",
       "      <td>7,526.00000</td>\n",
       "      <td>6.00000</td>\n",
       "      <td>2,014.00000</td>\n",
       "    </tr>\n",
       "    <tr>\n",
       "      <th>75%</th>\n",
       "      <td>595,000.00000</td>\n",
       "      <td>4.00000</td>\n",
       "      <td>2.50000</td>\n",
       "      <td>2,410.00000</td>\n",
       "      <td>10,260.00000</td>\n",
       "      <td>2.00000</td>\n",
       "      <td>0.00000</td>\n",
       "      <td>0.00000</td>\n",
       "      <td>4.00000</td>\n",
       "      <td>8.00000</td>\n",
       "      <td>2,090.00000</td>\n",
       "      <td>500.00000</td>\n",
       "      <td>1,996.00000</td>\n",
       "      <td>0.00000</td>\n",
       "      <td>98,118.00000</td>\n",
       "      <td>47.68010</td>\n",
       "      <td>-122.12200</td>\n",
       "      <td>2,260.00000</td>\n",
       "      <td>9,840.00000</td>\n",
       "      <td>9.00000</td>\n",
       "      <td>2,015.00000</td>\n",
       "    </tr>\n",
       "    <tr>\n",
       "      <th>max</th>\n",
       "      <td>1,000,000.00000</td>\n",
       "      <td>33.00000</td>\n",
       "      <td>7.50000</td>\n",
       "      <td>7,480.00000</td>\n",
       "      <td>1,651,359.00000</td>\n",
       "      <td>3.50000</td>\n",
       "      <td>1.00000</td>\n",
       "      <td>4.00000</td>\n",
       "      <td>5.00000</td>\n",
       "      <td>12.00000</td>\n",
       "      <td>5,710.00000</td>\n",
       "      <td>2,720.00000</td>\n",
       "      <td>2,015.00000</td>\n",
       "      <td>1.00000</td>\n",
       "      <td>98,199.00000</td>\n",
       "      <td>47.77760</td>\n",
       "      <td>-121.31500</td>\n",
       "      <td>4,950.00000</td>\n",
       "      <td>871,200.00000</td>\n",
       "      <td>12.00000</td>\n",
       "      <td>2,015.00000</td>\n",
       "    </tr>\n",
       "  </tbody>\n",
       "</table>\n",
       "</div>"
      ],
      "text/plain": [
       "                price     bedrooms    bathrooms  sqft_living        sqft_lot  \\\n",
       "count    19,968.00000 19,968.00000 19,968.00000 19,968.00000    19,968.00000   \n",
       "mean    469,329.01598      3.32307      2.04169  1,958.12285    14,537.10196   \n",
       "std     196,082.43581      0.90615      0.70186    756.06477    40,098.19625   \n",
       "min      78,000.00000      1.00000      0.50000    370.00000       520.00000   \n",
       "25%     315,000.00000      3.00000      1.50000  1,400.00000     5,000.00000   \n",
       "50%     435,000.00000      3.00000      2.00000  1,840.00000     7,500.00000   \n",
       "75%     595,000.00000      4.00000      2.50000  2,410.00000    10,260.00000   \n",
       "max   1,000,000.00000     33.00000      7.50000  7,480.00000 1,651,359.00000   \n",
       "\n",
       "            floors   waterfront         view    condition        grade  \\\n",
       "count 19,968.00000 19,968.00000 19,968.00000 19,968.00000 19,968.00000   \n",
       "mean       1.47316      0.00250      0.16271      3.40650      7.51022   \n",
       "std        0.53671      0.04998      0.62053      0.64534      1.01162   \n",
       "min        1.00000      0.00000      0.00000      1.00000      3.00000   \n",
       "25%        1.00000      0.00000      0.00000      3.00000      7.00000   \n",
       "50%        1.00000      0.00000      0.00000      3.00000      7.00000   \n",
       "75%        2.00000      0.00000      0.00000      4.00000      8.00000   \n",
       "max        3.50000      1.00000      4.00000      5.00000     12.00000   \n",
       "\n",
       "        sqft_above  sqft_basement     yr_built  yr_renovated      zipcode  \\\n",
       "count 19,968.00000   19,968.00000 19,968.00000  19,968.00000 19,968.00000   \n",
       "mean   1,695.02794      257.45618  1,970.83218       0.02985 98,078.49249   \n",
       "std      712.15705      401.48630     29.12310       0.17017     53.27732   \n",
       "min      370.00000        0.00000  1,900.00000       0.00000 98,001.00000   \n",
       "25%    1,170.00000        0.00000  1,952.00000       0.00000 98,033.00000   \n",
       "50%    1,510.00000        0.00000  1,974.00000       0.00000 98,065.00000   \n",
       "75%    2,090.00000      500.00000  1,996.00000       0.00000 98,118.00000   \n",
       "max    5,710.00000    2,720.00000  2,015.00000       1.00000 98,199.00000   \n",
       "\n",
       "               lat         long  sqft_living15    sqft_lot15   month_sold  \\\n",
       "count 19,968.00000 19,968.00000   19,968.00000  19,968.00000 19,968.00000   \n",
       "mean      47.55604   -122.21307    1,910.34014  12,390.72601      6.56816   \n",
       "std        0.14172      0.14250      601.41960  26,475.27016      3.12130   \n",
       "min       47.15590   -122.51900      399.00000     651.00000      1.00000   \n",
       "25%       47.45760   -122.33000    1,470.00000   5,040.00000      4.00000   \n",
       "50%       47.56595   -122.23200    1,800.00000   7,526.00000      6.00000   \n",
       "75%       47.68010   -122.12200    2,260.00000   9,840.00000      9.00000   \n",
       "max       47.77760   -121.31500    4,950.00000 871,200.00000     12.00000   \n",
       "\n",
       "         year_sold  \n",
       "count 19,968.00000  \n",
       "mean   2,014.32502  \n",
       "std        0.46839  \n",
       "min    2,014.00000  \n",
       "25%    2,014.00000  \n",
       "50%    2,014.00000  \n",
       "75%    2,015.00000  \n",
       "max    2,015.00000  "
      ]
     },
     "execution_count": 25,
     "metadata": {},
     "output_type": "execute_result"
    }
   ],
   "source": [
    "df.describe()"
   ]
  },
  {
   "cell_type": "code",
   "execution_count": 26,
   "metadata": {},
   "outputs": [
    {
     "data": {
      "text/plain": [
       "Index(['price', 'bedrooms', 'bathrooms', 'sqft_living', 'sqft_lot', 'floors',\n",
       "       'waterfront', 'view', 'condition', 'grade', 'sqft_above',\n",
       "       'sqft_basement', 'yr_built', 'yr_renovated', 'zipcode', 'lat', 'long',\n",
       "       'sqft_living15', 'sqft_lot15', 'month_sold', 'year_sold'],\n",
       "      dtype='object')"
      ]
     },
     "execution_count": 26,
     "metadata": {},
     "output_type": "execute_result"
    }
   ],
   "source": [
    "col = df.columns\n",
    "col"
   ]
  },
  {
   "cell_type": "code",
   "execution_count": 27,
   "metadata": {},
   "outputs": [],
   "source": [
    "def plot_boxplots(df, col=None, boxplot=True):\n",
    "    fig = plt.figure(figsize=(11, 6))\n",
    "    gs = GridSpec(nrows=2, ncols=2)\n",
    "\n",
    "    ax1 = fig.add_subplot(gs[1, 0])\n",
    "    if col is None:\n",
    "        data = df.copy()\n",
    "        name = data.name\n",
    "    else:\n",
    "        data = df[col].copy()\n",
    "        name = col\n",
    "\n",
    "    ## Plot Boxplot\n",
    "    sns.boxplot(data,x=col,ax=ax1)\n",
    "    ax1.set_title(F\"Box Plot of {name.title()}\")"
   ]
  },
  {
   "cell_type": "code",
   "execution_count": 28,
   "metadata": {},
   "outputs": [
    {
     "name": "stderr",
     "output_type": "stream",
     "text": [
      "<ipython-input-27-5dfc28bec094>:2: RuntimeWarning: More than 20 figures have been opened. Figures created through the pyplot interface (`matplotlib.pyplot.figure`) are retained until explicitly closed and may consume too much memory. (To control this warning, see the rcParam `figure.max_open_warning`).\n",
      "  fig = plt.figure(figsize=(11, 6))\n"
     ]
    },
    {
     "data": {
      "image/png": "[encoded data removed]",
      "text/plain": [
       "<Figure size 792x432 with 1 Axes>"
      ]
     },
     "metadata": {
      "needs_background": "light"
     },
     "output_type": "display_data"
    },
    {
     "data": {
      "image/png": "[encoded data removed]",
      "text/plain": [
       "<Figure size 792x432 with 1 Axes>"
      ]
     },
     "metadata": {
      "needs_background": "light"
     },
     "output_type": "display_data"
    },
    {
     "data": {
      "image/png": "[encoded data removed]",
      "text/plain": [
       "<Figure size 792x432 with 1 Axes>"
      ]
     },
     "metadata": {
      "needs_background": "light"
     },
     "output_type": "display_data"
    },
    {
     "data": {
      "image/png": "[encoded data removed]",
      "text/plain": [
       "<Figure size 792x432 with 1 Axes>"
      ]
     },
     "metadata": {
      "needs_background": "light"
     },
     "output_type": "display_data"
    },
    {
     "data": {
      "image/png": "[encoded data removed]",
      "text/plain": [
       "<Figure size 792x432 with 1 Axes>"
      ]
     },
     "metadata": {
      "needs_background": "light"
     },
     "output_type": "display_data"
    },
    {
     "data": {
      "image/png": "[encoded data removed]",
      "text/plain": [
       "<Figure size 792x432 with 1 Axes>"
      ]
     },
     "metadata": {
      "needs_background": "light"
     },
     "output_type": "display_data"
    },
    {
     "data": {
      "image/png": "[encoded data removed]",
      "text/plain": [
       "<Figure size 792x432 with 1 Axes>"
      ]
     },
     "metadata": {
      "needs_background": "light"
     },
     "output_type": "display_data"
    },
    {
     "data": {
      "image/png": "[encoded data removed]",
      "text/plain": [
       "<Figure size 792x432 with 1 Axes>"
      ]
     },
     "metadata": {
      "needs_background": "light"
     },
     "output_type": "display_data"
    },
    {
     "data": {
      "image/png": "[encoded data removed]",
      "text/plain": [
       "<Figure size 792x432 with 1 Axes>"
      ]
     },
     "metadata": {
      "needs_background": "light"
     },
     "output_type": "display_data"
    },
    {
     "data": {
      "image/png": "[encoded data removed]",
      "text/plain": [
       "<Figure size 792x432 with 1 Axes>"
      ]
     },
     "metadata": {
      "needs_background": "light"
     },
     "output_type": "display_data"
    },
    {
     "data": {
      "image/png": "[encoded data removed]",
      "text/plain": [
       "<Figure size 792x432 with 1 Axes>"
      ]
     },
     "metadata": {
      "needs_background": "light"
     },
     "output_type": "display_data"
    },
    {
     "data": {
      "image/png": "[encoded data removed]",
      "text/plain": [
       "<Figure size 792x432 with 1 Axes>"
      ]
     },
     "metadata": {
      "needs_background": "light"
     },
     "output_type": "display_data"
    },
    {
     "data": {
      "image/png": "[encoded data removed]",
      "text/plain": [
       "<Figure size 792x432 with 1 Axes>"
      ]
     },
     "metadata": {
      "needs_background": "light"
     },
     "output_type": "display_data"
    },
    {
     "data": {
      "image/png": "[encoded data removed]",
      "text/plain": [
       "<Figure size 792x432 with 1 Axes>"
      ]
     },
     "metadata": {
      "needs_background": "light"
     },
     "output_type": "display_data"
    },
    {
     "data": {
      "image/png": "[encoded data removed]",
      "text/plain": [
       "<Figure size 792x432 with 1 Axes>"
      ]
     },
     "metadata": {
      "needs_background": "light"
     },
     "output_type": "display_data"
    },
    {
     "data": {
      "image/png": "[encoded data removed]",
      "text/plain": [
       "<Figure size 792x432 with 1 Axes>"
      ]
     },
     "metadata": {
      "needs_background": "light"
     },
     "output_type": "display_data"
    },
    {
     "data": {
      "image/png": "[encoded data removed]",
      "text/plain": [
       "<Figure size 792x432 with 1 Axes>"
      ]
     },
     "metadata": {
      "needs_background": "light"
     },
     "output_type": "display_data"
    },
    {
     "data": {
      "image/png": "[encoded data removed]",
      "text/plain": [
       "<Figure size 792x432 with 1 Axes>"
      ]
     },
     "metadata": {
      "needs_background": "light"
     },
     "output_type": "display_data"
    },
    {
     "data": {
      "image/png": "[encoded data removed]",
      "text/plain": [
       "<Figure size 792x432 with 1 Axes>"
      ]
     },
     "metadata": {
      "needs_background": "light"
     },
     "output_type": "display_data"
    },
    {
     "data": {
      "image/png": "[encoded data removed]",
      "text/plain": [
       "<Figure size 792x432 with 1 Axes>"
      ]
     },
     "metadata": {
      "needs_background": "light"
     },
     "output_type": "display_data"
    },
    {
     "data": {
      "image/png": "[encoded data removed]",
      "text/plain": [
       "<Figure size 792x432 with 1 Axes>"
      ]
     },
     "metadata": {
      "needs_background": "light"
     },
     "output_type": "display_data"
    }
   ],
   "source": [
    "for col in df:\n",
    "    plot_boxplots(df =df , col=col)"
   ]
  },
  {
   "cell_type": "code",
   "execution_count": 29,
   "metadata": {},
   "outputs": [],
   "source": [
    "# Remove outliers using IQR method\n",
    "# Code modified from https://stackoverflow.com/questions/50461349/how-to-remove-outlier-from-dataframe-using-iqr\n",
    "def outlier_IQR(df):\n",
    "    \n",
    "    keep = df.describe()\n",
    "    q1 = keep['25%']\n",
    "    q3 = keep['75%']\n",
    "    IQR = q3-q1\n",
    "    outliers =(data < (q1- 1.5 * IQR)) | (data > (q3 + 1.5 * IQR))\n",
    "    return outliers"
   ]
  },
  {
   "cell_type": "markdown",
   "metadata": {},
   "source": [
    "In the 'Explore' section, we saw that we have many outliers several columns. We will proceed to remove outliers from those columns that have extreme outliers, based on our boxplot visualizations"
   ]
  },
  {
   "cell_type": "code",
   "execution_count": 30,
   "metadata": {},
   "outputs": [
    {
     "ename": "NameError",
     "evalue": "name 'df_model' is not defined",
     "output_type": "error",
     "traceback": [
      "\u001b[0;31m--------------------------------------------------------------------------\u001b[0m",
      "\u001b[0;31mNameError\u001b[0m                                Traceback (most recent call last)",
      "\u001b[0;32m<ipython-input-30-92786fb3c5eb>\u001b[0m in \u001b[0;36m<module>\u001b[0;34m\u001b[0m\n\u001b[1;32m      2\u001b[0m cols_outlier = ['price', 'bedrooms', 'bathrooms', 'sqft_lot', 'sqft_above', \\\n\u001b[1;32m      3\u001b[0m                 'sqft_basement', 'sqft_living15']\n\u001b[0;32m----> 4\u001b[0;31m \u001b[0mdf_outliers\u001b[0m \u001b[0;34m=\u001b[0m \u001b[0mdf_model\u001b[0m\u001b[0;34m.\u001b[0m\u001b[0mcopy\u001b[0m\u001b[0;34m(\u001b[0m\u001b[0;34m)\u001b[0m\u001b[0;34m\u001b[0m\u001b[0;34m\u001b[0m\u001b[0m\n\u001b[0m\u001b[1;32m      5\u001b[0m \u001b[0;34m\u001b[0m\u001b[0m\n\u001b[1;32m      6\u001b[0m \u001b[0;31m# Remove outliers for specified columns\u001b[0m\u001b[0;34m\u001b[0m\u001b[0;34m\u001b[0m\u001b[0;34m\u001b[0m\u001b[0m\n",
      "\u001b[0;31mNameError\u001b[0m: name 'df_model' is not defined"
     ]
    }
   ],
   "source": [
    "# Create list of columns to remove outliers from\n",
    "cols_outlier = ['price', 'bedrooms', 'bathrooms', 'sqft_lot', 'sqft_above', \\\n",
    "                'sqft_basement', 'sqft_living15']\n",
    "df_outliers = df_model.copy()\n",
    "\n",
    "# Remove outliers for specified columns\n",
    "for col in cols_outlier:\n",
    "    df_outliers = df_outliers[~find_outliers_IQR(df_outliers[col])]"
   ]
  },
  {
   "cell_type": "markdown",
   "metadata": {},
   "source": [
    "### Exploratory Data Analysis (EDA)"
   ]
  },
  {
   "cell_type": "code",
   "execution_count": null,
   "metadata": {},
   "outputs": [],
   "source": []
  },
  {
   "cell_type": "code",
   "execution_count": null,
   "metadata": {},
   "outputs": [],
   "source": []
  },
  {
   "cell_type": "code",
   "execution_count": null,
   "metadata": {},
   "outputs": [],
   "source": []
  },
  {
   "cell_type": "code",
   "execution_count": null,
   "metadata": {},
   "outputs": [],
   "source": []
  },
  {
   "cell_type": "code",
   "execution_count": null,
   "metadata": {},
   "outputs": [],
   "source": []
  },
  {
   "cell_type": "markdown",
   "metadata": {},
   "source": [
    "### Baseline Model\n",
    "Now that we cleaned up the data, let's take a look at a baseline model."
   ]
  },
  {
   "cell_type": "code",
   "execution_count": null,
   "metadata": {},
   "outputs": [],
   "source": [
    "result_plot(df)"
   ]
  },
  {
   "cell_type": "markdown",
   "metadata": {},
   "source": [
    "PLACEHOLDER\n",
    "comment on the Q-Q plot and Homoscedasticity"
   ]
  },
  {
   "cell_type": "markdown",
   "metadata": {},
   "source": [
    "### Exploratory Data Analysis (EDA)"
   ]
  },
  {
   "cell_type": "code",
   "execution_count": null,
   "metadata": {},
   "outputs": [],
   "source": []
  },
  {
   "cell_type": "code",
   "execution_count": null,
   "metadata": {},
   "outputs": [],
   "source": []
  },
  {
   "cell_type": "markdown",
   "metadata": {},
   "source": [
    "## Model 1"
   ]
  },
  {
   "cell_type": "markdown",
   "metadata": {},
   "source": [
    "## Model 2"
   ]
  },
  {
   "cell_type": "markdown",
   "metadata": {},
   "source": [
    "## Model 3"
   ]
  },
  {
   "cell_type": "markdown",
   "metadata": {},
   "source": [
    "## Conclusions Placeholder\n",
    "This analysis leads to three recommendations for creating movies :\n",
    "\n",
    "**1. Release movies in May, June, July, November, or December.** Our analysis shows that summertime and holiday seasons are the best time of year to release a movie. If Microsoft wants to release a movie across the world simultaneously, I recommend launching a movie in June or July. If different timeline can be applied, release a movie in the States in May first, then internationally in June.\n",
    "\n",
    "**2. Produce a movie in Mystery, Horror, Animation genres.** Microsoft has the capability to run movie business in many countries as it has many locations worldwide. Therefore, I recommend producing a movie in Mystery, Horror, and Animation to target audience globally.\n",
    "\n",
    "**3. Recruit people with proven stats.** I provided lists of top 10 actors and directors in top 3 genres that generated the most profit. Microsoft should contact these individuals and try to recruit them to enter this competitive movie industry"
   ]
  },
  {
   "cell_type": "markdown",
   "metadata": {},
   "source": [
    "## Next Steps Placeholder\n",
    "Further analyses could lead to additional insights:\n",
    "* **ROI Trend in Popular Genres**: while we have identified which top 3 genres have generated the most profit, such analysis can provide whether the business is continuously growing in those genres over time.\n",
    "* **Ideal Budget Range**: This modeling could predict the ideal production budget for the movies that Microsoft wants to produce."
   ]
  },
  {
   "cell_type": "code",
   "execution_count": null,
   "metadata": {},
   "outputs": [],
   "source": []
  }
 ],
 "metadata": {
  "kernelspec": {
   "display_name": "Python 3",
   "language": "python",
   "name": "python3"
  },
  "language_info": {
   "codemirror_mode": {
    "name": "ipython",
    "version": 3
   },
   "file_extension": ".py",
   "mimetype": "text/x-python",
   "name": "python",
   "nbconvert_exporter": "python",
   "pygments_lexer": "ipython3",
   "version": "3.8.5"
  }
 },
 "nbformat": 4,
 "nbformat_minor": 4
}
