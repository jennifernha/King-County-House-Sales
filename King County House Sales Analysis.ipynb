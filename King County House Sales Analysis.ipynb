{
 "cells": [
  {
   "cell_type": "markdown",
   "metadata": {},
   "source": [
    "<img src=\"images/seattlewaterfront.jpg\">"
   ]
  },
  {
   "cell_type": "markdown",
   "metadata": {},
   "source": [
    "# King County House Sales Analysis\n",
    "Author: Jennifer Ha\n",
    "***"
   ]
  },
  {
   "cell_type": "markdown",
   "metadata": {},
   "source": [
    "## Overview placeholder\n",
    "This analysis project explores trends in film business to provide Microsoft with actionable recommendations as they want to enter this business as well. we will review data sets from TheNumbers.com and IMDb to determine when Microsoft should release a movie, which types of genres to consider, and whom to recruit. The methodology includes filtering, and joining and visualizing data sets to show different trends in ROI. The result shows higher ROI when Mystery, Horror, and Animation movies are released in May-July, and November-December. I recommend Microsoft to partner with lists of top 10 actors and directors in those genres, and release movies during the summer (May-July) or holiday season (Nov-Dec)."
   ]
  },
  {
   "cell_type": "markdown",
   "metadata": {},
   "source": [
    "## Business Problem placeholder\n",
    "Microsoft sees all the big companies creating original video content and they want to get in on the fun. They have decided to create a new movie studio, but they don’t know anything about creating movies.\n",
    "\n",
    "In order to assist the stakeholders at Microsoft to make data-driven decisions for their new business, we will be reviewing and analyzing datasets to provide a viable and profitable business option. The findings and recommendations will help the stakeholders with better understanding of the movie industry, to decide when to release their movies and who to work with to drive a successful outcome."
   ]
  },
  {
   "cell_type": "markdown",
   "metadata": {},
   "source": [
    "## Data"
   ]
  },
  {
   "cell_type": "markdown",
   "metadata": {},
   "source": [
    "### Data Preparation & Clean Up"
   ]
  },
  {
   "cell_type": "code",
   "execution_count": 1,
   "metadata": {},
   "outputs": [
    {
     "data": {
      "text/html": [
       "<div>\n",
       "<style scoped>\n",
       "    .dataframe tbody tr th:only-of-type {\n",
       "        vertical-align: middle;\n",
       "    }\n",
       "\n",
       "    .dataframe tbody tr th {\n",
       "        vertical-align: top;\n",
       "    }\n",
       "\n",
       "    .dataframe thead th {\n",
       "        text-align: right;\n",
       "    }\n",
       "</style>\n",
       "<table border=\"1\" class=\"dataframe\">\n",
       "  <thead>\n",
       "    <tr style=\"text-align: right;\">\n",
       "      <th></th>\n",
       "      <th>id</th>\n",
       "      <th>date</th>\n",
       "      <th>price</th>\n",
       "      <th>bedrooms</th>\n",
       "      <th>bathrooms</th>\n",
       "      <th>sqft_living</th>\n",
       "      <th>sqft_lot</th>\n",
       "      <th>floors</th>\n",
       "      <th>waterfront</th>\n",
       "      <th>view</th>\n",
       "      <th>condition</th>\n",
       "      <th>grade</th>\n",
       "      <th>sqft_above</th>\n",
       "      <th>sqft_basement</th>\n",
       "      <th>yr_built</th>\n",
       "      <th>yr_renovated</th>\n",
       "      <th>zipcode</th>\n",
       "      <th>lat</th>\n",
       "      <th>long</th>\n",
       "      <th>sqft_living15</th>\n",
       "      <th>sqft_lot15</th>\n",
       "    </tr>\n",
       "  </thead>\n",
       "  <tbody>\n",
       "    <tr>\n",
       "      <th>0</th>\n",
       "      <td>7129300520</td>\n",
       "      <td>10/13/2014</td>\n",
       "      <td>221,900.00000</td>\n",
       "      <td>3</td>\n",
       "      <td>1.00000</td>\n",
       "      <td>1180</td>\n",
       "      <td>5650</td>\n",
       "      <td>1.00000</td>\n",
       "      <td>nan</td>\n",
       "      <td>0.00000</td>\n",
       "      <td>3</td>\n",
       "      <td>7</td>\n",
       "      <td>1180</td>\n",
       "      <td>0.0</td>\n",
       "      <td>1955</td>\n",
       "      <td>0.00000</td>\n",
       "      <td>98178</td>\n",
       "      <td>47.51120</td>\n",
       "      <td>-122.25700</td>\n",
       "      <td>1340</td>\n",
       "      <td>5650</td>\n",
       "    </tr>\n",
       "    <tr>\n",
       "      <th>1</th>\n",
       "      <td>6414100192</td>\n",
       "      <td>12/9/2014</td>\n",
       "      <td>538,000.00000</td>\n",
       "      <td>3</td>\n",
       "      <td>2.25000</td>\n",
       "      <td>2570</td>\n",
       "      <td>7242</td>\n",
       "      <td>2.00000</td>\n",
       "      <td>0.00000</td>\n",
       "      <td>0.00000</td>\n",
       "      <td>3</td>\n",
       "      <td>7</td>\n",
       "      <td>2170</td>\n",
       "      <td>400.0</td>\n",
       "      <td>1951</td>\n",
       "      <td>1,991.00000</td>\n",
       "      <td>98125</td>\n",
       "      <td>47.72100</td>\n",
       "      <td>-122.31900</td>\n",
       "      <td>1690</td>\n",
       "      <td>7639</td>\n",
       "    </tr>\n",
       "    <tr>\n",
       "      <th>2</th>\n",
       "      <td>5631500400</td>\n",
       "      <td>2/25/2015</td>\n",
       "      <td>180,000.00000</td>\n",
       "      <td>2</td>\n",
       "      <td>1.00000</td>\n",
       "      <td>770</td>\n",
       "      <td>10000</td>\n",
       "      <td>1.00000</td>\n",
       "      <td>0.00000</td>\n",
       "      <td>0.00000</td>\n",
       "      <td>3</td>\n",
       "      <td>6</td>\n",
       "      <td>770</td>\n",
       "      <td>0.0</td>\n",
       "      <td>1933</td>\n",
       "      <td>nan</td>\n",
       "      <td>98028</td>\n",
       "      <td>47.73790</td>\n",
       "      <td>-122.23300</td>\n",
       "      <td>2720</td>\n",
       "      <td>8062</td>\n",
       "    </tr>\n",
       "    <tr>\n",
       "      <th>3</th>\n",
       "      <td>2487200875</td>\n",
       "      <td>12/9/2014</td>\n",
       "      <td>604,000.00000</td>\n",
       "      <td>4</td>\n",
       "      <td>3.00000</td>\n",
       "      <td>1960</td>\n",
       "      <td>5000</td>\n",
       "      <td>1.00000</td>\n",
       "      <td>0.00000</td>\n",
       "      <td>0.00000</td>\n",
       "      <td>5</td>\n",
       "      <td>7</td>\n",
       "      <td>1050</td>\n",
       "      <td>910.0</td>\n",
       "      <td>1965</td>\n",
       "      <td>0.00000</td>\n",
       "      <td>98136</td>\n",
       "      <td>47.52080</td>\n",
       "      <td>-122.39300</td>\n",
       "      <td>1360</td>\n",
       "      <td>5000</td>\n",
       "    </tr>\n",
       "    <tr>\n",
       "      <th>4</th>\n",
       "      <td>1954400510</td>\n",
       "      <td>2/18/2015</td>\n",
       "      <td>510,000.00000</td>\n",
       "      <td>3</td>\n",
       "      <td>2.00000</td>\n",
       "      <td>1680</td>\n",
       "      <td>8080</td>\n",
       "      <td>1.00000</td>\n",
       "      <td>0.00000</td>\n",
       "      <td>0.00000</td>\n",
       "      <td>3</td>\n",
       "      <td>8</td>\n",
       "      <td>1680</td>\n",
       "      <td>0.0</td>\n",
       "      <td>1987</td>\n",
       "      <td>0.00000</td>\n",
       "      <td>98074</td>\n",
       "      <td>47.61680</td>\n",
       "      <td>-122.04500</td>\n",
       "      <td>1800</td>\n",
       "      <td>7503</td>\n",
       "    </tr>\n",
       "  </tbody>\n",
       "</table>\n",
       "</div>"
      ],
      "text/plain": [
       "           id        date         price  bedrooms  bathrooms  sqft_living  \\\n",
       "0  7129300520  10/13/2014 221,900.00000         3    1.00000         1180   \n",
       "1  6414100192   12/9/2014 538,000.00000         3    2.25000         2570   \n",
       "2  5631500400   2/25/2015 180,000.00000         2    1.00000          770   \n",
       "3  2487200875   12/9/2014 604,000.00000         4    3.00000         1960   \n",
       "4  1954400510   2/18/2015 510,000.00000         3    2.00000         1680   \n",
       "\n",
       "   sqft_lot  floors  waterfront    view  condition  grade  sqft_above  \\\n",
       "0      5650 1.00000         nan 0.00000          3      7        1180   \n",
       "1      7242 2.00000     0.00000 0.00000          3      7        2170   \n",
       "2     10000 1.00000     0.00000 0.00000          3      6         770   \n",
       "3      5000 1.00000     0.00000 0.00000          5      7        1050   \n",
       "4      8080 1.00000     0.00000 0.00000          3      8        1680   \n",
       "\n",
       "  sqft_basement  yr_built  yr_renovated  zipcode      lat       long  \\\n",
       "0           0.0      1955       0.00000    98178 47.51120 -122.25700   \n",
       "1         400.0      1951   1,991.00000    98125 47.72100 -122.31900   \n",
       "2           0.0      1933           nan    98028 47.73790 -122.23300   \n",
       "3         910.0      1965       0.00000    98136 47.52080 -122.39300   \n",
       "4           0.0      1987       0.00000    98074 47.61680 -122.04500   \n",
       "\n",
       "   sqft_living15  sqft_lot15  \n",
       "0           1340        5650  \n",
       "1           1690        7639  \n",
       "2           2720        8062  \n",
       "3           1360        5000  \n",
       "4           1800        7503  "
      ]
     },
     "execution_count": 1,
     "metadata": {},
     "output_type": "execute_result"
    }
   ],
   "source": [
    "# Import all libraries & packages\n",
    "import numpy as np\n",
    "import pandas as pd\n",
    "from pandas.plotting import table\n",
    "import matplotlib.pyplot as plt\n",
    "import matplotlib.colors as pltcol\n",
    "import seaborn as sns\n",
    "import math\n",
    "\n",
    "import statsmodels.api as sm\n",
    "import statsmodels.formula.api as smf\n",
    "import statsmodels.tools.eval_measures as ev\n",
    "from sklearn.linear_model import LinearRegression\n",
    "from sklearn.model_selection import train_test_split\n",
    "from sklearn.metrics import r2_score,mean_absolute_error, make_scorer\n",
    "from sklearn.model_selection import cross_val_score\n",
    "from scipy.special import boxcox, inv_boxcox\n",
    "from matplotlib.gridspec import GridSpec\n",
    "\n",
    "import scipy.stats as stats\n",
    "from statsmodels.formula.api import ols\n",
    "\n",
    "import warnings\n",
    "warnings.simplefilter(action=\"ignore\", category=FutureWarning)\n",
    "\n",
    "%matplotlib inline\n",
    "\n",
    "# Import my personal functions \n",
    "from functions import metrics, result_plot\n",
    "\n",
    "# Remove scientific notation\n",
    "pd.options.display.float_format = '{:,.5f}'.format\n",
    "\n",
    "# Display all the columns without truncation\n",
    "pd.set_option('display.max_columns', None)\n",
    "\n",
    "# Import data into a dataframe and preview \n",
    "df = pd.read_csv('data/kc_house_data.csv')\n",
    "df.head()"
   ]
  },
  {
   "cell_type": "code",
   "execution_count": 2,
   "metadata": {},
   "outputs": [
    {
     "name": "stdout",
     "output_type": "stream",
     "text": [
      "<class 'pandas.core.frame.DataFrame'>\n",
      "RangeIndex: 21597 entries, 0 to 21596\n",
      "Data columns (total 21 columns):\n",
      " #   Column         Non-Null Count  Dtype  \n",
      "---  ------         --------------  -----  \n",
      " 0   id             21597 non-null  int64  \n",
      " 1   date           21597 non-null  object \n",
      " 2   price          21597 non-null  float64\n",
      " 3   bedrooms       21597 non-null  int64  \n",
      " 4   bathrooms      21597 non-null  float64\n",
      " 5   sqft_living    21597 non-null  int64  \n",
      " 6   sqft_lot       21597 non-null  int64  \n",
      " 7   floors         21597 non-null  float64\n",
      " 8   waterfront     19221 non-null  float64\n",
      " 9   view           21534 non-null  float64\n",
      " 10  condition      21597 non-null  int64  \n",
      " 11  grade          21597 non-null  int64  \n",
      " 12  sqft_above     21597 non-null  int64  \n",
      " 13  sqft_basement  21597 non-null  object \n",
      " 14  yr_built       21597 non-null  int64  \n",
      " 15  yr_renovated   17755 non-null  float64\n",
      " 16  zipcode        21597 non-null  int64  \n",
      " 17  lat            21597 non-null  float64\n",
      " 18  long           21597 non-null  float64\n",
      " 19  sqft_living15  21597 non-null  int64  \n",
      " 20  sqft_lot15     21597 non-null  int64  \n",
      "dtypes: float64(8), int64(11), object(2)\n",
      "memory usage: 3.5+ MB\n"
     ]
    }
   ],
   "source": [
    "# Get summary of the DataFrame\n",
    "df.info()"
   ]
  },
  {
   "cell_type": "markdown",
   "metadata": {},
   "source": [
    "### Check for Duplicates"
   ]
  },
  {
   "cell_type": "code",
   "execution_count": 3,
   "metadata": {},
   "outputs": [
    {
     "data": {
      "text/plain": [
       "177"
      ]
     },
     "execution_count": 3,
     "metadata": {},
     "output_type": "execute_result"
    }
   ],
   "source": [
    "# Check for duplicates in 'id' which should work as index\n",
    "df.id.duplicated().sum()"
   ]
  },
  {
   "cell_type": "code",
   "execution_count": 4,
   "metadata": {},
   "outputs": [
    {
     "data": {
      "text/html": [
       "<div>\n",
       "<style scoped>\n",
       "    .dataframe tbody tr th:only-of-type {\n",
       "        vertical-align: middle;\n",
       "    }\n",
       "\n",
       "    .dataframe tbody tr th {\n",
       "        vertical-align: top;\n",
       "    }\n",
       "\n",
       "    .dataframe thead th {\n",
       "        text-align: right;\n",
       "    }\n",
       "</style>\n",
       "<table border=\"1\" class=\"dataframe\">\n",
       "  <thead>\n",
       "    <tr style=\"text-align: right;\">\n",
       "      <th></th>\n",
       "      <th>id</th>\n",
       "      <th>date</th>\n",
       "      <th>price</th>\n",
       "      <th>bedrooms</th>\n",
       "      <th>bathrooms</th>\n",
       "      <th>sqft_living</th>\n",
       "      <th>sqft_lot</th>\n",
       "      <th>floors</th>\n",
       "      <th>waterfront</th>\n",
       "      <th>view</th>\n",
       "      <th>condition</th>\n",
       "      <th>grade</th>\n",
       "      <th>sqft_above</th>\n",
       "      <th>sqft_basement</th>\n",
       "      <th>yr_built</th>\n",
       "      <th>yr_renovated</th>\n",
       "      <th>zipcode</th>\n",
       "      <th>lat</th>\n",
       "      <th>long</th>\n",
       "      <th>sqft_living15</th>\n",
       "      <th>sqft_lot15</th>\n",
       "    </tr>\n",
       "  </thead>\n",
       "  <tbody>\n",
       "    <tr>\n",
       "      <th>94</th>\n",
       "      <td>6021501535</td>\n",
       "      <td>12/23/2014</td>\n",
       "      <td>700,000.00000</td>\n",
       "      <td>3</td>\n",
       "      <td>1.50000</td>\n",
       "      <td>1580</td>\n",
       "      <td>5000</td>\n",
       "      <td>1.00000</td>\n",
       "      <td>0.00000</td>\n",
       "      <td>0.00000</td>\n",
       "      <td>3</td>\n",
       "      <td>8</td>\n",
       "      <td>1290</td>\n",
       "      <td>290.0</td>\n",
       "      <td>1939</td>\n",
       "      <td>0.00000</td>\n",
       "      <td>98117</td>\n",
       "      <td>47.68700</td>\n",
       "      <td>-122.38600</td>\n",
       "      <td>1570</td>\n",
       "      <td>4500</td>\n",
       "    </tr>\n",
       "    <tr>\n",
       "      <th>314</th>\n",
       "      <td>4139480200</td>\n",
       "      <td>12/9/2014</td>\n",
       "      <td>1,400,000.00000</td>\n",
       "      <td>4</td>\n",
       "      <td>3.25000</td>\n",
       "      <td>4290</td>\n",
       "      <td>12103</td>\n",
       "      <td>1.00000</td>\n",
       "      <td>0.00000</td>\n",
       "      <td>3.00000</td>\n",
       "      <td>3</td>\n",
       "      <td>11</td>\n",
       "      <td>2690</td>\n",
       "      <td>1600.0</td>\n",
       "      <td>1997</td>\n",
       "      <td>0.00000</td>\n",
       "      <td>98006</td>\n",
       "      <td>47.55030</td>\n",
       "      <td>-122.10200</td>\n",
       "      <td>3860</td>\n",
       "      <td>11244</td>\n",
       "    </tr>\n",
       "    <tr>\n",
       "      <th>325</th>\n",
       "      <td>7520000520</td>\n",
       "      <td>3/11/2015</td>\n",
       "      <td>240,500.00000</td>\n",
       "      <td>2</td>\n",
       "      <td>1.00000</td>\n",
       "      <td>1240</td>\n",
       "      <td>12092</td>\n",
       "      <td>1.00000</td>\n",
       "      <td>0.00000</td>\n",
       "      <td>0.00000</td>\n",
       "      <td>3</td>\n",
       "      <td>6</td>\n",
       "      <td>960</td>\n",
       "      <td>280.0</td>\n",
       "      <td>1922</td>\n",
       "      <td>1,984.00000</td>\n",
       "      <td>98146</td>\n",
       "      <td>47.49570</td>\n",
       "      <td>-122.35200</td>\n",
       "      <td>1820</td>\n",
       "      <td>7460</td>\n",
       "    </tr>\n",
       "    <tr>\n",
       "      <th>346</th>\n",
       "      <td>3969300030</td>\n",
       "      <td>12/29/2014</td>\n",
       "      <td>239,900.00000</td>\n",
       "      <td>4</td>\n",
       "      <td>1.00000</td>\n",
       "      <td>1000</td>\n",
       "      <td>7134</td>\n",
       "      <td>1.00000</td>\n",
       "      <td>0.00000</td>\n",
       "      <td>0.00000</td>\n",
       "      <td>3</td>\n",
       "      <td>6</td>\n",
       "      <td>1000</td>\n",
       "      <td>0.0</td>\n",
       "      <td>1943</td>\n",
       "      <td>nan</td>\n",
       "      <td>98178</td>\n",
       "      <td>47.48970</td>\n",
       "      <td>-122.24000</td>\n",
       "      <td>1020</td>\n",
       "      <td>7138</td>\n",
       "    </tr>\n",
       "    <tr>\n",
       "      <th>372</th>\n",
       "      <td>2231500030</td>\n",
       "      <td>3/24/2015</td>\n",
       "      <td>530,000.00000</td>\n",
       "      <td>4</td>\n",
       "      <td>2.25000</td>\n",
       "      <td>2180</td>\n",
       "      <td>10754</td>\n",
       "      <td>1.00000</td>\n",
       "      <td>0.00000</td>\n",
       "      <td>0.00000</td>\n",
       "      <td>5</td>\n",
       "      <td>7</td>\n",
       "      <td>1100</td>\n",
       "      <td>1080.0</td>\n",
       "      <td>1954</td>\n",
       "      <td>0.00000</td>\n",
       "      <td>98133</td>\n",
       "      <td>47.77110</td>\n",
       "      <td>-122.34100</td>\n",
       "      <td>1810</td>\n",
       "      <td>6929</td>\n",
       "    </tr>\n",
       "    <tr>\n",
       "      <th>...</th>\n",
       "      <td>...</td>\n",
       "      <td>...</td>\n",
       "      <td>...</td>\n",
       "      <td>...</td>\n",
       "      <td>...</td>\n",
       "      <td>...</td>\n",
       "      <td>...</td>\n",
       "      <td>...</td>\n",
       "      <td>...</td>\n",
       "      <td>...</td>\n",
       "      <td>...</td>\n",
       "      <td>...</td>\n",
       "      <td>...</td>\n",
       "      <td>...</td>\n",
       "      <td>...</td>\n",
       "      <td>...</td>\n",
       "      <td>...</td>\n",
       "      <td>...</td>\n",
       "      <td>...</td>\n",
       "      <td>...</td>\n",
       "      <td>...</td>\n",
       "    </tr>\n",
       "    <tr>\n",
       "      <th>20165</th>\n",
       "      <td>7853400250</td>\n",
       "      <td>2/19/2015</td>\n",
       "      <td>645,000.00000</td>\n",
       "      <td>4</td>\n",
       "      <td>3.50000</td>\n",
       "      <td>2910</td>\n",
       "      <td>5260</td>\n",
       "      <td>2.00000</td>\n",
       "      <td>0.00000</td>\n",
       "      <td>0.00000</td>\n",
       "      <td>3</td>\n",
       "      <td>9</td>\n",
       "      <td>2910</td>\n",
       "      <td>0.0</td>\n",
       "      <td>2012</td>\n",
       "      <td>0.00000</td>\n",
       "      <td>98065</td>\n",
       "      <td>47.51680</td>\n",
       "      <td>-121.88300</td>\n",
       "      <td>2910</td>\n",
       "      <td>5260</td>\n",
       "    </tr>\n",
       "    <tr>\n",
       "      <th>20597</th>\n",
       "      <td>2724049222</td>\n",
       "      <td>12/1/2014</td>\n",
       "      <td>220,000.00000</td>\n",
       "      <td>2</td>\n",
       "      <td>2.50000</td>\n",
       "      <td>1000</td>\n",
       "      <td>1092</td>\n",
       "      <td>2.00000</td>\n",
       "      <td>0.00000</td>\n",
       "      <td>0.00000</td>\n",
       "      <td>3</td>\n",
       "      <td>7</td>\n",
       "      <td>990</td>\n",
       "      <td>10.0</td>\n",
       "      <td>2004</td>\n",
       "      <td>0.00000</td>\n",
       "      <td>98118</td>\n",
       "      <td>47.54190</td>\n",
       "      <td>-122.27100</td>\n",
       "      <td>1330</td>\n",
       "      <td>1466</td>\n",
       "    </tr>\n",
       "    <tr>\n",
       "      <th>20654</th>\n",
       "      <td>8564860270</td>\n",
       "      <td>3/30/2015</td>\n",
       "      <td>502,000.00000</td>\n",
       "      <td>4</td>\n",
       "      <td>2.50000</td>\n",
       "      <td>2680</td>\n",
       "      <td>5539</td>\n",
       "      <td>2.00000</td>\n",
       "      <td>nan</td>\n",
       "      <td>0.00000</td>\n",
       "      <td>3</td>\n",
       "      <td>8</td>\n",
       "      <td>2680</td>\n",
       "      <td>0.0</td>\n",
       "      <td>2013</td>\n",
       "      <td>0.00000</td>\n",
       "      <td>98045</td>\n",
       "      <td>47.47590</td>\n",
       "      <td>-121.73400</td>\n",
       "      <td>2680</td>\n",
       "      <td>5992</td>\n",
       "    </tr>\n",
       "    <tr>\n",
       "      <th>20764</th>\n",
       "      <td>6300000226</td>\n",
       "      <td>5/4/2015</td>\n",
       "      <td>380,000.00000</td>\n",
       "      <td>4</td>\n",
       "      <td>1.00000</td>\n",
       "      <td>1200</td>\n",
       "      <td>2171</td>\n",
       "      <td>1.50000</td>\n",
       "      <td>0.00000</td>\n",
       "      <td>0.00000</td>\n",
       "      <td>3</td>\n",
       "      <td>7</td>\n",
       "      <td>1200</td>\n",
       "      <td>0.0</td>\n",
       "      <td>1933</td>\n",
       "      <td>0.00000</td>\n",
       "      <td>98133</td>\n",
       "      <td>47.70760</td>\n",
       "      <td>-122.34200</td>\n",
       "      <td>1130</td>\n",
       "      <td>1598</td>\n",
       "    </tr>\n",
       "    <tr>\n",
       "      <th>21565</th>\n",
       "      <td>7853420110</td>\n",
       "      <td>5/4/2015</td>\n",
       "      <td>625,000.00000</td>\n",
       "      <td>3</td>\n",
       "      <td>3.00000</td>\n",
       "      <td>2780</td>\n",
       "      <td>6000</td>\n",
       "      <td>2.00000</td>\n",
       "      <td>0.00000</td>\n",
       "      <td>0.00000</td>\n",
       "      <td>3</td>\n",
       "      <td>9</td>\n",
       "      <td>2780</td>\n",
       "      <td>0.0</td>\n",
       "      <td>2013</td>\n",
       "      <td>nan</td>\n",
       "      <td>98065</td>\n",
       "      <td>47.51840</td>\n",
       "      <td>-121.88600</td>\n",
       "      <td>2850</td>\n",
       "      <td>6000</td>\n",
       "    </tr>\n",
       "  </tbody>\n",
       "</table>\n",
       "<p>177 rows × 21 columns</p>\n",
       "</div>"
      ],
      "text/plain": [
       "               id        date           price  bedrooms  bathrooms  \\\n",
       "94     6021501535  12/23/2014   700,000.00000         3    1.50000   \n",
       "314    4139480200   12/9/2014 1,400,000.00000         4    3.25000   \n",
       "325    7520000520   3/11/2015   240,500.00000         2    1.00000   \n",
       "346    3969300030  12/29/2014   239,900.00000         4    1.00000   \n",
       "372    2231500030   3/24/2015   530,000.00000         4    2.25000   \n",
       "...           ...         ...             ...       ...        ...   \n",
       "20165  7853400250   2/19/2015   645,000.00000         4    3.50000   \n",
       "20597  2724049222   12/1/2014   220,000.00000         2    2.50000   \n",
       "20654  8564860270   3/30/2015   502,000.00000         4    2.50000   \n",
       "20764  6300000226    5/4/2015   380,000.00000         4    1.00000   \n",
       "21565  7853420110    5/4/2015   625,000.00000         3    3.00000   \n",
       "\n",
       "       sqft_living  sqft_lot  floors  waterfront    view  condition  grade  \\\n",
       "94            1580      5000 1.00000     0.00000 0.00000          3      8   \n",
       "314           4290     12103 1.00000     0.00000 3.00000          3     11   \n",
       "325           1240     12092 1.00000     0.00000 0.00000          3      6   \n",
       "346           1000      7134 1.00000     0.00000 0.00000          3      6   \n",
       "372           2180     10754 1.00000     0.00000 0.00000          5      7   \n",
       "...            ...       ...     ...         ...     ...        ...    ...   \n",
       "20165         2910      5260 2.00000     0.00000 0.00000          3      9   \n",
       "20597         1000      1092 2.00000     0.00000 0.00000          3      7   \n",
       "20654         2680      5539 2.00000         nan 0.00000          3      8   \n",
       "20764         1200      2171 1.50000     0.00000 0.00000          3      7   \n",
       "21565         2780      6000 2.00000     0.00000 0.00000          3      9   \n",
       "\n",
       "       sqft_above sqft_basement  yr_built  yr_renovated  zipcode      lat  \\\n",
       "94           1290         290.0      1939       0.00000    98117 47.68700   \n",
       "314          2690        1600.0      1997       0.00000    98006 47.55030   \n",
       "325           960         280.0      1922   1,984.00000    98146 47.49570   \n",
       "346          1000           0.0      1943           nan    98178 47.48970   \n",
       "372          1100        1080.0      1954       0.00000    98133 47.77110   \n",
       "...           ...           ...       ...           ...      ...      ...   \n",
       "20165        2910           0.0      2012       0.00000    98065 47.51680   \n",
       "20597         990          10.0      2004       0.00000    98118 47.54190   \n",
       "20654        2680           0.0      2013       0.00000    98045 47.47590   \n",
       "20764        1200           0.0      1933       0.00000    98133 47.70760   \n",
       "21565        2780           0.0      2013           nan    98065 47.51840   \n",
       "\n",
       "            long  sqft_living15  sqft_lot15  \n",
       "94    -122.38600           1570        4500  \n",
       "314   -122.10200           3860       11244  \n",
       "325   -122.35200           1820        7460  \n",
       "346   -122.24000           1020        7138  \n",
       "372   -122.34100           1810        6929  \n",
       "...          ...            ...         ...  \n",
       "20165 -121.88300           2910        5260  \n",
       "20597 -122.27100           1330        1466  \n",
       "20654 -121.73400           2680        5992  \n",
       "20764 -122.34200           1130        1598  \n",
       "21565 -121.88600           2850        6000  \n",
       "\n",
       "[177 rows x 21 columns]"
      ]
     },
     "execution_count": 4,
     "metadata": {},
     "output_type": "execute_result"
    }
   ],
   "source": [
    "# Create a separate table to examine the duplicates\n",
    "df_id_duplicates = df[df.duplicated('id')]\n",
    "\n",
    "df_id_duplicates"
   ]
  },
  {
   "cell_type": "code",
   "execution_count": 5,
   "metadata": {},
   "outputs": [
    {
     "data": {
      "text/html": [
       "<div>\n",
       "<style scoped>\n",
       "    .dataframe tbody tr th:only-of-type {\n",
       "        vertical-align: middle;\n",
       "    }\n",
       "\n",
       "    .dataframe tbody tr th {\n",
       "        vertical-align: top;\n",
       "    }\n",
       "\n",
       "    .dataframe thead th {\n",
       "        text-align: right;\n",
       "    }\n",
       "</style>\n",
       "<table border=\"1\" class=\"dataframe\">\n",
       "  <thead>\n",
       "    <tr style=\"text-align: right;\">\n",
       "      <th></th>\n",
       "      <th>id</th>\n",
       "      <th>date</th>\n",
       "      <th>price</th>\n",
       "      <th>bedrooms</th>\n",
       "      <th>bathrooms</th>\n",
       "      <th>sqft_living</th>\n",
       "      <th>sqft_lot</th>\n",
       "      <th>floors</th>\n",
       "      <th>waterfront</th>\n",
       "      <th>view</th>\n",
       "      <th>condition</th>\n",
       "      <th>grade</th>\n",
       "      <th>sqft_above</th>\n",
       "      <th>sqft_basement</th>\n",
       "      <th>yr_built</th>\n",
       "      <th>yr_renovated</th>\n",
       "      <th>zipcode</th>\n",
       "      <th>lat</th>\n",
       "      <th>long</th>\n",
       "      <th>sqft_living15</th>\n",
       "      <th>sqft_lot15</th>\n",
       "    </tr>\n",
       "  </thead>\n",
       "  <tbody>\n",
       "    <tr>\n",
       "      <th>93</th>\n",
       "      <td>6021501535</td>\n",
       "      <td>7/25/2014</td>\n",
       "      <td>430,000.00000</td>\n",
       "      <td>3</td>\n",
       "      <td>1.50000</td>\n",
       "      <td>1580</td>\n",
       "      <td>5000</td>\n",
       "      <td>1.00000</td>\n",
       "      <td>0.00000</td>\n",
       "      <td>0.00000</td>\n",
       "      <td>3</td>\n",
       "      <td>8</td>\n",
       "      <td>1290</td>\n",
       "      <td>290.0</td>\n",
       "      <td>1939</td>\n",
       "      <td>0.00000</td>\n",
       "      <td>98117</td>\n",
       "      <td>47.68700</td>\n",
       "      <td>-122.38600</td>\n",
       "      <td>1570</td>\n",
       "      <td>4500</td>\n",
       "    </tr>\n",
       "    <tr>\n",
       "      <th>94</th>\n",
       "      <td>6021501535</td>\n",
       "      <td>12/23/2014</td>\n",
       "      <td>700,000.00000</td>\n",
       "      <td>3</td>\n",
       "      <td>1.50000</td>\n",
       "      <td>1580</td>\n",
       "      <td>5000</td>\n",
       "      <td>1.00000</td>\n",
       "      <td>0.00000</td>\n",
       "      <td>0.00000</td>\n",
       "      <td>3</td>\n",
       "      <td>8</td>\n",
       "      <td>1290</td>\n",
       "      <td>290.0</td>\n",
       "      <td>1939</td>\n",
       "      <td>0.00000</td>\n",
       "      <td>98117</td>\n",
       "      <td>47.68700</td>\n",
       "      <td>-122.38600</td>\n",
       "      <td>1570</td>\n",
       "      <td>4500</td>\n",
       "    </tr>\n",
       "  </tbody>\n",
       "</table>\n",
       "</div>"
      ],
      "text/plain": [
       "            id        date         price  bedrooms  bathrooms  sqft_living  \\\n",
       "93  6021501535   7/25/2014 430,000.00000         3    1.50000         1580   \n",
       "94  6021501535  12/23/2014 700,000.00000         3    1.50000         1580   \n",
       "\n",
       "    sqft_lot  floors  waterfront    view  condition  grade  sqft_above  \\\n",
       "93      5000 1.00000     0.00000 0.00000          3      8        1290   \n",
       "94      5000 1.00000     0.00000 0.00000          3      8        1290   \n",
       "\n",
       "   sqft_basement  yr_built  yr_renovated  zipcode      lat       long  \\\n",
       "93         290.0      1939       0.00000    98117 47.68700 -122.38600   \n",
       "94         290.0      1939       0.00000    98117 47.68700 -122.38600   \n",
       "\n",
       "    sqft_living15  sqft_lot15  \n",
       "93           1570        4500  \n",
       "94           1570        4500  "
      ]
     },
     "execution_count": 5,
     "metadata": {},
     "output_type": "execute_result"
    }
   ],
   "source": [
    "# Spot check data\n",
    "df.loc[df['id'] == 6021501535]"
   ]
  },
  {
   "cell_type": "code",
   "execution_count": 6,
   "metadata": {},
   "outputs": [
    {
     "data": {
      "text/html": [
       "<div>\n",
       "<style scoped>\n",
       "    .dataframe tbody tr th:only-of-type {\n",
       "        vertical-align: middle;\n",
       "    }\n",
       "\n",
       "    .dataframe tbody tr th {\n",
       "        vertical-align: top;\n",
       "    }\n",
       "\n",
       "    .dataframe thead th {\n",
       "        text-align: right;\n",
       "    }\n",
       "</style>\n",
       "<table border=\"1\" class=\"dataframe\">\n",
       "  <thead>\n",
       "    <tr style=\"text-align: right;\">\n",
       "      <th></th>\n",
       "      <th>id</th>\n",
       "      <th>date</th>\n",
       "      <th>price</th>\n",
       "      <th>bedrooms</th>\n",
       "      <th>bathrooms</th>\n",
       "      <th>sqft_living</th>\n",
       "      <th>sqft_lot</th>\n",
       "      <th>floors</th>\n",
       "      <th>waterfront</th>\n",
       "      <th>view</th>\n",
       "      <th>condition</th>\n",
       "      <th>grade</th>\n",
       "      <th>sqft_above</th>\n",
       "      <th>sqft_basement</th>\n",
       "      <th>yr_built</th>\n",
       "      <th>yr_renovated</th>\n",
       "      <th>zipcode</th>\n",
       "      <th>lat</th>\n",
       "      <th>long</th>\n",
       "      <th>sqft_living15</th>\n",
       "      <th>sqft_lot15</th>\n",
       "    </tr>\n",
       "  </thead>\n",
       "  <tbody>\n",
       "    <tr>\n",
       "      <th>345</th>\n",
       "      <td>3969300030</td>\n",
       "      <td>7/23/2014</td>\n",
       "      <td>165,000.00000</td>\n",
       "      <td>4</td>\n",
       "      <td>1.00000</td>\n",
       "      <td>1000</td>\n",
       "      <td>7134</td>\n",
       "      <td>1.00000</td>\n",
       "      <td>0.00000</td>\n",
       "      <td>0.00000</td>\n",
       "      <td>3</td>\n",
       "      <td>6</td>\n",
       "      <td>1000</td>\n",
       "      <td>0.0</td>\n",
       "      <td>1943</td>\n",
       "      <td>0.00000</td>\n",
       "      <td>98178</td>\n",
       "      <td>47.48970</td>\n",
       "      <td>-122.24000</td>\n",
       "      <td>1020</td>\n",
       "      <td>7138</td>\n",
       "    </tr>\n",
       "    <tr>\n",
       "      <th>346</th>\n",
       "      <td>3969300030</td>\n",
       "      <td>12/29/2014</td>\n",
       "      <td>239,900.00000</td>\n",
       "      <td>4</td>\n",
       "      <td>1.00000</td>\n",
       "      <td>1000</td>\n",
       "      <td>7134</td>\n",
       "      <td>1.00000</td>\n",
       "      <td>0.00000</td>\n",
       "      <td>0.00000</td>\n",
       "      <td>3</td>\n",
       "      <td>6</td>\n",
       "      <td>1000</td>\n",
       "      <td>0.0</td>\n",
       "      <td>1943</td>\n",
       "      <td>nan</td>\n",
       "      <td>98178</td>\n",
       "      <td>47.48970</td>\n",
       "      <td>-122.24000</td>\n",
       "      <td>1020</td>\n",
       "      <td>7138</td>\n",
       "    </tr>\n",
       "  </tbody>\n",
       "</table>\n",
       "</div>"
      ],
      "text/plain": [
       "             id        date         price  bedrooms  bathrooms  sqft_living  \\\n",
       "345  3969300030   7/23/2014 165,000.00000         4    1.00000         1000   \n",
       "346  3969300030  12/29/2014 239,900.00000         4    1.00000         1000   \n",
       "\n",
       "     sqft_lot  floors  waterfront    view  condition  grade  sqft_above  \\\n",
       "345      7134 1.00000     0.00000 0.00000          3      6        1000   \n",
       "346      7134 1.00000     0.00000 0.00000          3      6        1000   \n",
       "\n",
       "    sqft_basement  yr_built  yr_renovated  zipcode      lat       long  \\\n",
       "345           0.0      1943       0.00000    98178 47.48970 -122.24000   \n",
       "346           0.0      1943           nan    98178 47.48970 -122.24000   \n",
       "\n",
       "     sqft_living15  sqft_lot15  \n",
       "345           1020        7138  \n",
       "346           1020        7138  "
      ]
     },
     "execution_count": 6,
     "metadata": {},
     "output_type": "execute_result"
    }
   ],
   "source": [
    "# Spot check data\n",
    "df.loc[df['id'] == 3969300030]"
   ]
  },
  {
   "cell_type": "code",
   "execution_count": 7,
   "metadata": {},
   "outputs": [
    {
     "data": {
      "text/html": [
       "<div>\n",
       "<style scoped>\n",
       "    .dataframe tbody tr th:only-of-type {\n",
       "        vertical-align: middle;\n",
       "    }\n",
       "\n",
       "    .dataframe tbody tr th {\n",
       "        vertical-align: top;\n",
       "    }\n",
       "\n",
       "    .dataframe thead th {\n",
       "        text-align: right;\n",
       "    }\n",
       "</style>\n",
       "<table border=\"1\" class=\"dataframe\">\n",
       "  <thead>\n",
       "    <tr style=\"text-align: right;\">\n",
       "      <th></th>\n",
       "      <th>id</th>\n",
       "      <th>date</th>\n",
       "      <th>price</th>\n",
       "      <th>bedrooms</th>\n",
       "      <th>bathrooms</th>\n",
       "      <th>sqft_living</th>\n",
       "      <th>sqft_lot</th>\n",
       "      <th>floors</th>\n",
       "      <th>waterfront</th>\n",
       "      <th>view</th>\n",
       "      <th>condition</th>\n",
       "      <th>grade</th>\n",
       "      <th>sqft_above</th>\n",
       "      <th>sqft_basement</th>\n",
       "      <th>yr_built</th>\n",
       "      <th>yr_renovated</th>\n",
       "      <th>zipcode</th>\n",
       "      <th>lat</th>\n",
       "      <th>long</th>\n",
       "      <th>sqft_living15</th>\n",
       "      <th>sqft_lot15</th>\n",
       "    </tr>\n",
       "  </thead>\n",
       "  <tbody>\n",
       "    <tr>\n",
       "      <th>20763</th>\n",
       "      <td>6300000226</td>\n",
       "      <td>6/26/2014</td>\n",
       "      <td>240,000.00000</td>\n",
       "      <td>4</td>\n",
       "      <td>1.00000</td>\n",
       "      <td>1200</td>\n",
       "      <td>2171</td>\n",
       "      <td>1.50000</td>\n",
       "      <td>0.00000</td>\n",
       "      <td>0.00000</td>\n",
       "      <td>3</td>\n",
       "      <td>7</td>\n",
       "      <td>1200</td>\n",
       "      <td>0.0</td>\n",
       "      <td>1933</td>\n",
       "      <td>0.00000</td>\n",
       "      <td>98133</td>\n",
       "      <td>47.70760</td>\n",
       "      <td>-122.34200</td>\n",
       "      <td>1130</td>\n",
       "      <td>1598</td>\n",
       "    </tr>\n",
       "    <tr>\n",
       "      <th>20764</th>\n",
       "      <td>6300000226</td>\n",
       "      <td>5/4/2015</td>\n",
       "      <td>380,000.00000</td>\n",
       "      <td>4</td>\n",
       "      <td>1.00000</td>\n",
       "      <td>1200</td>\n",
       "      <td>2171</td>\n",
       "      <td>1.50000</td>\n",
       "      <td>0.00000</td>\n",
       "      <td>0.00000</td>\n",
       "      <td>3</td>\n",
       "      <td>7</td>\n",
       "      <td>1200</td>\n",
       "      <td>0.0</td>\n",
       "      <td>1933</td>\n",
       "      <td>0.00000</td>\n",
       "      <td>98133</td>\n",
       "      <td>47.70760</td>\n",
       "      <td>-122.34200</td>\n",
       "      <td>1130</td>\n",
       "      <td>1598</td>\n",
       "    </tr>\n",
       "  </tbody>\n",
       "</table>\n",
       "</div>"
      ],
      "text/plain": [
       "               id       date         price  bedrooms  bathrooms  sqft_living  \\\n",
       "20763  6300000226  6/26/2014 240,000.00000         4    1.00000         1200   \n",
       "20764  6300000226   5/4/2015 380,000.00000         4    1.00000         1200   \n",
       "\n",
       "       sqft_lot  floors  waterfront    view  condition  grade  sqft_above  \\\n",
       "20763      2171 1.50000     0.00000 0.00000          3      7        1200   \n",
       "20764      2171 1.50000     0.00000 0.00000          3      7        1200   \n",
       "\n",
       "      sqft_basement  yr_built  yr_renovated  zipcode      lat       long  \\\n",
       "20763           0.0      1933       0.00000    98133 47.70760 -122.34200   \n",
       "20764           0.0      1933       0.00000    98133 47.70760 -122.34200   \n",
       "\n",
       "       sqft_living15  sqft_lot15  \n",
       "20763           1130        1598  \n",
       "20764           1130        1598  "
      ]
     },
     "execution_count": 7,
     "metadata": {},
     "output_type": "execute_result"
    }
   ],
   "source": [
    "# Spot check data\n",
    "df.loc[df['id'] == 6300000226]"
   ]
  },
  {
   "cell_type": "markdown",
   "metadata": {},
   "source": [
    "It appears that the IDs are being used to for each property rather than each transactions. I'm only going to keep the latest transaction only."
   ]
  },
  {
   "cell_type": "code",
   "execution_count": 8,
   "metadata": {},
   "outputs": [],
   "source": [
    "# Drop the older data\n",
    "df.drop_duplicates(subset= 'id', keep= 'last', inplace= True)"
   ]
  },
  {
   "cell_type": "code",
   "execution_count": 9,
   "metadata": {},
   "outputs": [
    {
     "data": {
      "text/plain": [
       "0"
      ]
     },
     "execution_count": 9,
     "metadata": {},
     "output_type": "execute_result"
    }
   ],
   "source": [
    "# Check if the duplicates are removed\n",
    "df.id.duplicated().sum()"
   ]
  },
  {
   "cell_type": "markdown",
   "metadata": {},
   "source": [
    "### Datetime - date"
   ]
  },
  {
   "cell_type": "code",
   "execution_count": 10,
   "metadata": {},
   "outputs": [],
   "source": [
    "# Convert date\n",
    "df['date'] = pd.to_datetime(df['date'])"
   ]
  },
  {
   "cell_type": "code",
   "execution_count": 11,
   "metadata": {},
   "outputs": [],
   "source": [
    "df['month_sold'] = df.date.dt.month\n",
    "df['year_sold'] = df.date.dt.year\n",
    "df.drop(['date'], axis= 1, inplace= True)"
   ]
  },
  {
   "cell_type": "code",
   "execution_count": 12,
   "metadata": {},
   "outputs": [
    {
     "name": "stdout",
     "output_type": "stream",
     "text": [
      "<class 'pandas.core.frame.DataFrame'>\n",
      "Int64Index: 21420 entries, 0 to 21596\n",
      "Data columns (total 22 columns):\n",
      " #   Column         Non-Null Count  Dtype  \n",
      "---  ------         --------------  -----  \n",
      " 0   id             21420 non-null  int64  \n",
      " 1   price          21420 non-null  float64\n",
      " 2   bedrooms       21420 non-null  int64  \n",
      " 3   bathrooms      21420 non-null  float64\n",
      " 4   sqft_living    21420 non-null  int64  \n",
      " 5   sqft_lot       21420 non-null  int64  \n",
      " 6   floors         21420 non-null  float64\n",
      " 7   waterfront     19067 non-null  float64\n",
      " 8   view           21357 non-null  float64\n",
      " 9   condition      21420 non-null  int64  \n",
      " 10  grade          21420 non-null  int64  \n",
      " 11  sqft_above     21420 non-null  int64  \n",
      " 12  sqft_basement  21420 non-null  object \n",
      " 13  yr_built       21420 non-null  int64  \n",
      " 14  yr_renovated   17607 non-null  float64\n",
      " 15  zipcode        21420 non-null  int64  \n",
      " 16  lat            21420 non-null  float64\n",
      " 17  long           21420 non-null  float64\n",
      " 18  sqft_living15  21420 non-null  int64  \n",
      " 19  sqft_lot15     21420 non-null  int64  \n",
      " 20  month_sold     21420 non-null  int64  \n",
      " 21  year_sold      21420 non-null  int64  \n",
      "dtypes: float64(8), int64(13), object(1)\n",
      "memory usage: 3.8+ MB\n"
     ]
    }
   ],
   "source": [
    "df.info()"
   ]
  },
  {
   "cell_type": "markdown",
   "metadata": {},
   "source": [
    "### Integer - sqft_basement"
   ]
  },
  {
   "cell_type": "code",
   "execution_count": 13,
   "metadata": {},
   "outputs": [
    {
     "data": {
      "text/plain": [
       "0.0       12716\n",
       "?           452\n",
       "600.0       216\n",
       "700.0       206\n",
       "500.0       206\n",
       "          ...  \n",
       "1816.0        1\n",
       "225.0         1\n",
       "2810.0        1\n",
       "2610.0        1\n",
       "508.0         1\n",
       "Name: sqft_basement, Length: 304, dtype: int64"
      ]
     },
     "execution_count": 13,
     "metadata": {},
     "output_type": "execute_result"
    }
   ],
   "source": [
    "# Check why sqft_basement is an object and not an integer\n",
    "df.sqft_basement.value_counts()"
   ]
  },
  {
   "cell_type": "code",
   "execution_count": 14,
   "metadata": {},
   "outputs": [
    {
     "data": {
      "text/plain": [
       "0.0       13168\n",
       "600.0       216\n",
       "500.0       206\n",
       "700.0       206\n",
       "800.0       201\n",
       "          ...  \n",
       "1816.0        1\n",
       "225.0         1\n",
       "2810.0        1\n",
       "2610.0        1\n",
       "508.0         1\n",
       "Name: sqft_basement, Length: 303, dtype: int64"
      ]
     },
     "execution_count": 14,
     "metadata": {},
     "output_type": "execute_result"
    }
   ],
   "source": [
    "# Replace '?' in sqft_basement to 0 since they are unidentifiable\n",
    "df['sqft_basement'] = df['sqft_basement'].replace('?', '0.0')\n",
    "\n",
    "df.sqft_basement.value_counts()"
   ]
  },
  {
   "cell_type": "code",
   "execution_count": 15,
   "metadata": {},
   "outputs": [],
   "source": [
    "# Change data type of basement to float instead of object\n",
    "df['sqft_basement'] = df.sqft_basement.astype('float')"
   ]
  },
  {
   "cell_type": "markdown",
   "metadata": {},
   "source": [
    "### Null Values\n",
    "We have identified that 'waterfront', 'view', and 'yr_renovated' columns have missing values. Let's examine each of them and determine how we will proceed."
   ]
  },
  {
   "cell_type": "code",
   "execution_count": 16,
   "metadata": {},
   "outputs": [
    {
     "data": {
      "text/plain": [
       "0.00000   0.99234\n",
       "1.00000   0.00766\n",
       "Name: waterfront, dtype: float64"
      ]
     },
     "execution_count": 16,
     "metadata": {},
     "output_type": "execute_result"
    }
   ],
   "source": [
    "# Check 'waterfront'\n",
    "df.waterfront.value_counts(normalize = True)"
   ]
  },
  {
   "cell_type": "code",
   "execution_count": 17,
   "metadata": {},
   "outputs": [
    {
     "data": {
      "text/plain": [
       "0.00000   0.90148\n",
       "2.00000   0.04476\n",
       "3.00000   0.02365\n",
       "1.00000   0.01540\n",
       "4.00000   0.01470\n",
       "Name: view, dtype: float64"
      ]
     },
     "execution_count": 17,
     "metadata": {},
     "output_type": "execute_result"
    }
   ],
   "source": [
    "# Check 'view'\n",
    "df.view.value_counts(normalize = True)"
   ]
  },
  {
   "cell_type": "code",
   "execution_count": 18,
   "metadata": {},
   "outputs": [
    {
     "data": {
      "text/plain": [
       "0.00000       0.95797\n",
       "2,014.00000   0.00415\n",
       "2,003.00000   0.00176\n",
       "2,013.00000   0.00176\n",
       "2,007.00000   0.00170\n",
       "                ...  \n",
       "1,934.00000   0.00006\n",
       "1,971.00000   0.00006\n",
       "1,954.00000   0.00006\n",
       "1,950.00000   0.00006\n",
       "1,944.00000   0.00006\n",
       "Name: yr_renovated, Length: 70, dtype: float64"
      ]
     },
     "execution_count": 18,
     "metadata": {},
     "output_type": "execute_result"
    }
   ],
   "source": [
    "# Check 'yr_renovated'\n",
    "df.yr_renovated.value_counts(normalize = True)"
   ]
  },
  {
   "cell_type": "markdown",
   "metadata": {},
   "source": [
    "Above analysis shows that:\n",
    "1. 99.2% of houses in the dataseet are not near the Seattle waterfront.\n",
    "2. 90.1% of houses do not have a view. \n",
    "3. 95.8% of houses have not been renovated since it was built.\n",
    "\n",
    "While having such large amount of null values can be problematic, it makes sense in this scenario.Therefore, we will simply replace those null values with zeros. "
   ]
  },
  {
   "cell_type": "code",
   "execution_count": 19,
   "metadata": {},
   "outputs": [],
   "source": [
    "# Replace null values with zeros\n",
    "df.fillna(0, inplace= True)"
   ]
  },
  {
   "cell_type": "markdown",
   "metadata": {},
   "source": [
    "Lastly, let's re-set the index."
   ]
  },
  {
   "cell_type": "code",
   "execution_count": 20,
   "metadata": {},
   "outputs": [
    {
     "name": "stdout",
     "output_type": "stream",
     "text": [
      "<class 'pandas.core.frame.DataFrame'>\n",
      "Int64Index: 21420 entries, 0 to 21596\n",
      "Data columns (total 22 columns):\n",
      " #   Column         Non-Null Count  Dtype  \n",
      "---  ------         --------------  -----  \n",
      " 0   id             21420 non-null  int64  \n",
      " 1   price          21420 non-null  float64\n",
      " 2   bedrooms       21420 non-null  int64  \n",
      " 3   bathrooms      21420 non-null  float64\n",
      " 4   sqft_living    21420 non-null  int64  \n",
      " 5   sqft_lot       21420 non-null  int64  \n",
      " 6   floors         21420 non-null  float64\n",
      " 7   waterfront     21420 non-null  float64\n",
      " 8   view           21420 non-null  float64\n",
      " 9   condition      21420 non-null  int64  \n",
      " 10  grade          21420 non-null  int64  \n",
      " 11  sqft_above     21420 non-null  int64  \n",
      " 12  sqft_basement  21420 non-null  float64\n",
      " 13  yr_built       21420 non-null  int64  \n",
      " 14  yr_renovated   21420 non-null  float64\n",
      " 15  zipcode        21420 non-null  int64  \n",
      " 16  lat            21420 non-null  float64\n",
      " 17  long           21420 non-null  float64\n",
      " 18  sqft_living15  21420 non-null  int64  \n",
      " 19  sqft_lot15     21420 non-null  int64  \n",
      " 20  month_sold     21420 non-null  int64  \n",
      " 21  year_sold      21420 non-null  int64  \n",
      "dtypes: float64(9), int64(13)\n",
      "memory usage: 3.8 MB\n"
     ]
    }
   ],
   "source": [
    "df.info()"
   ]
  },
  {
   "cell_type": "markdown",
   "metadata": {},
   "source": [
    "For this exercise, we will focus on whether the property has been renovated rather than when it was renovated. Therefore, Let's replace the values with 1 if renovated, and keep 0 if not renovated."
   ]
  },
  {
   "cell_type": "code",
   "execution_count": 21,
   "metadata": {},
   "outputs": [],
   "source": [
    "df.loc[df['yr_renovated'] > 0, 'yr_renovated'] = 1"
   ]
  },
  {
   "cell_type": "code",
   "execution_count": 22,
   "metadata": {},
   "outputs": [],
   "source": [
    "# Drop 'id' as we no longer need this column\n",
    "df.drop(['id'], axis= 1, inplace= True)"
   ]
  },
  {
   "cell_type": "markdown",
   "metadata": {},
   "source": [
    "### Outliers\n",
    "\n",
    "let's visualize and check the distributions in each column\n"
   ]
  },
  {
   "cell_type": "code",
   "execution_count": 23,
   "metadata": {},
   "outputs": [
    {
     "data": {
      "text/html": [
       "<div>\n",
       "<style scoped>\n",
       "    .dataframe tbody tr th:only-of-type {\n",
       "        vertical-align: middle;\n",
       "    }\n",
       "\n",
       "    .dataframe tbody tr th {\n",
       "        vertical-align: top;\n",
       "    }\n",
       "\n",
       "    .dataframe thead th {\n",
       "        text-align: right;\n",
       "    }\n",
       "</style>\n",
       "<table border=\"1\" class=\"dataframe\">\n",
       "  <thead>\n",
       "    <tr style=\"text-align: right;\">\n",
       "      <th></th>\n",
       "      <th>price</th>\n",
       "      <th>bedrooms</th>\n",
       "      <th>bathrooms</th>\n",
       "      <th>sqft_living</th>\n",
       "      <th>sqft_lot</th>\n",
       "      <th>floors</th>\n",
       "      <th>waterfront</th>\n",
       "      <th>view</th>\n",
       "      <th>condition</th>\n",
       "      <th>grade</th>\n",
       "      <th>sqft_above</th>\n",
       "      <th>sqft_basement</th>\n",
       "      <th>yr_built</th>\n",
       "      <th>yr_renovated</th>\n",
       "      <th>zipcode</th>\n",
       "      <th>lat</th>\n",
       "      <th>long</th>\n",
       "      <th>sqft_living15</th>\n",
       "      <th>sqft_lot15</th>\n",
       "      <th>month_sold</th>\n",
       "      <th>year_sold</th>\n",
       "    </tr>\n",
       "  </thead>\n",
       "  <tbody>\n",
       "    <tr>\n",
       "      <th>count</th>\n",
       "      <td>21,420.00000</td>\n",
       "      <td>21,420.00000</td>\n",
       "      <td>21,420.00000</td>\n",
       "      <td>21,420.00000</td>\n",
       "      <td>21,420.00000</td>\n",
       "      <td>21,420.00000</td>\n",
       "      <td>21,420.00000</td>\n",
       "      <td>21,420.00000</td>\n",
       "      <td>21,420.00000</td>\n",
       "      <td>21,420.00000</td>\n",
       "      <td>21,420.00000</td>\n",
       "      <td>21,420.00000</td>\n",
       "      <td>21,420.00000</td>\n",
       "      <td>21,420.00000</td>\n",
       "      <td>21,420.00000</td>\n",
       "      <td>21,420.00000</td>\n",
       "      <td>21,420.00000</td>\n",
       "      <td>21,420.00000</td>\n",
       "      <td>21,420.00000</td>\n",
       "      <td>21,420.00000</td>\n",
       "      <td>21,420.00000</td>\n",
       "    </tr>\n",
       "    <tr>\n",
       "      <th>mean</th>\n",
       "      <td>541,861.42815</td>\n",
       "      <td>3.37395</td>\n",
       "      <td>2.11843</td>\n",
       "      <td>2,083.13263</td>\n",
       "      <td>15,128.03800</td>\n",
       "      <td>1.49599</td>\n",
       "      <td>0.00682</td>\n",
       "      <td>0.23399</td>\n",
       "      <td>3.41078</td>\n",
       "      <td>7.66279</td>\n",
       "      <td>1,791.17021</td>\n",
       "      <td>285.93702</td>\n",
       "      <td>1,971.09300</td>\n",
       "      <td>0.03455</td>\n",
       "      <td>98,077.87437</td>\n",
       "      <td>47.56020</td>\n",
       "      <td>-122.21378</td>\n",
       "      <td>1,988.38408</td>\n",
       "      <td>12,775.71816</td>\n",
       "      <td>6.56401</td>\n",
       "      <td>2,014.32526</td>\n",
       "    </tr>\n",
       "    <tr>\n",
       "      <th>std</th>\n",
       "      <td>367,556.93785</td>\n",
       "      <td>0.92540</td>\n",
       "      <td>0.76872</td>\n",
       "      <td>918.80841</td>\n",
       "      <td>41,530.79684</td>\n",
       "      <td>0.54008</td>\n",
       "      <td>0.08228</td>\n",
       "      <td>0.76544</td>\n",
       "      <td>0.65004</td>\n",
       "      <td>1.17197</td>\n",
       "      <td>828.69296</td>\n",
       "      <td>440.01296</td>\n",
       "      <td>29.38714</td>\n",
       "      <td>0.18263</td>\n",
       "      <td>53.47748</td>\n",
       "      <td>0.13859</td>\n",
       "      <td>0.14079</td>\n",
       "      <td>685.53706</td>\n",
       "      <td>27,345.62187</td>\n",
       "      <td>3.11785</td>\n",
       "      <td>0.46848</td>\n",
       "    </tr>\n",
       "    <tr>\n",
       "      <th>min</th>\n",
       "      <td>78,000.00000</td>\n",
       "      <td>1.00000</td>\n",
       "      <td>0.50000</td>\n",
       "      <td>370.00000</td>\n",
       "      <td>520.00000</td>\n",
       "      <td>1.00000</td>\n",
       "      <td>0.00000</td>\n",
       "      <td>0.00000</td>\n",
       "      <td>1.00000</td>\n",
       "      <td>3.00000</td>\n",
       "      <td>370.00000</td>\n",
       "      <td>0.00000</td>\n",
       "      <td>1,900.00000</td>\n",
       "      <td>0.00000</td>\n",
       "      <td>98,001.00000</td>\n",
       "      <td>47.15590</td>\n",
       "      <td>-122.51900</td>\n",
       "      <td>399.00000</td>\n",
       "      <td>651.00000</td>\n",
       "      <td>1.00000</td>\n",
       "      <td>2,014.00000</td>\n",
       "    </tr>\n",
       "    <tr>\n",
       "      <th>25%</th>\n",
       "      <td>324,950.00000</td>\n",
       "      <td>3.00000</td>\n",
       "      <td>1.75000</td>\n",
       "      <td>1,430.00000</td>\n",
       "      <td>5,040.00000</td>\n",
       "      <td>1.00000</td>\n",
       "      <td>0.00000</td>\n",
       "      <td>0.00000</td>\n",
       "      <td>3.00000</td>\n",
       "      <td>7.00000</td>\n",
       "      <td>1,200.00000</td>\n",
       "      <td>0.00000</td>\n",
       "      <td>1,952.00000</td>\n",
       "      <td>0.00000</td>\n",
       "      <td>98,033.00000</td>\n",
       "      <td>47.47120</td>\n",
       "      <td>-122.32800</td>\n",
       "      <td>1,490.00000</td>\n",
       "      <td>5,100.00000</td>\n",
       "      <td>4.00000</td>\n",
       "      <td>2,014.00000</td>\n",
       "    </tr>\n",
       "    <tr>\n",
       "      <th>50%</th>\n",
       "      <td>450,550.00000</td>\n",
       "      <td>3.00000</td>\n",
       "      <td>2.25000</td>\n",
       "      <td>1,920.00000</td>\n",
       "      <td>7,614.00000</td>\n",
       "      <td>1.50000</td>\n",
       "      <td>0.00000</td>\n",
       "      <td>0.00000</td>\n",
       "      <td>3.00000</td>\n",
       "      <td>7.00000</td>\n",
       "      <td>1,560.00000</td>\n",
       "      <td>0.00000</td>\n",
       "      <td>1,975.00000</td>\n",
       "      <td>0.00000</td>\n",
       "      <td>98,065.00000</td>\n",
       "      <td>47.57210</td>\n",
       "      <td>-122.23000</td>\n",
       "      <td>1,840.00000</td>\n",
       "      <td>7,620.00000</td>\n",
       "      <td>6.00000</td>\n",
       "      <td>2,014.00000</td>\n",
       "    </tr>\n",
       "    <tr>\n",
       "      <th>75%</th>\n",
       "      <td>645,000.00000</td>\n",
       "      <td>4.00000</td>\n",
       "      <td>2.50000</td>\n",
       "      <td>2,550.00000</td>\n",
       "      <td>10,690.50000</td>\n",
       "      <td>2.00000</td>\n",
       "      <td>0.00000</td>\n",
       "      <td>0.00000</td>\n",
       "      <td>4.00000</td>\n",
       "      <td>8.00000</td>\n",
       "      <td>2,220.00000</td>\n",
       "      <td>550.00000</td>\n",
       "      <td>1,997.00000</td>\n",
       "      <td>0.00000</td>\n",
       "      <td>98,117.00000</td>\n",
       "      <td>47.67810</td>\n",
       "      <td>-122.12500</td>\n",
       "      <td>2,370.00000</td>\n",
       "      <td>10,086.25000</td>\n",
       "      <td>9.00000</td>\n",
       "      <td>2,015.00000</td>\n",
       "    </tr>\n",
       "    <tr>\n",
       "      <th>max</th>\n",
       "      <td>7,700,000.00000</td>\n",
       "      <td>33.00000</td>\n",
       "      <td>8.00000</td>\n",
       "      <td>13,540.00000</td>\n",
       "      <td>1,651,359.00000</td>\n",
       "      <td>3.50000</td>\n",
       "      <td>1.00000</td>\n",
       "      <td>4.00000</td>\n",
       "      <td>5.00000</td>\n",
       "      <td>13.00000</td>\n",
       "      <td>9,410.00000</td>\n",
       "      <td>4,820.00000</td>\n",
       "      <td>2,015.00000</td>\n",
       "      <td>1.00000</td>\n",
       "      <td>98,199.00000</td>\n",
       "      <td>47.77760</td>\n",
       "      <td>-121.31500</td>\n",
       "      <td>6,210.00000</td>\n",
       "      <td>871,200.00000</td>\n",
       "      <td>12.00000</td>\n",
       "      <td>2,015.00000</td>\n",
       "    </tr>\n",
       "  </tbody>\n",
       "</table>\n",
       "</div>"
      ],
      "text/plain": [
       "                price     bedrooms    bathrooms  sqft_living        sqft_lot  \\\n",
       "count    21,420.00000 21,420.00000 21,420.00000 21,420.00000    21,420.00000   \n",
       "mean    541,861.42815      3.37395      2.11843  2,083.13263    15,128.03800   \n",
       "std     367,556.93785      0.92540      0.76872    918.80841    41,530.79684   \n",
       "min      78,000.00000      1.00000      0.50000    370.00000       520.00000   \n",
       "25%     324,950.00000      3.00000      1.75000  1,430.00000     5,040.00000   \n",
       "50%     450,550.00000      3.00000      2.25000  1,920.00000     7,614.00000   \n",
       "75%     645,000.00000      4.00000      2.50000  2,550.00000    10,690.50000   \n",
       "max   7,700,000.00000     33.00000      8.00000 13,540.00000 1,651,359.00000   \n",
       "\n",
       "            floors   waterfront         view    condition        grade  \\\n",
       "count 21,420.00000 21,420.00000 21,420.00000 21,420.00000 21,420.00000   \n",
       "mean       1.49599      0.00682      0.23399      3.41078      7.66279   \n",
       "std        0.54008      0.08228      0.76544      0.65004      1.17197   \n",
       "min        1.00000      0.00000      0.00000      1.00000      3.00000   \n",
       "25%        1.00000      0.00000      0.00000      3.00000      7.00000   \n",
       "50%        1.50000      0.00000      0.00000      3.00000      7.00000   \n",
       "75%        2.00000      0.00000      0.00000      4.00000      8.00000   \n",
       "max        3.50000      1.00000      4.00000      5.00000     13.00000   \n",
       "\n",
       "        sqft_above  sqft_basement     yr_built  yr_renovated      zipcode  \\\n",
       "count 21,420.00000   21,420.00000 21,420.00000  21,420.00000 21,420.00000   \n",
       "mean   1,791.17021      285.93702  1,971.09300       0.03455 98,077.87437   \n",
       "std      828.69296      440.01296     29.38714       0.18263     53.47748   \n",
       "min      370.00000        0.00000  1,900.00000       0.00000 98,001.00000   \n",
       "25%    1,200.00000        0.00000  1,952.00000       0.00000 98,033.00000   \n",
       "50%    1,560.00000        0.00000  1,975.00000       0.00000 98,065.00000   \n",
       "75%    2,220.00000      550.00000  1,997.00000       0.00000 98,117.00000   \n",
       "max    9,410.00000    4,820.00000  2,015.00000       1.00000 98,199.00000   \n",
       "\n",
       "               lat         long  sqft_living15    sqft_lot15   month_sold  \\\n",
       "count 21,420.00000 21,420.00000   21,420.00000  21,420.00000 21,420.00000   \n",
       "mean      47.56020   -122.21378    1,988.38408  12,775.71816      6.56401   \n",
       "std        0.13859      0.14079      685.53706  27,345.62187      3.11785   \n",
       "min       47.15590   -122.51900      399.00000     651.00000      1.00000   \n",
       "25%       47.47120   -122.32800    1,490.00000   5,100.00000      4.00000   \n",
       "50%       47.57210   -122.23000    1,840.00000   7,620.00000      6.00000   \n",
       "75%       47.67810   -122.12500    2,370.00000  10,086.25000      9.00000   \n",
       "max       47.77760   -121.31500    6,210.00000 871,200.00000     12.00000   \n",
       "\n",
       "         year_sold  \n",
       "count 21,420.00000  \n",
       "mean   2,014.32526  \n",
       "std        0.46848  \n",
       "min    2,014.00000  \n",
       "25%    2,014.00000  \n",
       "50%    2,014.00000  \n",
       "75%    2,015.00000  \n",
       "max    2,015.00000  "
      ]
     },
     "execution_count": 23,
     "metadata": {},
     "output_type": "execute_result"
    }
   ],
   "source": [
    "df.describe()"
   ]
  },
  {
   "cell_type": "code",
   "execution_count": 24,
   "metadata": {},
   "outputs": [
    {
     "data": {
      "text/plain": [
       "Index(['price', 'bedrooms', 'bathrooms', 'sqft_living', 'sqft_lot', 'floors',\n",
       "       'waterfront', 'view', 'condition', 'grade', 'sqft_above',\n",
       "       'sqft_basement', 'yr_built', 'yr_renovated', 'zipcode', 'lat', 'long',\n",
       "       'sqft_living15', 'sqft_lot15', 'month_sold', 'year_sold'],\n",
       "      dtype='object')"
      ]
     },
     "execution_count": 24,
     "metadata": {},
     "output_type": "execute_result"
    }
   ],
   "source": [
    "col = df.columns\n",
    "col"
   ]
  },
  {
   "cell_type": "code",
   "execution_count": 25,
   "metadata": {},
   "outputs": [],
   "source": [
    "def plot_boxplots(df, col=None, boxplot=True):\n",
    "    fig = plt.figure(figsize=(11, 6))\n",
    "    gs = GridSpec(nrows=2, ncols=2)\n",
    "\n",
    "    ax1 = fig.add_subplot(gs[1, 0])\n",
    "    if col is None:\n",
    "        data = df.copy()\n",
    "        name = data.name\n",
    "    else:\n",
    "        data = df[col].copy()\n",
    "        name = col\n",
    "\n",
    "    ## Plot Boxplot\n",
    "    sns.boxplot(data,x=col,ax=ax1)\n",
    "    ax1.set_title(F\"Box Plot of {name.title()}\")"
   ]
  },
  {
   "cell_type": "code",
   "execution_count": 26,
   "metadata": {},
   "outputs": [
    {
     "name": "stderr",
     "output_type": "stream",
     "text": [
      "<ipython-input-25-5dfc28bec094>:2: RuntimeWarning: More than 20 figures have been opened. Figures created through the pyplot interface (`matplotlib.pyplot.figure`) are retained until explicitly closed and may consume too much memory. (To control this warning, see the rcParam `figure.max_open_warning`).\n",
      "  fig = plt.figure(figsize=(11, 6))\n"
     ]
    },
    {
     "data": {
      "image/png": "[encoded data removed]",
      "text/plain": [
       "<Figure size 792x432 with 1 Axes>"
      ]
     },
     "metadata": {
      "needs_background": "light"
     },
     "output_type": "display_data"
    },
    {
     "data": {
      "image/png": "[encoded data removed]",
      "text/plain": [
       "<Figure size 792x432 with 1 Axes>"
      ]
     },
     "metadata": {
      "needs_background": "light"
     },
     "output_type": "display_data"
    },
    {
     "data": {
      "image/png": "[encoded data removed]",
      "text/plain": [
       "<Figure size 792x432 with 1 Axes>"
      ]
     },
     "metadata": {
      "needs_background": "light"
     },
     "output_type": "display_data"
    },
    {
     "data": {
      "image/png": "[encoded data removed]",
      "text/plain": [
       "<Figure size 792x432 with 1 Axes>"
      ]
     },
     "metadata": {
      "needs_background": "light"
     },
     "output_type": "display_data"
    },
    {
     "data": {
      "image/png": "[encoded data removed]",
      "text/plain": [
       "<Figure size 792x432 with 1 Axes>"
      ]
     },
     "metadata": {
      "needs_background": "light"
     },
     "output_type": "display_data"
    },
    {
     "data": {
      "image/png": "[encoded data removed]",
      "text/plain": [
       "<Figure size 792x432 with 1 Axes>"
      ]
     },
     "metadata": {
      "needs_background": "light"
     },
     "output_type": "display_data"
    },
    {
     "data": {
      "image/png": "[encoded data removed]",
      "text/plain": [
       "<Figure size 792x432 with 1 Axes>"
      ]
     },
     "metadata": {
      "needs_background": "light"
     },
     "output_type": "display_data"
    },
    {
     "data": {
      "image/png": "[encoded data removed]",
      "text/plain": [
       "<Figure size 792x432 with 1 Axes>"
      ]
     },
     "metadata": {
      "needs_background": "light"
     },
     "output_type": "display_data"
    },
    {
     "data": {
      "image/png": "[encoded data removed]",
      "text/plain": [
       "<Figure size 792x432 with 1 Axes>"
      ]
     },
     "metadata": {
      "needs_background": "light"
     },
     "output_type": "display_data"
    },
    {
     "data": {
      "image/png": "[encoded data removed]",
      "text/plain": [
       "<Figure size 792x432 with 1 Axes>"
      ]
     },
     "metadata": {
      "needs_background": "light"
     },
     "output_type": "display_data"
    },
    {
     "data": {
      "image/png": "[encoded data removed]",
      "text/plain": [
       "<Figure size 792x432 with 1 Axes>"
      ]
     },
     "metadata": {
      "needs_background": "light"
     },
     "output_type": "display_data"
    },
    {
     "data": {
      "image/png": "[encoded data removed]",
      "text/plain": [
       "<Figure size 792x432 with 1 Axes>"
      ]
     },
     "metadata": {
      "needs_background": "light"
     },
     "output_type": "display_data"
    },
    {
     "data": {
      "image/png": "[encoded data removed]",
      "text/plain": [
       "<Figure size 792x432 with 1 Axes>"
      ]
     },
     "metadata": {
      "needs_background": "light"
     },
     "output_type": "display_data"
    },
    {
     "data": {
      "image/png": "[encoded data removed]",
      "text/plain": [
       "<Figure size 792x432 with 1 Axes>"
      ]
     },
     "metadata": {
      "needs_background": "light"
     },
     "output_type": "display_data"
    },
    {
     "data": {
      "image/png": "[encoded data removed]",
      "text/plain": [
       "<Figure size 792x432 with 1 Axes>"
      ]
     },
     "metadata": {
      "needs_background": "light"
     },
     "output_type": "display_data"
    },
    {
     "data": {
      "image/png": "[encoded data removed]",
      "text/plain": [
       "<Figure size 792x432 with 1 Axes>"
      ]
     },
     "metadata": {
      "needs_background": "light"
     },
     "output_type": "display_data"
    },
    {
     "data": {
      "image/png": "[encoded data removed]",
      "text/plain": [
       "<Figure size 792x432 with 1 Axes>"
      ]
     },
     "metadata": {
      "needs_background": "light"
     },
     "output_type": "display_data"
    },
    {
     "data": {
      "image/png": "[encoded data removed]",
      "text/plain": [
       "<Figure size 792x432 with 1 Axes>"
      ]
     },
     "metadata": {
      "needs_background": "light"
     },
     "output_type": "display_data"
    },
    {
     "data": {
      "image/png": "[encoded data removed]",
      "text/plain": [
       "<Figure size 792x432 with 1 Axes>"
      ]
     },
     "metadata": {
      "needs_background": "light"
     },
     "output_type": "display_data"
    },
    {
     "data": {
      "image/png": "[encoded data removed]",
      "text/plain": [
       "<Figure size 792x432 with 1 Axes>"
      ]
     },
     "metadata": {
      "needs_background": "light"
     },
     "output_type": "display_data"
    },
    {
     "data": {
      "image/png": "[encoded data removed]",
      "text/plain": [
       "<Figure size 792x432 with 1 Axes>"
      ]
     },
     "metadata": {
      "needs_background": "light"
     },
     "output_type": "display_data"
    }
   ],
   "source": [
    "for col in df:\n",
    "    plot_boxplots(df =df , col=col)"
   ]
  },
  {
   "cell_type": "code",
   "execution_count": 27,
   "metadata": {},
   "outputs": [],
   "source": [
    "# Remove outliers using IQR method\n",
    "# Code modified from https://stackoverflow.com/questions/50461349/how-to-remove-outlier-from-dataframe-using-iqr\n",
    "def outlier_IQR(df):\n",
    "    \n",
    "    keep = df.describe()\n",
    "    q1 = keep['25%']\n",
    "    q3 = keep['75%']\n",
    "    IQR = q3-q1\n",
    "    outliers =(df < (q1- 1.5 * IQR)) | (df > (q3 + 1.5 * IQR))\n",
    "    return outliers"
   ]
  },
  {
   "cell_type": "code",
   "execution_count": 28,
   "metadata": {},
   "outputs": [],
   "source": [
    "# Create list of columns to remove outliers from\n",
    "outliers_col = ['price','bedrooms', 'bathrooms', 'sqft_living', 'sqft_lot', 'sqft_above',\n",
    "                'sqft_basement', 'sqft_living15', 'sqft_lot15']\n",
    "df1 = df.copy()\n",
    "\n",
    "# Remove outliers for specified columns\n",
    "for col in outliers_col:\n",
    "    df1 = df1[~outlier_IQR(df1[col])]"
   ]
  },
  {
   "cell_type": "code",
   "execution_count": 29,
   "metadata": {},
   "outputs": [
    {
     "data": {
      "text/html": [
       "<div>\n",
       "<style scoped>\n",
       "    .dataframe tbody tr th:only-of-type {\n",
       "        vertical-align: middle;\n",
       "    }\n",
       "\n",
       "    .dataframe tbody tr th {\n",
       "        vertical-align: top;\n",
       "    }\n",
       "\n",
       "    .dataframe thead th {\n",
       "        text-align: right;\n",
       "    }\n",
       "</style>\n",
       "<table border=\"1\" class=\"dataframe\">\n",
       "  <thead>\n",
       "    <tr style=\"text-align: right;\">\n",
       "      <th></th>\n",
       "      <th>price</th>\n",
       "      <th>bedrooms</th>\n",
       "      <th>bathrooms</th>\n",
       "      <th>sqft_living</th>\n",
       "      <th>sqft_lot</th>\n",
       "      <th>floors</th>\n",
       "      <th>waterfront</th>\n",
       "      <th>view</th>\n",
       "      <th>condition</th>\n",
       "      <th>grade</th>\n",
       "      <th>sqft_above</th>\n",
       "      <th>sqft_basement</th>\n",
       "      <th>yr_built</th>\n",
       "      <th>yr_renovated</th>\n",
       "      <th>zipcode</th>\n",
       "      <th>lat</th>\n",
       "      <th>long</th>\n",
       "      <th>sqft_living15</th>\n",
       "      <th>sqft_lot15</th>\n",
       "      <th>month_sold</th>\n",
       "      <th>year_sold</th>\n",
       "    </tr>\n",
       "  </thead>\n",
       "  <tbody>\n",
       "    <tr>\n",
       "      <th>0</th>\n",
       "      <td>221,900.00000</td>\n",
       "      <td>3</td>\n",
       "      <td>1.00000</td>\n",
       "      <td>1180</td>\n",
       "      <td>5650</td>\n",
       "      <td>1.00000</td>\n",
       "      <td>0.00000</td>\n",
       "      <td>0.00000</td>\n",
       "      <td>3</td>\n",
       "      <td>7</td>\n",
       "      <td>1180</td>\n",
       "      <td>0.00000</td>\n",
       "      <td>1955</td>\n",
       "      <td>0.00000</td>\n",
       "      <td>98178</td>\n",
       "      <td>47.51120</td>\n",
       "      <td>-122.25700</td>\n",
       "      <td>1340</td>\n",
       "      <td>5650</td>\n",
       "      <td>10</td>\n",
       "      <td>2014</td>\n",
       "    </tr>\n",
       "    <tr>\n",
       "      <th>1</th>\n",
       "      <td>538,000.00000</td>\n",
       "      <td>3</td>\n",
       "      <td>2.25000</td>\n",
       "      <td>2570</td>\n",
       "      <td>7242</td>\n",
       "      <td>2.00000</td>\n",
       "      <td>0.00000</td>\n",
       "      <td>0.00000</td>\n",
       "      <td>3</td>\n",
       "      <td>7</td>\n",
       "      <td>2170</td>\n",
       "      <td>400.00000</td>\n",
       "      <td>1951</td>\n",
       "      <td>1.00000</td>\n",
       "      <td>98125</td>\n",
       "      <td>47.72100</td>\n",
       "      <td>-122.31900</td>\n",
       "      <td>1690</td>\n",
       "      <td>7639</td>\n",
       "      <td>12</td>\n",
       "      <td>2014</td>\n",
       "    </tr>\n",
       "    <tr>\n",
       "      <th>2</th>\n",
       "      <td>180,000.00000</td>\n",
       "      <td>2</td>\n",
       "      <td>1.00000</td>\n",
       "      <td>770</td>\n",
       "      <td>10000</td>\n",
       "      <td>1.00000</td>\n",
       "      <td>0.00000</td>\n",
       "      <td>0.00000</td>\n",
       "      <td>3</td>\n",
       "      <td>6</td>\n",
       "      <td>770</td>\n",
       "      <td>0.00000</td>\n",
       "      <td>1933</td>\n",
       "      <td>0.00000</td>\n",
       "      <td>98028</td>\n",
       "      <td>47.73790</td>\n",
       "      <td>-122.23300</td>\n",
       "      <td>2720</td>\n",
       "      <td>8062</td>\n",
       "      <td>2</td>\n",
       "      <td>2015</td>\n",
       "    </tr>\n",
       "    <tr>\n",
       "      <th>3</th>\n",
       "      <td>604,000.00000</td>\n",
       "      <td>4</td>\n",
       "      <td>3.00000</td>\n",
       "      <td>1960</td>\n",
       "      <td>5000</td>\n",
       "      <td>1.00000</td>\n",
       "      <td>0.00000</td>\n",
       "      <td>0.00000</td>\n",
       "      <td>5</td>\n",
       "      <td>7</td>\n",
       "      <td>1050</td>\n",
       "      <td>910.00000</td>\n",
       "      <td>1965</td>\n",
       "      <td>0.00000</td>\n",
       "      <td>98136</td>\n",
       "      <td>47.52080</td>\n",
       "      <td>-122.39300</td>\n",
       "      <td>1360</td>\n",
       "      <td>5000</td>\n",
       "      <td>12</td>\n",
       "      <td>2014</td>\n",
       "    </tr>\n",
       "    <tr>\n",
       "      <th>4</th>\n",
       "      <td>510,000.00000</td>\n",
       "      <td>3</td>\n",
       "      <td>2.00000</td>\n",
       "      <td>1680</td>\n",
       "      <td>8080</td>\n",
       "      <td>1.00000</td>\n",
       "      <td>0.00000</td>\n",
       "      <td>0.00000</td>\n",
       "      <td>3</td>\n",
       "      <td>8</td>\n",
       "      <td>1680</td>\n",
       "      <td>0.00000</td>\n",
       "      <td>1987</td>\n",
       "      <td>0.00000</td>\n",
       "      <td>98074</td>\n",
       "      <td>47.61680</td>\n",
       "      <td>-122.04500</td>\n",
       "      <td>1800</td>\n",
       "      <td>7503</td>\n",
       "      <td>2</td>\n",
       "      <td>2015</td>\n",
       "    </tr>\n",
       "    <tr>\n",
       "      <th>...</th>\n",
       "      <td>...</td>\n",
       "      <td>...</td>\n",
       "      <td>...</td>\n",
       "      <td>...</td>\n",
       "      <td>...</td>\n",
       "      <td>...</td>\n",
       "      <td>...</td>\n",
       "      <td>...</td>\n",
       "      <td>...</td>\n",
       "      <td>...</td>\n",
       "      <td>...</td>\n",
       "      <td>...</td>\n",
       "      <td>...</td>\n",
       "      <td>...</td>\n",
       "      <td>...</td>\n",
       "      <td>...</td>\n",
       "      <td>...</td>\n",
       "      <td>...</td>\n",
       "      <td>...</td>\n",
       "      <td>...</td>\n",
       "      <td>...</td>\n",
       "    </tr>\n",
       "    <tr>\n",
       "      <th>21592</th>\n",
       "      <td>360,000.00000</td>\n",
       "      <td>3</td>\n",
       "      <td>2.50000</td>\n",
       "      <td>1530</td>\n",
       "      <td>1131</td>\n",
       "      <td>3.00000</td>\n",
       "      <td>0.00000</td>\n",
       "      <td>0.00000</td>\n",
       "      <td>3</td>\n",
       "      <td>8</td>\n",
       "      <td>1530</td>\n",
       "      <td>0.00000</td>\n",
       "      <td>2009</td>\n",
       "      <td>0.00000</td>\n",
       "      <td>98103</td>\n",
       "      <td>47.69930</td>\n",
       "      <td>-122.34600</td>\n",
       "      <td>1530</td>\n",
       "      <td>1509</td>\n",
       "      <td>5</td>\n",
       "      <td>2014</td>\n",
       "    </tr>\n",
       "    <tr>\n",
       "      <th>21593</th>\n",
       "      <td>400,000.00000</td>\n",
       "      <td>4</td>\n",
       "      <td>2.50000</td>\n",
       "      <td>2310</td>\n",
       "      <td>5813</td>\n",
       "      <td>2.00000</td>\n",
       "      <td>0.00000</td>\n",
       "      <td>0.00000</td>\n",
       "      <td>3</td>\n",
       "      <td>8</td>\n",
       "      <td>2310</td>\n",
       "      <td>0.00000</td>\n",
       "      <td>2014</td>\n",
       "      <td>0.00000</td>\n",
       "      <td>98146</td>\n",
       "      <td>47.51070</td>\n",
       "      <td>-122.36200</td>\n",
       "      <td>1830</td>\n",
       "      <td>7200</td>\n",
       "      <td>2</td>\n",
       "      <td>2015</td>\n",
       "    </tr>\n",
       "    <tr>\n",
       "      <th>21594</th>\n",
       "      <td>402,101.00000</td>\n",
       "      <td>2</td>\n",
       "      <td>0.75000</td>\n",
       "      <td>1020</td>\n",
       "      <td>1350</td>\n",
       "      <td>2.00000</td>\n",
       "      <td>0.00000</td>\n",
       "      <td>0.00000</td>\n",
       "      <td>3</td>\n",
       "      <td>7</td>\n",
       "      <td>1020</td>\n",
       "      <td>0.00000</td>\n",
       "      <td>2009</td>\n",
       "      <td>0.00000</td>\n",
       "      <td>98144</td>\n",
       "      <td>47.59440</td>\n",
       "      <td>-122.29900</td>\n",
       "      <td>1020</td>\n",
       "      <td>2007</td>\n",
       "      <td>6</td>\n",
       "      <td>2014</td>\n",
       "    </tr>\n",
       "    <tr>\n",
       "      <th>21595</th>\n",
       "      <td>400,000.00000</td>\n",
       "      <td>3</td>\n",
       "      <td>2.50000</td>\n",
       "      <td>1600</td>\n",
       "      <td>2388</td>\n",
       "      <td>2.00000</td>\n",
       "      <td>0.00000</td>\n",
       "      <td>0.00000</td>\n",
       "      <td>3</td>\n",
       "      <td>8</td>\n",
       "      <td>1600</td>\n",
       "      <td>0.00000</td>\n",
       "      <td>2004</td>\n",
       "      <td>0.00000</td>\n",
       "      <td>98027</td>\n",
       "      <td>47.53450</td>\n",
       "      <td>-122.06900</td>\n",
       "      <td>1410</td>\n",
       "      <td>1287</td>\n",
       "      <td>1</td>\n",
       "      <td>2015</td>\n",
       "    </tr>\n",
       "    <tr>\n",
       "      <th>21596</th>\n",
       "      <td>325,000.00000</td>\n",
       "      <td>2</td>\n",
       "      <td>0.75000</td>\n",
       "      <td>1020</td>\n",
       "      <td>1076</td>\n",
       "      <td>2.00000</td>\n",
       "      <td>0.00000</td>\n",
       "      <td>0.00000</td>\n",
       "      <td>3</td>\n",
       "      <td>7</td>\n",
       "      <td>1020</td>\n",
       "      <td>0.00000</td>\n",
       "      <td>2008</td>\n",
       "      <td>0.00000</td>\n",
       "      <td>98144</td>\n",
       "      <td>47.59410</td>\n",
       "      <td>-122.29900</td>\n",
       "      <td>1020</td>\n",
       "      <td>1357</td>\n",
       "      <td>10</td>\n",
       "      <td>2014</td>\n",
       "    </tr>\n",
       "  </tbody>\n",
       "</table>\n",
       "<p>16110 rows × 21 columns</p>\n",
       "</div>"
      ],
      "text/plain": [
       "              price  bedrooms  bathrooms  sqft_living  sqft_lot  floors  \\\n",
       "0     221,900.00000         3    1.00000         1180      5650 1.00000   \n",
       "1     538,000.00000         3    2.25000         2570      7242 2.00000   \n",
       "2     180,000.00000         2    1.00000          770     10000 1.00000   \n",
       "3     604,000.00000         4    3.00000         1960      5000 1.00000   \n",
       "4     510,000.00000         3    2.00000         1680      8080 1.00000   \n",
       "...             ...       ...        ...          ...       ...     ...   \n",
       "21592 360,000.00000         3    2.50000         1530      1131 3.00000   \n",
       "21593 400,000.00000         4    2.50000         2310      5813 2.00000   \n",
       "21594 402,101.00000         2    0.75000         1020      1350 2.00000   \n",
       "21595 400,000.00000         3    2.50000         1600      2388 2.00000   \n",
       "21596 325,000.00000         2    0.75000         1020      1076 2.00000   \n",
       "\n",
       "       waterfront    view  condition  grade  sqft_above  sqft_basement  \\\n",
       "0         0.00000 0.00000          3      7        1180        0.00000   \n",
       "1         0.00000 0.00000          3      7        2170      400.00000   \n",
       "2         0.00000 0.00000          3      6         770        0.00000   \n",
       "3         0.00000 0.00000          5      7        1050      910.00000   \n",
       "4         0.00000 0.00000          3      8        1680        0.00000   \n",
       "...           ...     ...        ...    ...         ...            ...   \n",
       "21592     0.00000 0.00000          3      8        1530        0.00000   \n",
       "21593     0.00000 0.00000          3      8        2310        0.00000   \n",
       "21594     0.00000 0.00000          3      7        1020        0.00000   \n",
       "21595     0.00000 0.00000          3      8        1600        0.00000   \n",
       "21596     0.00000 0.00000          3      7        1020        0.00000   \n",
       "\n",
       "       yr_built  yr_renovated  zipcode      lat       long  sqft_living15  \\\n",
       "0          1955       0.00000    98178 47.51120 -122.25700           1340   \n",
       "1          1951       1.00000    98125 47.72100 -122.31900           1690   \n",
       "2          1933       0.00000    98028 47.73790 -122.23300           2720   \n",
       "3          1965       0.00000    98136 47.52080 -122.39300           1360   \n",
       "4          1987       0.00000    98074 47.61680 -122.04500           1800   \n",
       "...         ...           ...      ...      ...        ...            ...   \n",
       "21592      2009       0.00000    98103 47.69930 -122.34600           1530   \n",
       "21593      2014       0.00000    98146 47.51070 -122.36200           1830   \n",
       "21594      2009       0.00000    98144 47.59440 -122.29900           1020   \n",
       "21595      2004       0.00000    98027 47.53450 -122.06900           1410   \n",
       "21596      2008       0.00000    98144 47.59410 -122.29900           1020   \n",
       "\n",
       "       sqft_lot15  month_sold  year_sold  \n",
       "0            5650          10       2014  \n",
       "1            7639          12       2014  \n",
       "2            8062           2       2015  \n",
       "3            5000          12       2014  \n",
       "4            7503           2       2015  \n",
       "...           ...         ...        ...  \n",
       "21592        1509           5       2014  \n",
       "21593        7200           2       2015  \n",
       "21594        2007           6       2014  \n",
       "21595        1287           1       2015  \n",
       "21596        1357          10       2014  \n",
       "\n",
       "[16110 rows x 21 columns]"
      ]
     },
     "execution_count": 29,
     "metadata": {},
     "output_type": "execute_result"
    }
   ],
   "source": [
    "df1"
   ]
  },
  {
   "cell_type": "code",
   "execution_count": 30,
   "metadata": {},
   "outputs": [],
   "source": [
    "# Drop price to only show correlation between independent variables\n",
    "corr = df1.drop('price', axis=1).corr().round(2)"
   ]
  },
  {
   "cell_type": "code",
   "execution_count": 31,
   "metadata": {},
   "outputs": [],
   "source": [
    "# Create mask for upper triangle of matrix\n",
    "mask = np.zeros_like(corr)\n",
    "\n",
    "mask[np.triu_indices_from(mask)] = True"
   ]
  },
  {
   "cell_type": "code",
   "execution_count": 32,
   "metadata": {},
   "outputs": [
    {
     "data": {
      "image/png": "[encoded data removed]",
      "text/plain": [
       "<Figure size 864x864 with 2 Axes>"
      ]
     },
     "metadata": {
      "needs_background": "light"
     },
     "output_type": "display_data"
    }
   ],
   "source": [
    "# Create heatmap correlation matrix\n",
    "# https://medium.com/@chrisshaw982/seaborn-correlation-heatmaps-customized-10246f4f7f4b\n",
    "fig, ax = plt.subplots(figsize=(12,12))\n",
    "sns.heatmap(corr, annot=True, ax=ax, cmap='coolwarm', vmin=-1, vmax=1,mask=mask);"
   ]
  },
  {
   "cell_type": "markdown",
   "metadata": {},
   "source": [
    "### Exploratory Data Analysis (EDA)"
   ]
  },
  {
   "cell_type": "markdown",
   "metadata": {},
   "source": [
    "### Question 1: waterfront"
   ]
  },
  {
   "cell_type": "code",
   "execution_count": 37,
   "metadata": {},
   "outputs": [
    {
     "name": "stdout",
     "output_type": "stream",
     "text": [
      "14\n"
     ]
    }
   ],
   "source": [
    "print(len(df1[df1['waterfront'] == 1]))"
   ]
  },
  {
   "cell_type": "code",
   "execution_count": 45,
   "metadata": {},
   "outputs": [
    {
     "data": {
      "text/plain": [
       "0.00065359477124183"
      ]
     },
     "execution_count": 45,
     "metadata": {},
     "output_type": "execute_result"
    }
   ],
   "source": [
    "len(df1[df1['waterfront'] == 1]) / len(df)"
   ]
  },
  {
   "cell_type": "code",
   "execution_count": 46,
   "metadata": {},
   "outputs": [
    {
     "data": {
      "text/plain": [
       "Text(0.5, 0, 'Longitude')"
      ]
     },
     "execution_count": 46,
     "metadata": {},
     "output_type": "execute_result"
    },
    {
     "data": {
      "image/png": "[encoded data removed]",
      "text/plain": [
       "<Figure size 432x288 with 1 Axes>"
      ]
     },
     "metadata": {
      "needs_background": "light"
     },
     "output_type": "display_data"
    }
   ],
   "source": [
    "\n",
    "sns.scatterplot(x= 'long', y= 'lat', hue= 'waterfront', data= df1, \n",
    "                palette= 'tab10')\n",
    "plt.title('Waterfront Properties by Price')\n",
    "plt.ylabel('Latitude')\n",
    "plt.xlabel('Longitude')"
   ]
  },
  {
   "cell_type": "code",
   "execution_count": 44,
   "metadata": {},
   "outputs": [
    {
     "data": {
      "text/plain": [
       "waterfront\n",
       "0.00000   448,608.91000\n",
       "1.00000   794,496.43000\n",
       "Name: price, dtype: float64"
      ]
     },
     "execution_count": 44,
     "metadata": {},
     "output_type": "execute_result"
    }
   ],
   "source": [
    "df1.groupby('waterfront')['price'].mean().round(2)"
   ]
  },
  {
   "cell_type": "code",
   "execution_count": 48,
   "metadata": {},
   "outputs": [
    {
     "data": {
      "text/plain": [
       "<matplotlib.legend.Legend at 0x7fb9c5c4c100>"
      ]
     },
     "execution_count": 48,
     "metadata": {},
     "output_type": "execute_result"
    },
    {
     "data": {
      "image/png": "[encoded data removed]",
      "text/plain": [
       "<Figure size 360x360 with 1 Axes>"
      ]
     },
     "metadata": {
      "needs_background": "light"
     },
     "output_type": "display_data"
    }
   ],
   "source": [
    "labels = ['0: Yes', '1: No']\n",
    "sns.catplot(x=\"waterfront\", y=\"price\", kind=\"bar\", data=df1, color= 'plum')\n",
    "plt.title('Average Price of Properties Not Having vs. Having Waterfront')\n",
    "plt.xlabel('Is it a Waterfront Property?')\n",
    "plt.ylabel('Average Sale Price')\n",
    "plt.legend(labels= labels)"
   ]
  },
  {
   "cell_type": "code",
   "execution_count": 49,
   "metadata": {},
   "outputs": [
    {
     "data": {
      "text/plain": [
       "waterfront\n",
       "0.00000   448,608.91000\n",
       "1.00000   794,496.43000\n",
       "Name: price, dtype: float64"
      ]
     },
     "execution_count": 49,
     "metadata": {},
     "output_type": "execute_result"
    }
   ],
   "source": [
    "df1_w = df1.groupby('waterfront')['price'].mean().round(2)\n",
    "df1_w"
   ]
  },
  {
   "cell_type": "markdown",
   "metadata": {},
   "source": [
    "Getting a house on the water is possible, but there are not a lot of them out there. Plus, if the first time home buyer does want that feature, they'll have to pay!\n",
    "\n",
    "Waterfront: A house or property on the water will run the buyer an extra \\$143,636 more than a house that is inland."
   ]
  },
  {
   "cell_type": "markdown",
   "metadata": {},
   "source": [
    "### Question 2: View"
   ]
  },
  {
   "cell_type": "code",
   "execution_count": 50,
   "metadata": {},
   "outputs": [
    {
     "data": {
      "text/plain": [
       "Text(0.5, 0, 'View')"
      ]
     },
     "execution_count": 50,
     "metadata": {},
     "output_type": "execute_result"
    },
    {
     "data": {
      "image/png": "[encoded data removed]",
      "text/plain": [
       "<Figure size 432x288 with 1 Axes>"
      ]
     },
     "metadata": {
      "needs_background": "light"
     },
     "output_type": "display_data"
    }
   ],
   "source": [
    "plt.plot(df1.groupby('view')['price'].mean().round(2))\n",
    "plt.title('Average Home Sale Price by Season')\n",
    "plt.ylabel('Average Sale Price')\n",
    "plt.xlabel('View')"
   ]
  },
  {
   "cell_type": "code",
   "execution_count": 52,
   "metadata": {},
   "outputs": [
    {
     "data": {
      "text/plain": [
       "Text(0.5, 0, 'View')"
      ]
     },
     "execution_count": 52,
     "metadata": {},
     "output_type": "execute_result"
    },
    {
     "data": {
      "image/png": "[encoded data removed]",
      "text/plain": [
       "<Figure size 432x288 with 1 Axes>"
      ]
     },
     "metadata": {
      "needs_background": "light"
     },
     "output_type": "display_data"
    }
   ],
   "source": [
    "sns.boxplot(x= 'view', y= 'price', data= df1)\n",
    "plt.title('Average Home Sale Price by Season')\n",
    "plt.ylabel('Sale Price')\n",
    "plt.xlabel('View')"
   ]
  },
  {
   "cell_type": "code",
   "execution_count": 35,
   "metadata": {},
   "outputs": [
    {
     "data": {
      "text/plain": [
       "view\n",
       "0.00000   438,366.25000\n",
       "1.00000   600,102.21000\n",
       "2.00000   597,394.67000\n",
       "3.00000   623,018.55000\n",
       "4.00000   777,460.35000\n",
       "Name: price, dtype: float64"
      ]
     },
     "execution_count": 35,
     "metadata": {},
     "output_type": "execute_result"
    }
   ],
   "source": [
    "df1_v = df1.groupby('view')['price'].mean().round(2)\n",
    "df1_v"
   ]
  },
  {
   "cell_type": "markdown",
   "metadata": {},
   "source": [
    "Whoa! It can really pay off to have your house advertised and have a lot of people look at it. There is an average increase of \\$201,741 from houses that were not viewed, to houses that received the most views."
   ]
  },
  {
   "cell_type": "markdown",
   "metadata": {},
   "source": [
    "### Question 3 grade"
   ]
  },
  {
   "cell_type": "code",
   "execution_count": null,
   "metadata": {},
   "outputs": [],
   "source": []
  },
  {
   "cell_type": "code",
   "execution_count": null,
   "metadata": {},
   "outputs": [],
   "source": []
  },
  {
   "cell_type": "code",
   "execution_count": null,
   "metadata": {},
   "outputs": [],
   "source": []
  },
  {
   "cell_type": "markdown",
   "metadata": {},
   "source": [
    "### Baseline Model\n",
    "Now that we cleaned up the data, let's take a look at a baseline model."
   ]
  },
  {
   "cell_type": "code",
   "execution_count": 36,
   "metadata": {},
   "outputs": [
    {
     "data": {
      "text/html": [
       "<table class=\"simpletable\">\n",
       "<caption>OLS Regression Results</caption>\n",
       "<tr>\n",
       "  <th>Dep. Variable:</th>          <td>price</td>      <th>  R-squared:         </th>  <td>   0.675</td>  \n",
       "</tr>\n",
       "<tr>\n",
       "  <th>Model:</th>                   <td>OLS</td>       <th>  Adj. R-squared:    </th>  <td>   0.675</td>  \n",
       "</tr>\n",
       "<tr>\n",
       "  <th>Method:</th>             <td>Least Squares</td>  <th>  F-statistic:       </th>  <td>   1671.</td>  \n",
       "</tr>\n",
       "<tr>\n",
       "  <th>Date:</th>             <td>Sun, 27 Jun 2021</td> <th>  Prob (F-statistic):</th>   <td>  0.00</td>   \n",
       "</tr>\n",
       "<tr>\n",
       "  <th>Time:</th>                 <td>23:57:19</td>     <th>  Log-Likelihood:    </th> <td>-2.0950e+05</td>\n",
       "</tr>\n",
       "<tr>\n",
       "  <th>No. Observations:</th>      <td> 16110</td>      <th>  AIC:               </th>  <td>4.190e+05</td> \n",
       "</tr>\n",
       "<tr>\n",
       "  <th>Df Residuals:</th>          <td> 16089</td>      <th>  BIC:               </th>  <td>4.192e+05</td> \n",
       "</tr>\n",
       "<tr>\n",
       "  <th>Df Model:</th>              <td>    20</td>      <th>                     </th>      <td> </td>     \n",
       "</tr>\n",
       "<tr>\n",
       "  <th>Covariance Type:</th>      <td>nonrobust</td>    <th>                     </th>      <td> </td>     \n",
       "</tr>\n",
       "</table>\n",
       "<table class=\"simpletable\">\n",
       "<tr>\n",
       "        <td></td>           <th>coef</th>     <th>std err</th>      <th>t</th>      <th>P>|t|</th>  <th>[0.025</th>    <th>0.975]</th>  \n",
       "</tr>\n",
       "<tr>\n",
       "  <th>Intercept</th>     <td>-4.392e+07</td> <td> 6.21e+06</td> <td>   -7.071</td> <td> 0.000</td> <td>-5.61e+07</td> <td>-3.17e+07</td>\n",
       "</tr>\n",
       "<tr>\n",
       "  <th>bedrooms</th>      <td>-1.002e+04</td> <td> 1435.872</td> <td>   -6.979</td> <td> 0.000</td> <td>-1.28e+04</td> <td>-7206.667</td>\n",
       "</tr>\n",
       "<tr>\n",
       "  <th>bathrooms</th>     <td> 1.858e+04</td> <td> 2210.142</td> <td>    8.405</td> <td> 0.000</td> <td> 1.42e+04</td> <td> 2.29e+04</td>\n",
       "</tr>\n",
       "<tr>\n",
       "  <th>sqft_living</th>   <td>   81.0034</td> <td>   13.565</td> <td>    5.972</td> <td> 0.000</td> <td>   54.415</td> <td>  107.592</td>\n",
       "</tr>\n",
       "<tr>\n",
       "  <th>sqft_lot</th>      <td>   -2.4121</td> <td>    0.566</td> <td>   -4.264</td> <td> 0.000</td> <td>   -3.521</td> <td>   -1.303</td>\n",
       "</tr>\n",
       "<tr>\n",
       "  <th>floors</th>        <td> 9270.5716</td> <td> 2567.871</td> <td>    3.610</td> <td> 0.000</td> <td> 4237.257</td> <td> 1.43e+04</td>\n",
       "</tr>\n",
       "<tr>\n",
       "  <th>waterfront</th>    <td> 2.596e+05</td> <td> 2.95e+04</td> <td>    8.789</td> <td> 0.000</td> <td> 2.02e+05</td> <td> 3.17e+05</td>\n",
       "</tr>\n",
       "<tr>\n",
       "  <th>view</th>          <td> 3.244e+04</td> <td> 1693.060</td> <td>   19.161</td> <td> 0.000</td> <td> 2.91e+04</td> <td> 3.58e+04</td>\n",
       "</tr>\n",
       "<tr>\n",
       "  <th>condition</th>     <td> 2.748e+04</td> <td> 1465.286</td> <td>   18.755</td> <td> 0.000</td> <td> 2.46e+04</td> <td> 3.04e+04</td>\n",
       "</tr>\n",
       "<tr>\n",
       "  <th>grade</th>         <td> 7.763e+04</td> <td> 1479.043</td> <td>   52.486</td> <td> 0.000</td> <td> 7.47e+04</td> <td> 8.05e+04</td>\n",
       "</tr>\n",
       "<tr>\n",
       "  <th>sqft_above</th>    <td>   12.1730</td> <td>   13.542</td> <td>    0.899</td> <td> 0.369</td> <td>  -14.371</td> <td>   38.717</td>\n",
       "</tr>\n",
       "<tr>\n",
       "  <th>sqft_basement</th> <td>    5.5521</td> <td>   13.419</td> <td>    0.414</td> <td> 0.679</td> <td>  -20.750</td> <td>   31.854</td>\n",
       "</tr>\n",
       "<tr>\n",
       "  <th>yr_built</th>      <td>-1936.5414</td> <td>   45.239</td> <td>  -42.807</td> <td> 0.000</td> <td>-2025.214</td> <td>-1847.869</td>\n",
       "</tr>\n",
       "<tr>\n",
       "  <th>yr_renovated</th>  <td> 3.483e+04</td> <td> 5358.887</td> <td>    6.499</td> <td> 0.000</td> <td> 2.43e+04</td> <td> 4.53e+04</td>\n",
       "</tr>\n",
       "<tr>\n",
       "  <th>zipcode</th>       <td> -266.6844</td> <td>   20.724</td> <td>  -12.868</td> <td> 0.000</td> <td> -307.306</td> <td> -226.063</td>\n",
       "</tr>\n",
       "<tr>\n",
       "  <th>lat</th>           <td> 5.406e+05</td> <td> 6668.358</td> <td>   81.072</td> <td> 0.000</td> <td> 5.28e+05</td> <td> 5.54e+05</td>\n",
       "</tr>\n",
       "<tr>\n",
       "  <th>long</th>          <td>-1.787e+04</td> <td> 8780.910</td> <td>   -2.035</td> <td> 0.042</td> <td>-3.51e+04</td> <td> -656.170</td>\n",
       "</tr>\n",
       "<tr>\n",
       "  <th>sqft_living15</th> <td>   46.2893</td> <td>    2.719</td> <td>   17.027</td> <td> 0.000</td> <td>   40.961</td> <td>   51.618</td>\n",
       "</tr>\n",
       "<tr>\n",
       "  <th>sqft_lot15</th>    <td>   -6.6520</td> <td>    0.645</td> <td>  -10.306</td> <td> 0.000</td> <td>   -7.917</td> <td>   -5.387</td>\n",
       "</tr>\n",
       "<tr>\n",
       "  <th>month_sold</th>    <td>  190.6173</td> <td>  439.628</td> <td>    0.434</td> <td> 0.665</td> <td> -671.103</td> <td> 1052.338</td>\n",
       "</tr>\n",
       "<tr>\n",
       "  <th>year_sold</th>     <td> 2.262e+04</td> <td> 2932.618</td> <td>    7.714</td> <td> 0.000</td> <td> 1.69e+04</td> <td> 2.84e+04</td>\n",
       "</tr>\n",
       "</table>\n",
       "<table class=\"simpletable\">\n",
       "<tr>\n",
       "  <th>Omnibus:</th>       <td>1652.406</td> <th>  Durbin-Watson:     </th> <td>   1.989</td>\n",
       "</tr>\n",
       "<tr>\n",
       "  <th>Prob(Omnibus):</th>  <td> 0.000</td>  <th>  Jarque-Bera (JB):  </th> <td>3342.605</td>\n",
       "</tr>\n",
       "<tr>\n",
       "  <th>Skew:</th>           <td> 0.666</td>  <th>  Prob(JB):          </th> <td>    0.00</td>\n",
       "</tr>\n",
       "<tr>\n",
       "  <th>Kurtosis:</th>       <td> 4.791</td>  <th>  Cond. No.          </th> <td>7.23e+08</td>\n",
       "</tr>\n",
       "</table><br/><br/>Notes:<br/>[1] Standard Errors assume that the covariance matrix of the errors is correctly specified.<br/>[2] The condition number is large, 7.23e+08. This might indicate that there are<br/>strong multicollinearity or other numerical problems."
      ],
      "text/plain": [
       "<class 'statsmodels.iolib.summary.Summary'>\n",
       "\"\"\"\n",
       "                            OLS Regression Results                            \n",
       "==============================================================================\n",
       "Dep. Variable:                  price   R-squared:                       0.675\n",
       "Model:                            OLS   Adj. R-squared:                  0.675\n",
       "Method:                 Least Squares   F-statistic:                     1671.\n",
       "Date:                Sun, 27 Jun 2021   Prob (F-statistic):               0.00\n",
       "Time:                        23:57:19   Log-Likelihood:            -2.0950e+05\n",
       "No. Observations:               16110   AIC:                         4.190e+05\n",
       "Df Residuals:                   16089   BIC:                         4.192e+05\n",
       "Df Model:                          20                                         \n",
       "Covariance Type:            nonrobust                                         \n",
       "=================================================================================\n",
       "                    coef    std err          t      P>|t|      [0.025      0.975]\n",
       "---------------------------------------------------------------------------------\n",
       "Intercept     -4.392e+07   6.21e+06     -7.071      0.000   -5.61e+07   -3.17e+07\n",
       "bedrooms      -1.002e+04   1435.872     -6.979      0.000   -1.28e+04   -7206.667\n",
       "bathrooms      1.858e+04   2210.142      8.405      0.000    1.42e+04    2.29e+04\n",
       "sqft_living      81.0034     13.565      5.972      0.000      54.415     107.592\n",
       "sqft_lot         -2.4121      0.566     -4.264      0.000      -3.521      -1.303\n",
       "floors         9270.5716   2567.871      3.610      0.000    4237.257    1.43e+04\n",
       "waterfront     2.596e+05   2.95e+04      8.789      0.000    2.02e+05    3.17e+05\n",
       "view           3.244e+04   1693.060     19.161      0.000    2.91e+04    3.58e+04\n",
       "condition      2.748e+04   1465.286     18.755      0.000    2.46e+04    3.04e+04\n",
       "grade          7.763e+04   1479.043     52.486      0.000    7.47e+04    8.05e+04\n",
       "sqft_above       12.1730     13.542      0.899      0.369     -14.371      38.717\n",
       "sqft_basement     5.5521     13.419      0.414      0.679     -20.750      31.854\n",
       "yr_built      -1936.5414     45.239    -42.807      0.000   -2025.214   -1847.869\n",
       "yr_renovated   3.483e+04   5358.887      6.499      0.000    2.43e+04    4.53e+04\n",
       "zipcode        -266.6844     20.724    -12.868      0.000    -307.306    -226.063\n",
       "lat            5.406e+05   6668.358     81.072      0.000    5.28e+05    5.54e+05\n",
       "long          -1.787e+04   8780.910     -2.035      0.042   -3.51e+04    -656.170\n",
       "sqft_living15    46.2893      2.719     17.027      0.000      40.961      51.618\n",
       "sqft_lot15       -6.6520      0.645    -10.306      0.000      -7.917      -5.387\n",
       "month_sold      190.6173    439.628      0.434      0.665    -671.103    1052.338\n",
       "year_sold      2.262e+04   2932.618      7.714      0.000    1.69e+04    2.84e+04\n",
       "==============================================================================\n",
       "Omnibus:                     1652.406   Durbin-Watson:                   1.989\n",
       "Prob(Omnibus):                  0.000   Jarque-Bera (JB):             3342.605\n",
       "Skew:                           0.666   Prob(JB):                         0.00\n",
       "Kurtosis:                       4.791   Cond. No.                     7.23e+08\n",
       "==============================================================================\n",
       "\n",
       "Notes:\n",
       "[1] Standard Errors assume that the covariance matrix of the errors is correctly specified.\n",
       "[2] The condition number is large, 7.23e+08. This might indicate that there are\n",
       "strong multicollinearity or other numerical problems.\n",
       "\"\"\""
      ]
     },
     "metadata": {},
     "output_type": "display_data"
    },
    {
     "data": {
      "text/plain": [
       "(<statsmodels.regression.linear_model.RegressionResultsWrapper at 0x7fb9c5a019d0>,\n",
       " <Figure size 1008x432 with 2 Axes>,\n",
       " array([<AxesSubplot:title={'center':'Q-Q Plot'}, xlabel='Theoretical Quantiles', ylabel='Sample Quantiles'>,\n",
       "        <AxesSubplot:title={'center':'Homoscedasticity of Residuals'}, xlabel='Predicted Price', ylabel='Residuals'>],\n",
       "       dtype=object))"
      ]
     },
     "execution_count": 36,
     "metadata": {},
     "output_type": "execute_result"
    },
    {
     "data": {
      "image/png": "[encoded data removed]",
      "text/plain": [
       "<Figure size 1008x432 with 2 Axes>"
      ]
     },
     "metadata": {
      "needs_background": "light"
     },
     "output_type": "display_data"
    }
   ],
   "source": [
    "result_plot(df1)"
   ]
  },
  {
   "cell_type": "markdown",
   "metadata": {},
   "source": [
    "## Model 1"
   ]
  },
  {
   "cell_type": "code",
   "execution_count": null,
   "metadata": {},
   "outputs": [],
   "source": []
  },
  {
   "cell_type": "markdown",
   "metadata": {},
   "source": [
    "## Model 2"
   ]
  },
  {
   "cell_type": "markdown",
   "metadata": {},
   "source": [
    "## Model 3"
   ]
  },
  {
   "cell_type": "markdown",
   "metadata": {},
   "source": [
    "## Conclusions Placeholder\n",
    "This analysis leads to three recommendations for creating movies :\n",
    "\n",
    "**1. Release movies in May, June, July, November, or December.** Our analysis shows that summertime and holiday seasons are the best time of year to release a movie. If Microsoft wants to release a movie across the world simultaneously, I recommend launching a movie in June or July. If different timeline can be applied, release a movie in the States in May first, then internationally in June.\n",
    "\n",
    "**2. Produce a movie in Mystery, Horror, Animation genres.** Microsoft has the capability to run movie business in many countries as it has many locations worldwide. Therefore, I recommend producing a movie in Mystery, Horror, and Animation to target audience globally.\n",
    "\n",
    "**3. Recruit people with proven stats.** I provided lists of top 10 actors and directors in top 3 genres that generated the most profit. Microsoft should contact these individuals and try to recruit them to enter this competitive movie industry"
   ]
  },
  {
   "cell_type": "markdown",
   "metadata": {},
   "source": [
    "## Next Steps Placeholder\n",
    "Further analyses could lead to additional insights:\n",
    "* **ROI Trend in Popular Genres**: while we have identified which top 3 genres have generated the most profit, such analysis can provide whether the business is continuously growing in those genres over time.\n",
    "* **Ideal Budget Range**: This modeling could predict the ideal production budget for the movies that Microsoft wants to produce."
   ]
  },
  {
   "cell_type": "code",
   "execution_count": null,
   "metadata": {},
   "outputs": [],
   "source": []
  }
 ],
 "metadata": {
  "kernelspec": {
   "display_name": "Python 3",
   "language": "python",
   "name": "python3"
  },
  "language_info": {
   "codemirror_mode": {
    "name": "ipython",
    "version": 3
   },
   "file_extension": ".py",
   "mimetype": "text/x-python",
   "name": "python",
   "nbconvert_exporter": "python",
   "pygments_lexer": "ipython3",
   "version": "3.8.5"
  }
 },
 "nbformat": 4,
 "nbformat_minor": 4
}
